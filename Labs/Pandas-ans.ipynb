{
 "cells": [
  {
   "cell_type": "markdown",
   "metadata": {},
   "source": [
    "# ccClub: Python for Data Analysis\n",
    "---\n",
    "## Introduction to Pandas"
   ]
  },
  {
   "cell_type": "markdown",
   "metadata": {},
   "source": [
    "## Overview\n",
    "\n",
    "- How to Represent Data?\n",
    "- Pandas & DataFrame\n",
    "- Data Selection: Indexing & Slicing\n",
    "- Data Operation: Basics & Concate\n",
    "- Merging Data\n",
    "- Exericse"
   ]
  },
  {
   "cell_type": "markdown",
   "metadata": {},
   "source": [
    "### Install Pandas package\n",
    "\n",
    ">```text\n",
    "pip3 install pandas\n",
    "```"
   ]
  },
  {
   "cell_type": "markdown",
   "metadata": {},
   "source": [
    "# Part 1: How to Represent Data?\n",
    "\n",
    "- We have introduced NumPy in the past 2 weeks. It seems like we can use NumPy to represent our data.\n",
    "- For example, the grades data: \n",
    "\n",
    "```python\n",
    "grades           \n",
    "           classA  classB  classC\n",
    "Midterm1 [[   67     55      72]\n",
    "Midterm2  [   89     75      95]\n",
    "Final     [   79     64      86]]\n",
    "\n",
    "```"
   ]
  },
  {
   "cell_type": "markdown",
   "metadata": {},
   "source": [
    "### Representation 1. [Two-way contigency table](https://en.wikipedia.org/wiki/Contingency_table).\n",
    "\n",
    "|              | ClassA  | ClassB | ClassC |\n",
    "|-------------:|:-------:|:------:|:-------:\n",
    "| **Midterm1** |    67   |   55   |   72   |\n",
    "| **Midterm2** |    89   |   75   |   95   |\n",
    "| **Final**    |    79   |   64   |   86   |"
   ]
  },
  {
   "cell_type": "code",
   "execution_count": 1,
   "metadata": {},
   "outputs": [
    {
     "name": "stdout",
     "output_type": "stream",
     "text": [
      "[[67 55 72]\n",
      " [89 75 95]\n",
      " [79 64 86]]\n"
     ]
    }
   ],
   "source": [
    "import numpy as np\n",
    "grades = np.array([[67, 55, 72],[89, 75, 95],[79, 64, 86]])\n",
    "print(grades)"
   ]
  },
  {
   "cell_type": "markdown",
   "metadata": {},
   "source": [
    "### However, what if we have grades data for many subjects?\n",
    "\n",
    "```python\n",
    "English grades \n",
    "           classA  classB  classC\n",
    "Midterm1 [[   67     55      72]\n",
    "Midterm2  [   89     75      95]\n",
    "Final     [   79     64      86]]\n",
    "\n",
    "\n",
    "Math grades\n",
    "           classA  classB  classC\n",
    "Midterm1 [[   73     81      45]\n",
    "Midterm2  [   50     95      58]\n",
    "Final     [   97     74      66]]\n",
    "```"
   ]
  },
  {
   "cell_type": "markdown",
   "metadata": {},
   "source": [
    "### We may want to represent our data more like this:\n",
    "\n",
    "| Class | Midterm1 | Midterm2 | Final | Subject \n",
    "| ----- | -------- | -------- | ----- | -------\n",
    "| A     | 67       | 89       | 79    | English\n",
    "| B     | 55       | 75       | 64    | English\n",
    "| C     | 72       | 95       | 86    | English\n",
    "| A     | 73       | 50       | 97    | Math\n",
    "| B     | 81       | 95       | 74    | Math\n",
    "| C     | 45       | 58       | 66    | Math"
   ]
  },
  {
   "cell_type": "markdown",
   "metadata": {},
   "source": [
    "### Representation 2. Data Frame or 2-D Table\n",
    "\n",
    "1. each column represents a **_variable_**\n",
    "2. each row represents an **_observation_**\n",
    "3. each entry of the table represents a single **_value_**\n",
    "\n",
    "![R for Data Science](http://r4ds.had.co.nz/images/tidy-1.png)"
   ]
  },
  {
   "cell_type": "markdown",
   "metadata": {},
   "source": [
    "# Part 2: Say Hi to Pandas\n",
    "\n",
    "![pandas](http://www.telegraph.co.uk/content/dam/news/2016/08/23/106598324PandawaveNEWS_trans_NvBQzQNjv4Bqeo_i_u9APj8RuoebjoAHt0k9u7HhRJvuo-ZLenGRumA.jpg?imwidth=450)"
   ]
  },
  {
   "cell_type": "markdown",
   "metadata": {},
   "source": [
    "# Pandas & DataFrame\n",
    "\n",
    "- According to the Wikipedia, “the name is derived from the term '[panel data](https://en.wikipedia.org/wiki/Panel_data)', an [econometrics](https://en.wikipedia.org/wiki/Econometrics) term for multidimensional structured data sets.”\n",
    "- Pandas is package built on top of Numpy that allows us to work on multidimensional data easily.\n",
    "- In pandas, there are 3 fundamental data structures: **Series, Index & DataFrame**.\n",
    "- We'll focus on DataFrame here only.\n",
    "\n",
    "**You can learn more about Pandas here: http://pandas.pydata.org/**"
   ]
  },
  {
   "cell_type": "code",
   "execution_count": 2,
   "metadata": {},
   "outputs": [
    {
     "data": {
      "text/plain": [
       "'0.19.2'"
      ]
     },
     "execution_count": 2,
     "metadata": {},
     "output_type": "execute_result"
    }
   ],
   "source": [
    "import pandas as pd\n",
    "pd.__version__"
   ]
  },
  {
   "cell_type": "markdown",
   "metadata": {},
   "source": [
    "## 2-1: DataFrame\n",
    "\n",
    "- DataFrame is very similar to a table or you can think of it as an Excel sheet.\n",
    "- You can store data with heterogenous types (even missing data).\n",
    "- In a dataframe, we will have columns and rows. \n",
    "- Columns and rows (indexs) can also have associated labels as their name."
   ]
  },
  {
   "cell_type": "markdown",
   "metadata": {},
   "source": [
    "### Use  `.DataFrame()` to create a DataFrame"
   ]
  },
  {
   "cell_type": "code",
   "execution_count": 3,
   "metadata": {},
   "outputs": [
    {
     "name": "stdout",
     "output_type": "stream",
     "text": [
      "NumPy array:\n",
      " [[67 55 72]\n",
      " [89 75 95]\n",
      " [79 64 86]]\n",
      "\n",
      "Pandas DataFrame:\n"
     ]
    },
    {
     "data": {
      "text/html": [
       "<div>\n",
       "<table border=\"1\" class=\"dataframe\">\n",
       "  <thead>\n",
       "    <tr style=\"text-align: right;\">\n",
       "      <th></th>\n",
       "      <th>0</th>\n",
       "      <th>1</th>\n",
       "      <th>2</th>\n",
       "    </tr>\n",
       "  </thead>\n",
       "  <tbody>\n",
       "    <tr>\n",
       "      <th>0</th>\n",
       "      <td>67</td>\n",
       "      <td>55</td>\n",
       "      <td>72</td>\n",
       "    </tr>\n",
       "    <tr>\n",
       "      <th>1</th>\n",
       "      <td>89</td>\n",
       "      <td>75</td>\n",
       "      <td>95</td>\n",
       "    </tr>\n",
       "    <tr>\n",
       "      <th>2</th>\n",
       "      <td>79</td>\n",
       "      <td>64</td>\n",
       "      <td>86</td>\n",
       "    </tr>\n",
       "  </tbody>\n",
       "</table>\n",
       "</div>"
      ],
      "text/plain": [
       "    0   1   2\n",
       "0  67  55  72\n",
       "1  89  75  95\n",
       "2  79  64  86"
      ]
     },
     "metadata": {},
     "output_type": "display_data"
    }
   ],
   "source": [
    "# Create dataframe from numpy array\n",
    "\n",
    "print('NumPy array:\\n', grades)\n",
    "print('\\nPandas DataFrame:')\n",
    "display(pd.DataFrame(grades))"
   ]
  },
  {
   "cell_type": "markdown",
   "metadata": {},
   "source": [
    "### Create DataFrame with columns and rows labels"
   ]
  },
  {
   "cell_type": "code",
   "execution_count": 4,
   "metadata": {},
   "outputs": [
    {
     "data": {
      "text/html": [
       "<div>\n",
       "<table border=\"1\" class=\"dataframe\">\n",
       "  <thead>\n",
       "    <tr style=\"text-align: right;\">\n",
       "      <th></th>\n",
       "      <th>classA</th>\n",
       "      <th>classB</th>\n",
       "      <th>classC</th>\n",
       "    </tr>\n",
       "  </thead>\n",
       "  <tbody>\n",
       "    <tr>\n",
       "      <th>Midterm1</th>\n",
       "      <td>67</td>\n",
       "      <td>55</td>\n",
       "      <td>72</td>\n",
       "    </tr>\n",
       "    <tr>\n",
       "      <th>Midterm2</th>\n",
       "      <td>89</td>\n",
       "      <td>75</td>\n",
       "      <td>95</td>\n",
       "    </tr>\n",
       "    <tr>\n",
       "      <th>Final</th>\n",
       "      <td>79</td>\n",
       "      <td>64</td>\n",
       "      <td>86</td>\n",
       "    </tr>\n",
       "  </tbody>\n",
       "</table>\n",
       "</div>"
      ],
      "text/plain": [
       "          classA  classB  classC\n",
       "Midterm1      67      55      72\n",
       "Midterm2      89      75      95\n",
       "Final         79      64      86"
      ]
     },
     "execution_count": 4,
     "metadata": {},
     "output_type": "execute_result"
    }
   ],
   "source": [
    "# give labels for columns and rows\n",
    "\n",
    "grades = pd.DataFrame(grades, \n",
    "                      columns=['classA', 'classB', 'classC'], \n",
    "                      index=['Midterm1', 'Midterm2', 'Final'])\n",
    "grades"
   ]
  },
  {
   "cell_type": "markdown",
   "metadata": {},
   "source": [
    "### Use `.columns` and `.index` to access the the labels"
   ]
  },
  {
   "cell_type": "code",
   "execution_count": 5,
   "metadata": {
    "scrolled": true
   },
   "outputs": [
    {
     "name": "stdout",
     "output_type": "stream",
     "text": [
      "Column names: Index(['classA', 'classB', 'classC'], dtype='object')\n",
      "Index names: Index(['Midterm1', 'Midterm2', 'Final'], dtype='object')\n"
     ]
    }
   ],
   "source": [
    "# get columns and index names\n",
    "\n",
    "print('Column names:', grades.columns)\n",
    "print('Index names:', grades.index)"
   ]
  },
  {
   "cell_type": "markdown",
   "metadata": {},
   "source": [
    "### Set column and index names via `.columns` or `.index`."
   ]
  },
  {
   "cell_type": "code",
   "execution_count": 6,
   "metadata": {},
   "outputs": [
    {
     "data": {
      "text/html": [
       "<div>\n",
       "<table border=\"1\" class=\"dataframe\">\n",
       "  <thead>\n",
       "    <tr style=\"text-align: right;\">\n",
       "      <th></th>\n",
       "      <th>Class_A</th>\n",
       "      <th>Class_B</th>\n",
       "      <th>Class_C</th>\n",
       "    </tr>\n",
       "  </thead>\n",
       "  <tbody>\n",
       "    <tr>\n",
       "      <th>Midterm_1</th>\n",
       "      <td>67</td>\n",
       "      <td>55</td>\n",
       "      <td>72</td>\n",
       "    </tr>\n",
       "    <tr>\n",
       "      <th>Midterm_2</th>\n",
       "      <td>89</td>\n",
       "      <td>75</td>\n",
       "      <td>95</td>\n",
       "    </tr>\n",
       "    <tr>\n",
       "      <th>Midterm_3</th>\n",
       "      <td>79</td>\n",
       "      <td>64</td>\n",
       "      <td>86</td>\n",
       "    </tr>\n",
       "  </tbody>\n",
       "</table>\n",
       "</div>"
      ],
      "text/plain": [
       "           Class_A  Class_B  Class_C\n",
       "Midterm_1       67       55       72\n",
       "Midterm_2       89       75       95\n",
       "Midterm_3       79       64       86"
      ]
     },
     "metadata": {},
     "output_type": "display_data"
    }
   ],
   "source": [
    "# copy the grades dataframe\n",
    "grades_demo = grades.copy()\n",
    "\n",
    "grades_demo.columns = ['Class_A', 'Class_B', 'Class_C']\n",
    "grades_demo.index = ['Midterm_1', 'Midterm_2', 'Midterm_3']\n",
    "\n",
    "display(grades_demo)"
   ]
  },
  {
   "cell_type": "markdown",
   "metadata": {},
   "source": [
    "### Create DataFrame using Dictionary Style"
   ]
  },
  {
   "cell_type": "code",
   "execution_count": 7,
   "metadata": {},
   "outputs": [
    {
     "data": {
      "text/html": [
       "<div>\n",
       "<table border=\"1\" class=\"dataframe\">\n",
       "  <thead>\n",
       "    <tr style=\"text-align: right;\">\n",
       "      <th></th>\n",
       "      <th>Plan</th>\n",
       "      <th>User</th>\n",
       "    </tr>\n",
       "  </thead>\n",
       "  <tbody>\n",
       "    <tr>\n",
       "      <th>0</th>\n",
       "      <td>family plan</td>\n",
       "      <td>Kevin</td>\n",
       "    </tr>\n",
       "    <tr>\n",
       "      <th>1</th>\n",
       "      <td>individual plan</td>\n",
       "      <td>Belle</td>\n",
       "    </tr>\n",
       "    <tr>\n",
       "      <th>2</th>\n",
       "      <td>individual plan</td>\n",
       "      <td>國維</td>\n",
       "    </tr>\n",
       "    <tr>\n",
       "      <th>3</th>\n",
       "      <td>free</td>\n",
       "      <td>黃和</td>\n",
       "    </tr>\n",
       "    <tr>\n",
       "      <th>4</th>\n",
       "      <td>free</td>\n",
       "      <td>Alicia</td>\n",
       "    </tr>\n",
       "  </tbody>\n",
       "</table>\n",
       "</div>"
      ],
      "text/plain": [
       "              Plan    User\n",
       "0      family plan   Kevin\n",
       "1  individual plan   Belle\n",
       "2  individual plan      國維\n",
       "3             free      黃和\n",
       "4             free  Alicia"
      ]
     },
     "metadata": {},
     "output_type": "display_data"
    },
    {
     "data": {
      "text/html": [
       "<div>\n",
       "<table border=\"1\" class=\"dataframe\">\n",
       "  <thead>\n",
       "    <tr style=\"text-align: right;\">\n",
       "      <th></th>\n",
       "      <th>JoinYear</th>\n",
       "      <th>User</th>\n",
       "    </tr>\n",
       "  </thead>\n",
       "  <tbody>\n",
       "    <tr>\n",
       "      <th>0</th>\n",
       "      <td>2013</td>\n",
       "      <td>Kevin</td>\n",
       "    </tr>\n",
       "    <tr>\n",
       "      <th>1</th>\n",
       "      <td>2014</td>\n",
       "      <td>Belle</td>\n",
       "    </tr>\n",
       "    <tr>\n",
       "      <th>2</th>\n",
       "      <td>2015</td>\n",
       "      <td>國維</td>\n",
       "    </tr>\n",
       "    <tr>\n",
       "      <th>3</th>\n",
       "      <td>2016</td>\n",
       "      <td>黃和</td>\n",
       "    </tr>\n",
       "    <tr>\n",
       "      <th>4</th>\n",
       "      <td>2017</td>\n",
       "      <td>Alicia</td>\n",
       "    </tr>\n",
       "  </tbody>\n",
       "</table>\n",
       "</div>"
      ],
      "text/plain": [
       "   JoinYear    User\n",
       "0      2013   Kevin\n",
       "1      2014   Belle\n",
       "2      2015      國維\n",
       "3      2016      黃和\n",
       "4      2017  Alicia"
      ]
     },
     "metadata": {},
     "output_type": "display_data"
    }
   ],
   "source": [
    "# Create two dataframes\n",
    "\n",
    "users_plan = pd.DataFrame({'User': ['Kevin', 'Belle', '國維', '黃和', 'Alicia'],\n",
    "                    'Plan': ['family plan', 'individual plan', 'individual plan', 'free', 'free']})\n",
    "users_join = pd.DataFrame({'User': ['Kevin', 'Belle', '國維', '黃和', 'Alicia'],\n",
    "                    'JoinYear': [2013, 2014, 2015, 2016, 2017]})\n",
    "\n",
    "display(users_plan, users_join)"
   ]
  },
  {
   "cell_type": "markdown",
   "metadata": {},
   "source": [
    "## 2-2: Read in Data from .CSV file\n",
    "\n",
    "- In the real world, our data may be stored in excel.\n",
    "- We can read in data from excel `.csv` file very easily using **`.read_csv()`** function."
   ]
  },
  {
   "cell_type": "code",
   "execution_count": 9,
   "metadata": {},
   "outputs": [
    {
     "data": {
      "text/html": [
       "<div>\n",
       "<table border=\"1\" class=\"dataframe\">\n",
       "  <thead>\n",
       "    <tr style=\"text-align: right;\">\n",
       "      <th></th>\n",
       "      <th>Class</th>\n",
       "      <th>Midterm1</th>\n",
       "      <th>Midterm2</th>\n",
       "      <th>Final</th>\n",
       "      <th>Subject</th>\n",
       "    </tr>\n",
       "  </thead>\n",
       "  <tbody>\n",
       "    <tr>\n",
       "      <th>0</th>\n",
       "      <td>A</td>\n",
       "      <td>67</td>\n",
       "      <td>89</td>\n",
       "      <td>79</td>\n",
       "      <td>English</td>\n",
       "    </tr>\n",
       "    <tr>\n",
       "      <th>1</th>\n",
       "      <td>B</td>\n",
       "      <td>55</td>\n",
       "      <td>75</td>\n",
       "      <td>64</td>\n",
       "      <td>English</td>\n",
       "    </tr>\n",
       "    <tr>\n",
       "      <th>2</th>\n",
       "      <td>C</td>\n",
       "      <td>72</td>\n",
       "      <td>95</td>\n",
       "      <td>86</td>\n",
       "      <td>English</td>\n",
       "    </tr>\n",
       "    <tr>\n",
       "      <th>3</th>\n",
       "      <td>A</td>\n",
       "      <td>73</td>\n",
       "      <td>50</td>\n",
       "      <td>97</td>\n",
       "      <td>Math</td>\n",
       "    </tr>\n",
       "    <tr>\n",
       "      <th>4</th>\n",
       "      <td>B</td>\n",
       "      <td>81</td>\n",
       "      <td>95</td>\n",
       "      <td>74</td>\n",
       "      <td>Math</td>\n",
       "    </tr>\n",
       "    <tr>\n",
       "      <th>5</th>\n",
       "      <td>C</td>\n",
       "      <td>45</td>\n",
       "      <td>58</td>\n",
       "      <td>66</td>\n",
       "      <td>Math</td>\n",
       "    </tr>\n",
       "    <tr>\n",
       "      <th>6</th>\n",
       "      <td>A</td>\n",
       "      <td>73</td>\n",
       "      <td>63</td>\n",
       "      <td>93</td>\n",
       "      <td>Science</td>\n",
       "    </tr>\n",
       "    <tr>\n",
       "      <th>7</th>\n",
       "      <td>B</td>\n",
       "      <td>57</td>\n",
       "      <td>86</td>\n",
       "      <td>64</td>\n",
       "      <td>Science</td>\n",
       "    </tr>\n",
       "    <tr>\n",
       "      <th>8</th>\n",
       "      <td>C</td>\n",
       "      <td>83</td>\n",
       "      <td>59</td>\n",
       "      <td>58</td>\n",
       "      <td>Science</td>\n",
       "    </tr>\n",
       "  </tbody>\n",
       "</table>\n",
       "</div>"
      ],
      "text/plain": [
       "  Class  Midterm1  Midterm2  Final  Subject\n",
       "0     A        67        89     79  English\n",
       "1     B        55        75     64  English\n",
       "2     C        72        95     86  English\n",
       "3     A        73        50     97     Math\n",
       "4     B        81        95     74     Math\n",
       "5     C        45        58     66     Math\n",
       "6     A        73        63     93  Science\n",
       "7     B        57        86     64  Science\n",
       "8     C        83        59     58  Science"
      ]
     },
     "execution_count": 9,
     "metadata": {},
     "output_type": "execute_result"
    }
   ],
   "source": [
    "# read data with header\n",
    "\n",
    "highschool_grades = pd.read_csv('data/highschool_grades.csv')\n",
    "highschool_grades"
   ]
  },
  {
   "cell_type": "code",
   "execution_count": 11,
   "metadata": {},
   "outputs": [
    {
     "data": {
      "text/html": [
       "<div>\n",
       "<table border=\"1\" class=\"dataframe\">\n",
       "  <thead>\n",
       "    <tr style=\"text-align: right;\">\n",
       "      <th></th>\n",
       "      <th>0</th>\n",
       "      <th>1</th>\n",
       "      <th>2</th>\n",
       "      <th>3</th>\n",
       "      <th>4</th>\n",
       "    </tr>\n",
       "  </thead>\n",
       "  <tbody>\n",
       "    <tr>\n",
       "      <th>0</th>\n",
       "      <td>Class</td>\n",
       "      <td>Midterm1</td>\n",
       "      <td>Midterm2</td>\n",
       "      <td>Final</td>\n",
       "      <td>Subject</td>\n",
       "    </tr>\n",
       "    <tr>\n",
       "      <th>1</th>\n",
       "      <td>A</td>\n",
       "      <td>67</td>\n",
       "      <td>89</td>\n",
       "      <td>79</td>\n",
       "      <td>English</td>\n",
       "    </tr>\n",
       "    <tr>\n",
       "      <th>2</th>\n",
       "      <td>B</td>\n",
       "      <td>55</td>\n",
       "      <td>75</td>\n",
       "      <td>64</td>\n",
       "      <td>English</td>\n",
       "    </tr>\n",
       "    <tr>\n",
       "      <th>3</th>\n",
       "      <td>C</td>\n",
       "      <td>72</td>\n",
       "      <td>95</td>\n",
       "      <td>86</td>\n",
       "      <td>English</td>\n",
       "    </tr>\n",
       "    <tr>\n",
       "      <th>4</th>\n",
       "      <td>A</td>\n",
       "      <td>73</td>\n",
       "      <td>50</td>\n",
       "      <td>97</td>\n",
       "      <td>Math</td>\n",
       "    </tr>\n",
       "    <tr>\n",
       "      <th>5</th>\n",
       "      <td>B</td>\n",
       "      <td>81</td>\n",
       "      <td>95</td>\n",
       "      <td>74</td>\n",
       "      <td>Math</td>\n",
       "    </tr>\n",
       "    <tr>\n",
       "      <th>6</th>\n",
       "      <td>C</td>\n",
       "      <td>45</td>\n",
       "      <td>58</td>\n",
       "      <td>66</td>\n",
       "      <td>Math</td>\n",
       "    </tr>\n",
       "    <tr>\n",
       "      <th>7</th>\n",
       "      <td>A</td>\n",
       "      <td>73</td>\n",
       "      <td>63</td>\n",
       "      <td>93</td>\n",
       "      <td>Science</td>\n",
       "    </tr>\n",
       "    <tr>\n",
       "      <th>8</th>\n",
       "      <td>B</td>\n",
       "      <td>57</td>\n",
       "      <td>86</td>\n",
       "      <td>64</td>\n",
       "      <td>Science</td>\n",
       "    </tr>\n",
       "    <tr>\n",
       "      <th>9</th>\n",
       "      <td>C</td>\n",
       "      <td>83</td>\n",
       "      <td>59</td>\n",
       "      <td>58</td>\n",
       "      <td>Science</td>\n",
       "    </tr>\n",
       "  </tbody>\n",
       "</table>\n",
       "</div>"
      ],
      "text/plain": [
       "       0         1         2      3        4\n",
       "0  Class  Midterm1  Midterm2  Final  Subject\n",
       "1      A        67        89     79  English\n",
       "2      B        55        75     64  English\n",
       "3      C        72        95     86  English\n",
       "4      A        73        50     97     Math\n",
       "5      B        81        95     74     Math\n",
       "6      C        45        58     66     Math\n",
       "7      A        73        63     93  Science\n",
       "8      B        57        86     64  Science\n",
       "9      C        83        59     58  Science"
      ]
     },
     "execution_count": 11,
     "metadata": {},
     "output_type": "execute_result"
    }
   ],
   "source": [
    "# read data without header\n",
    "\n",
    "pd.read_csv('data/highschool_grades.csv', header=None)"
   ]
  },
  {
   "cell_type": "markdown",
   "metadata": {},
   "source": [
    "### Inspect DataFrame\n",
    "\n",
    "- Use `.head()` or `.tail()` to inspect your data.\n",
    "- List top 5 or last 5 by default, but you can also specify a number."
   ]
  },
  {
   "cell_type": "code",
   "execution_count": 12,
   "metadata": {},
   "outputs": [
    {
     "data": {
      "text/html": [
       "<div>\n",
       "<table border=\"1\" class=\"dataframe\">\n",
       "  <thead>\n",
       "    <tr style=\"text-align: right;\">\n",
       "      <th></th>\n",
       "      <th>Class</th>\n",
       "      <th>Midterm1</th>\n",
       "      <th>Midterm2</th>\n",
       "      <th>Final</th>\n",
       "      <th>Subject</th>\n",
       "    </tr>\n",
       "  </thead>\n",
       "  <tbody>\n",
       "    <tr>\n",
       "      <th>0</th>\n",
       "      <td>A</td>\n",
       "      <td>67</td>\n",
       "      <td>89</td>\n",
       "      <td>79</td>\n",
       "      <td>English</td>\n",
       "    </tr>\n",
       "    <tr>\n",
       "      <th>1</th>\n",
       "      <td>B</td>\n",
       "      <td>55</td>\n",
       "      <td>75</td>\n",
       "      <td>64</td>\n",
       "      <td>English</td>\n",
       "    </tr>\n",
       "    <tr>\n",
       "      <th>2</th>\n",
       "      <td>C</td>\n",
       "      <td>72</td>\n",
       "      <td>95</td>\n",
       "      <td>86</td>\n",
       "      <td>English</td>\n",
       "    </tr>\n",
       "    <tr>\n",
       "      <th>3</th>\n",
       "      <td>A</td>\n",
       "      <td>73</td>\n",
       "      <td>50</td>\n",
       "      <td>97</td>\n",
       "      <td>Math</td>\n",
       "    </tr>\n",
       "    <tr>\n",
       "      <th>4</th>\n",
       "      <td>B</td>\n",
       "      <td>81</td>\n",
       "      <td>95</td>\n",
       "      <td>74</td>\n",
       "      <td>Math</td>\n",
       "    </tr>\n",
       "  </tbody>\n",
       "</table>\n",
       "</div>"
      ],
      "text/plain": [
       "  Class  Midterm1  Midterm2  Final  Subject\n",
       "0     A        67        89     79  English\n",
       "1     B        55        75     64  English\n",
       "2     C        72        95     86  English\n",
       "3     A        73        50     97     Math\n",
       "4     B        81        95     74     Math"
      ]
     },
     "execution_count": 12,
     "metadata": {},
     "output_type": "execute_result"
    }
   ],
   "source": [
    "highschool_grades.head()"
   ]
  },
  {
   "cell_type": "code",
   "execution_count": 13,
   "metadata": {},
   "outputs": [
    {
     "data": {
      "text/html": [
       "<div>\n",
       "<table border=\"1\" class=\"dataframe\">\n",
       "  <thead>\n",
       "    <tr style=\"text-align: right;\">\n",
       "      <th></th>\n",
       "      <th>Class</th>\n",
       "      <th>Midterm1</th>\n",
       "      <th>Midterm2</th>\n",
       "      <th>Final</th>\n",
       "      <th>Subject</th>\n",
       "    </tr>\n",
       "  </thead>\n",
       "  <tbody>\n",
       "    <tr>\n",
       "      <th>8</th>\n",
       "      <td>C</td>\n",
       "      <td>83</td>\n",
       "      <td>59</td>\n",
       "      <td>58</td>\n",
       "      <td>Science</td>\n",
       "    </tr>\n",
       "  </tbody>\n",
       "</table>\n",
       "</div>"
      ],
      "text/plain": [
       "  Class  Midterm1  Midterm2  Final  Subject\n",
       "8     C        83        59     58  Science"
      ]
     },
     "execution_count": 13,
     "metadata": {},
     "output_type": "execute_result"
    }
   ],
   "source": [
    "highschool_grades.tail(1)"
   ]
  },
  {
   "cell_type": "markdown",
   "metadata": {},
   "source": [
    "# Part 3: Data Selection: Indexing & Slicing\n",
    "\n",
    "## 3-1: Select Column\n",
    "- In Pandas, we usually view the data column-wise.\n",
    "- We can use `[]` to access data in column. It is similar to access value in a dictionary.\n",
    "- We can also use `.<column name>` to access the data."
   ]
  },
  {
   "cell_type": "code",
   "execution_count": 14,
   "metadata": {},
   "outputs": [
    {
     "name": "stdout",
     "output_type": "stream",
     "text": [
      "0    A\n",
      "1    B\n",
      "2    C\n",
      "3    A\n",
      "4    B\n",
      "5    C\n",
      "6    A\n",
      "7    B\n",
      "8    C\n",
      "Name: Class, dtype: object \n",
      "\n",
      "We have grades in these class: ['A' 'B' 'C']\n"
     ]
    }
   ],
   "source": [
    "# get column 'Class'\n",
    "print(highschool_grades['Class'], '\\n')\n",
    "\n",
    "# unique value in 'Class'\n",
    "print('We have grades in these class:', highschool_grades['Class'].unique())"
   ]
  },
  {
   "cell_type": "code",
   "execution_count": 15,
   "metadata": {},
   "outputs": [
    {
     "name": "stdout",
     "output_type": "stream",
     "text": [
      "0    English\n",
      "1    English\n",
      "2    English\n",
      "3       Math\n",
      "4       Math\n",
      "5       Math\n",
      "6    Science\n",
      "7    Science\n",
      "8    Science\n",
      "Name: Subject, dtype: object \n",
      "\n",
      "We have grades in these subject: ['English' 'Math' 'Science']\n"
     ]
    }
   ],
   "source": [
    "# get column 'Subject'\n",
    "print(highschool_grades.Subject, '\\n')\n",
    "\n",
    "# unique value in 'Subject'\n",
    "print('We have grades in these subject:', highschool_grades.Subject.unique())"
   ]
  },
  {
   "cell_type": "markdown",
   "metadata": {},
   "source": [
    "## 3-2: Add column\n",
    "\n",
    "- We can also add new column to the DataFrame using `[]`.\n",
    "- And perform element-wise operation very easily with DataFrame."
   ]
  },
  {
   "cell_type": "code",
   "execution_count": 16,
   "metadata": {},
   "outputs": [
    {
     "data": {
      "text/html": [
       "<div>\n",
       "<table border=\"1\" class=\"dataframe\">\n",
       "  <thead>\n",
       "    <tr style=\"text-align: right;\">\n",
       "      <th></th>\n",
       "      <th>Class</th>\n",
       "      <th>Midterm1</th>\n",
       "      <th>Midterm2</th>\n",
       "      <th>Final</th>\n",
       "      <th>Subject</th>\n",
       "      <th>Total</th>\n",
       "    </tr>\n",
       "  </thead>\n",
       "  <tbody>\n",
       "    <tr>\n",
       "      <th>0</th>\n",
       "      <td>A</td>\n",
       "      <td>67</td>\n",
       "      <td>89</td>\n",
       "      <td>79</td>\n",
       "      <td>English</td>\n",
       "      <td>235</td>\n",
       "    </tr>\n",
       "    <tr>\n",
       "      <th>1</th>\n",
       "      <td>B</td>\n",
       "      <td>55</td>\n",
       "      <td>75</td>\n",
       "      <td>64</td>\n",
       "      <td>English</td>\n",
       "      <td>194</td>\n",
       "    </tr>\n",
       "    <tr>\n",
       "      <th>2</th>\n",
       "      <td>C</td>\n",
       "      <td>72</td>\n",
       "      <td>95</td>\n",
       "      <td>86</td>\n",
       "      <td>English</td>\n",
       "      <td>253</td>\n",
       "    </tr>\n",
       "    <tr>\n",
       "      <th>3</th>\n",
       "      <td>A</td>\n",
       "      <td>73</td>\n",
       "      <td>50</td>\n",
       "      <td>97</td>\n",
       "      <td>Math</td>\n",
       "      <td>220</td>\n",
       "    </tr>\n",
       "    <tr>\n",
       "      <th>4</th>\n",
       "      <td>B</td>\n",
       "      <td>81</td>\n",
       "      <td>95</td>\n",
       "      <td>74</td>\n",
       "      <td>Math</td>\n",
       "      <td>250</td>\n",
       "    </tr>\n",
       "    <tr>\n",
       "      <th>5</th>\n",
       "      <td>C</td>\n",
       "      <td>45</td>\n",
       "      <td>58</td>\n",
       "      <td>66</td>\n",
       "      <td>Math</td>\n",
       "      <td>169</td>\n",
       "    </tr>\n",
       "    <tr>\n",
       "      <th>6</th>\n",
       "      <td>A</td>\n",
       "      <td>73</td>\n",
       "      <td>63</td>\n",
       "      <td>93</td>\n",
       "      <td>Science</td>\n",
       "      <td>229</td>\n",
       "    </tr>\n",
       "    <tr>\n",
       "      <th>7</th>\n",
       "      <td>B</td>\n",
       "      <td>57</td>\n",
       "      <td>86</td>\n",
       "      <td>64</td>\n",
       "      <td>Science</td>\n",
       "      <td>207</td>\n",
       "    </tr>\n",
       "    <tr>\n",
       "      <th>8</th>\n",
       "      <td>C</td>\n",
       "      <td>83</td>\n",
       "      <td>59</td>\n",
       "      <td>58</td>\n",
       "      <td>Science</td>\n",
       "      <td>200</td>\n",
       "    </tr>\n",
       "  </tbody>\n",
       "</table>\n",
       "</div>"
      ],
      "text/plain": [
       "  Class  Midterm1  Midterm2  Final  Subject  Total\n",
       "0     A        67        89     79  English    235\n",
       "1     B        55        75     64  English    194\n",
       "2     C        72        95     86  English    253\n",
       "3     A        73        50     97     Math    220\n",
       "4     B        81        95     74     Math    250\n",
       "5     C        45        58     66     Math    169\n",
       "6     A        73        63     93  Science    229\n",
       "7     B        57        86     64  Science    207\n",
       "8     C        83        59     58  Science    200"
      ]
     },
     "execution_count": 16,
     "metadata": {},
     "output_type": "execute_result"
    }
   ],
   "source": [
    "# add new column\n",
    "highschool_grades['Total'] = (highschool_grades['Midterm1'] \n",
    "                              + highschool_grades['Midterm2'] \n",
    "                              + highschool_grades['Final'])\n",
    "highschool_grades"
   ]
  },
  {
   "cell_type": "markdown",
   "metadata": {
    "collapsed": true
   },
   "source": [
    "## 3-3: Array-style Indexing & Slicing\n",
    "\n",
    "- We can index row and column just like what we did with NumPy.\n",
    "- In Pandas, we usually use `iloc` & `loc` indexer.\n",
    "- **`iloc`** uses implicit index just like NumPy.\n",
    "- **`loc`** uses explicit index, the labels that we give for columns or rows."
   ]
  },
  {
   "cell_type": "markdown",
   "metadata": {},
   "source": [
    "### Implicit Indexing"
   ]
  },
  {
   "cell_type": "code",
   "execution_count": 17,
   "metadata": {},
   "outputs": [
    {
     "data": {
      "text/html": [
       "<div>\n",
       "<table border=\"1\" class=\"dataframe\">\n",
       "  <thead>\n",
       "    <tr style=\"text-align: right;\">\n",
       "      <th></th>\n",
       "      <th>classA</th>\n",
       "      <th>classB</th>\n",
       "      <th>classC</th>\n",
       "    </tr>\n",
       "  </thead>\n",
       "  <tbody>\n",
       "    <tr>\n",
       "      <th>Midterm1</th>\n",
       "      <td>67</td>\n",
       "      <td>55</td>\n",
       "      <td>72</td>\n",
       "    </tr>\n",
       "    <tr>\n",
       "      <th>Midterm2</th>\n",
       "      <td>89</td>\n",
       "      <td>75</td>\n",
       "      <td>95</td>\n",
       "    </tr>\n",
       "    <tr>\n",
       "      <th>Final</th>\n",
       "      <td>79</td>\n",
       "      <td>64</td>\n",
       "      <td>86</td>\n",
       "    </tr>\n",
       "  </tbody>\n",
       "</table>\n",
       "</div>"
      ],
      "text/plain": [
       "          classA  classB  classC\n",
       "Midterm1      67      55      72\n",
       "Midterm2      89      75      95\n",
       "Final         79      64      86"
      ]
     },
     "metadata": {},
     "output_type": "display_data"
    },
    {
     "data": {
      "text/plain": [
       "67"
      ]
     },
     "metadata": {},
     "output_type": "display_data"
    },
    {
     "data": {
      "text/plain": [
       "Midterm1    67\n",
       "Midterm2    89\n",
       "Final       79\n",
       "Name: classA, dtype: int64"
      ]
     },
     "metadata": {},
     "output_type": "display_data"
    },
    {
     "data": {
      "text/plain": [
       "classA    67\n",
       "classB    55\n",
       "classC    72\n",
       "Name: Midterm1, dtype: int64"
      ]
     },
     "metadata": {},
     "output_type": "display_data"
    }
   ],
   "source": [
    "# grades dataframe\n",
    "display(grades)\n",
    "\n",
    "# implicit indexing\n",
    "display(grades.iloc[0, 0])      # value of the first column, first row\n",
    "display(grades.iloc[:, 0])      # the first column\n",
    "display(grades.iloc[0, :])      # the first row"
   ]
  },
  {
   "cell_type": "markdown",
   "metadata": {},
   "source": [
    "### Implicit Slicing"
   ]
  },
  {
   "cell_type": "code",
   "execution_count": 18,
   "metadata": {},
   "outputs": [
    {
     "data": {
      "text/html": [
       "<div>\n",
       "<table border=\"1\" class=\"dataframe\">\n",
       "  <thead>\n",
       "    <tr style=\"text-align: right;\">\n",
       "      <th></th>\n",
       "      <th>classA</th>\n",
       "      <th>classB</th>\n",
       "    </tr>\n",
       "  </thead>\n",
       "  <tbody>\n",
       "    <tr>\n",
       "      <th>Midterm1</th>\n",
       "      <td>67</td>\n",
       "      <td>55</td>\n",
       "    </tr>\n",
       "    <tr>\n",
       "      <th>Midterm2</th>\n",
       "      <td>89</td>\n",
       "      <td>75</td>\n",
       "    </tr>\n",
       "    <tr>\n",
       "      <th>Final</th>\n",
       "      <td>79</td>\n",
       "      <td>64</td>\n",
       "    </tr>\n",
       "  </tbody>\n",
       "</table>\n",
       "</div>"
      ],
      "text/plain": [
       "          classA  classB\n",
       "Midterm1      67      55\n",
       "Midterm2      89      75\n",
       "Final         79      64"
      ]
     },
     "metadata": {},
     "output_type": "display_data"
    },
    {
     "data": {
      "text/html": [
       "<div>\n",
       "<table border=\"1\" class=\"dataframe\">\n",
       "  <thead>\n",
       "    <tr style=\"text-align: right;\">\n",
       "      <th></th>\n",
       "      <th>classB</th>\n",
       "      <th>classC</th>\n",
       "    </tr>\n",
       "  </thead>\n",
       "  <tbody>\n",
       "    <tr>\n",
       "      <th>Midterm1</th>\n",
       "      <td>55</td>\n",
       "      <td>72</td>\n",
       "    </tr>\n",
       "    <tr>\n",
       "      <th>Midterm2</th>\n",
       "      <td>75</td>\n",
       "      <td>95</td>\n",
       "    </tr>\n",
       "  </tbody>\n",
       "</table>\n",
       "</div>"
      ],
      "text/plain": [
       "          classB  classC\n",
       "Midterm1      55      72\n",
       "Midterm2      75      95"
      ]
     },
     "metadata": {},
     "output_type": "display_data"
    }
   ],
   "source": [
    "# implicit slicing\n",
    "display(grades.iloc[: , :2])     # the first two columns\n",
    "display(grades.iloc[:2, 1:])     # the first two rows and the last two columns"
   ]
  },
  {
   "cell_type": "markdown",
   "metadata": {},
   "source": [
    "### Explicit Indexing"
   ]
  },
  {
   "cell_type": "code",
   "execution_count": 19,
   "metadata": {},
   "outputs": [
    {
     "data": {
      "text/html": [
       "<div>\n",
       "<table border=\"1\" class=\"dataframe\">\n",
       "  <thead>\n",
       "    <tr style=\"text-align: right;\">\n",
       "      <th></th>\n",
       "      <th>classA</th>\n",
       "      <th>classB</th>\n",
       "      <th>classC</th>\n",
       "    </tr>\n",
       "  </thead>\n",
       "  <tbody>\n",
       "    <tr>\n",
       "      <th>Midterm1</th>\n",
       "      <td>67</td>\n",
       "      <td>55</td>\n",
       "      <td>72</td>\n",
       "    </tr>\n",
       "    <tr>\n",
       "      <th>Midterm2</th>\n",
       "      <td>89</td>\n",
       "      <td>75</td>\n",
       "      <td>95</td>\n",
       "    </tr>\n",
       "    <tr>\n",
       "      <th>Final</th>\n",
       "      <td>79</td>\n",
       "      <td>64</td>\n",
       "      <td>86</td>\n",
       "    </tr>\n",
       "  </tbody>\n",
       "</table>\n",
       "</div>"
      ],
      "text/plain": [
       "          classA  classB  classC\n",
       "Midterm1      67      55      72\n",
       "Midterm2      89      75      95\n",
       "Final         79      64      86"
      ]
     },
     "metadata": {},
     "output_type": "display_data"
    },
    {
     "data": {
      "text/plain": [
       "67"
      ]
     },
     "metadata": {},
     "output_type": "display_data"
    },
    {
     "data": {
      "text/plain": [
       "Midterm1    67\n",
       "Midterm2    89\n",
       "Final       79\n",
       "Name: classA, dtype: int64"
      ]
     },
     "metadata": {},
     "output_type": "display_data"
    },
    {
     "data": {
      "text/plain": [
       "classA    79\n",
       "classB    64\n",
       "classC    86\n",
       "Name: Final, dtype: int64"
      ]
     },
     "metadata": {},
     "output_type": "display_data"
    }
   ],
   "source": [
    "display(grades)\n",
    "\n",
    "# explicit indexing\n",
    "display(grades.loc['Midterm1', 'classA'])   # vlaue of the first column, first row\n",
    "display(grades.loc[: ,'classA'])            # the first column\n",
    "display(grades.loc['Final', :])             # the last row"
   ]
  },
  {
   "cell_type": "markdown",
   "metadata": {},
   "source": [
    "### Explicit Slicing\n",
    "\n",
    "- When indexing multiple columns or rows that are not consequtive, we need to put them into the `[]`.\n",
    "- When indexing consecutive columns or rows, we can use `[:]` to do the slicing."
   ]
  },
  {
   "cell_type": "code",
   "execution_count": 20,
   "metadata": {},
   "outputs": [
    {
     "data": {
      "text/html": [
       "<div>\n",
       "<table border=\"1\" class=\"dataframe\">\n",
       "  <thead>\n",
       "    <tr style=\"text-align: right;\">\n",
       "      <th></th>\n",
       "      <th>classA</th>\n",
       "      <th>classC</th>\n",
       "    </tr>\n",
       "  </thead>\n",
       "  <tbody>\n",
       "    <tr>\n",
       "      <th>Midterm1</th>\n",
       "      <td>67</td>\n",
       "      <td>72</td>\n",
       "    </tr>\n",
       "    <tr>\n",
       "      <th>Midterm2</th>\n",
       "      <td>89</td>\n",
       "      <td>95</td>\n",
       "    </tr>\n",
       "    <tr>\n",
       "      <th>Final</th>\n",
       "      <td>79</td>\n",
       "      <td>86</td>\n",
       "    </tr>\n",
       "  </tbody>\n",
       "</table>\n",
       "</div>"
      ],
      "text/plain": [
       "          classA  classC\n",
       "Midterm1      67      72\n",
       "Midterm2      89      95\n",
       "Final         79      86"
      ]
     },
     "metadata": {},
     "output_type": "display_data"
    },
    {
     "data": {
      "text/html": [
       "<div>\n",
       "<table border=\"1\" class=\"dataframe\">\n",
       "  <thead>\n",
       "    <tr style=\"text-align: right;\">\n",
       "      <th></th>\n",
       "      <th>classA</th>\n",
       "      <th>classB</th>\n",
       "      <th>classC</th>\n",
       "    </tr>\n",
       "  </thead>\n",
       "  <tbody>\n",
       "    <tr>\n",
       "      <th>Midterm1</th>\n",
       "      <td>67</td>\n",
       "      <td>55</td>\n",
       "      <td>72</td>\n",
       "    </tr>\n",
       "    <tr>\n",
       "      <th>Final</th>\n",
       "      <td>79</td>\n",
       "      <td>64</td>\n",
       "      <td>86</td>\n",
       "    </tr>\n",
       "  </tbody>\n",
       "</table>\n",
       "</div>"
      ],
      "text/plain": [
       "          classA  classB  classC\n",
       "Midterm1      67      55      72\n",
       "Final         79      64      86"
      ]
     },
     "metadata": {},
     "output_type": "display_data"
    },
    {
     "data": {
      "text/html": [
       "<div>\n",
       "<table border=\"1\" class=\"dataframe\">\n",
       "  <thead>\n",
       "    <tr style=\"text-align: right;\">\n",
       "      <th></th>\n",
       "      <th>classA</th>\n",
       "      <th>classB</th>\n",
       "      <th>classC</th>\n",
       "    </tr>\n",
       "  </thead>\n",
       "  <tbody>\n",
       "    <tr>\n",
       "      <th>Midterm1</th>\n",
       "      <td>67</td>\n",
       "      <td>55</td>\n",
       "      <td>72</td>\n",
       "    </tr>\n",
       "    <tr>\n",
       "      <th>Midterm2</th>\n",
       "      <td>89</td>\n",
       "      <td>75</td>\n",
       "      <td>95</td>\n",
       "    </tr>\n",
       "  </tbody>\n",
       "</table>\n",
       "</div>"
      ],
      "text/plain": [
       "          classA  classB  classC\n",
       "Midterm1      67      55      72\n",
       "Midterm2      89      75      95"
      ]
     },
     "metadata": {},
     "output_type": "display_data"
    }
   ],
   "source": [
    "# explicit slicing\n",
    "display(grades.loc[:, ['classA', 'classC']])       # the first and the third column\n",
    "display(grades.loc[['Midterm1', 'Final'], :])      # the first and the thrid row\n",
    "display(grades.loc[:'Midterm2', :])                # the first two rows"
   ]
  },
  {
   "cell_type": "markdown",
   "metadata": {},
   "source": [
    "## 3-4: Boolean & Masking\n",
    "\n",
    "- Like in NumPy, we can also perform boolean & maksing to filter the data."
   ]
  },
  {
   "cell_type": "markdown",
   "metadata": {},
   "source": [
    "### Boolean"
   ]
  },
  {
   "cell_type": "code",
   "execution_count": 21,
   "metadata": {},
   "outputs": [
    {
     "data": {
      "text/html": [
       "<div>\n",
       "<table border=\"1\" class=\"dataframe\">\n",
       "  <thead>\n",
       "    <tr style=\"text-align: right;\">\n",
       "      <th></th>\n",
       "      <th>classA</th>\n",
       "      <th>classB</th>\n",
       "      <th>classC</th>\n",
       "    </tr>\n",
       "  </thead>\n",
       "  <tbody>\n",
       "    <tr>\n",
       "      <th>Midterm1</th>\n",
       "      <td>67</td>\n",
       "      <td>55</td>\n",
       "      <td>72</td>\n",
       "    </tr>\n",
       "    <tr>\n",
       "      <th>Midterm2</th>\n",
       "      <td>89</td>\n",
       "      <td>75</td>\n",
       "      <td>95</td>\n",
       "    </tr>\n",
       "    <tr>\n",
       "      <th>Final</th>\n",
       "      <td>79</td>\n",
       "      <td>64</td>\n",
       "      <td>86</td>\n",
       "    </tr>\n",
       "  </tbody>\n",
       "</table>\n",
       "</div>"
      ],
      "text/plain": [
       "          classA  classB  classC\n",
       "Midterm1      67      55      72\n",
       "Midterm2      89      75      95\n",
       "Final         79      64      86"
      ]
     },
     "metadata": {},
     "output_type": "display_data"
    }
   ],
   "source": [
    "display(grades)"
   ]
  },
  {
   "cell_type": "code",
   "execution_count": 22,
   "metadata": {},
   "outputs": [
    {
     "name": "stdout",
     "output_type": "stream",
     "text": [
      "\n",
      "Final grades > 80:\n"
     ]
    },
    {
     "data": {
      "text/plain": [
       "classA    False\n",
       "classB    False\n",
       "classC     True\n",
       "Name: Final, dtype: bool"
      ]
     },
     "metadata": {},
     "output_type": "display_data"
    }
   ],
   "source": [
    "# boolean\n",
    "\n",
    "print('\\nFinal grades > 80:')\n",
    "display(grades.loc['Final', :] > 80)"
   ]
  },
  {
   "cell_type": "markdown",
   "metadata": {},
   "source": [
    "### Filter our high school grades data\n",
    "\n",
    "- We will use masking to filter our `\"highschool_grades\"` data."
   ]
  },
  {
   "cell_type": "code",
   "execution_count": 23,
   "metadata": {
    "scrolled": true
   },
   "outputs": [
    {
     "data": {
      "text/html": [
       "<div>\n",
       "<table border=\"1\" class=\"dataframe\">\n",
       "  <thead>\n",
       "    <tr style=\"text-align: right;\">\n",
       "      <th></th>\n",
       "      <th>Class</th>\n",
       "      <th>Midterm1</th>\n",
       "      <th>Midterm2</th>\n",
       "      <th>Final</th>\n",
       "      <th>Subject</th>\n",
       "      <th>Total</th>\n",
       "    </tr>\n",
       "  </thead>\n",
       "  <tbody>\n",
       "    <tr>\n",
       "      <th>0</th>\n",
       "      <td>A</td>\n",
       "      <td>67</td>\n",
       "      <td>89</td>\n",
       "      <td>79</td>\n",
       "      <td>English</td>\n",
       "      <td>235</td>\n",
       "    </tr>\n",
       "    <tr>\n",
       "      <th>1</th>\n",
       "      <td>B</td>\n",
       "      <td>55</td>\n",
       "      <td>75</td>\n",
       "      <td>64</td>\n",
       "      <td>English</td>\n",
       "      <td>194</td>\n",
       "    </tr>\n",
       "    <tr>\n",
       "      <th>2</th>\n",
       "      <td>C</td>\n",
       "      <td>72</td>\n",
       "      <td>95</td>\n",
       "      <td>86</td>\n",
       "      <td>English</td>\n",
       "      <td>253</td>\n",
       "    </tr>\n",
       "    <tr>\n",
       "      <th>3</th>\n",
       "      <td>A</td>\n",
       "      <td>73</td>\n",
       "      <td>50</td>\n",
       "      <td>97</td>\n",
       "      <td>Math</td>\n",
       "      <td>220</td>\n",
       "    </tr>\n",
       "    <tr>\n",
       "      <th>4</th>\n",
       "      <td>B</td>\n",
       "      <td>81</td>\n",
       "      <td>95</td>\n",
       "      <td>74</td>\n",
       "      <td>Math</td>\n",
       "      <td>250</td>\n",
       "    </tr>\n",
       "    <tr>\n",
       "      <th>5</th>\n",
       "      <td>C</td>\n",
       "      <td>45</td>\n",
       "      <td>58</td>\n",
       "      <td>66</td>\n",
       "      <td>Math</td>\n",
       "      <td>169</td>\n",
       "    </tr>\n",
       "    <tr>\n",
       "      <th>6</th>\n",
       "      <td>A</td>\n",
       "      <td>73</td>\n",
       "      <td>63</td>\n",
       "      <td>93</td>\n",
       "      <td>Science</td>\n",
       "      <td>229</td>\n",
       "    </tr>\n",
       "    <tr>\n",
       "      <th>7</th>\n",
       "      <td>B</td>\n",
       "      <td>57</td>\n",
       "      <td>86</td>\n",
       "      <td>64</td>\n",
       "      <td>Science</td>\n",
       "      <td>207</td>\n",
       "    </tr>\n",
       "    <tr>\n",
       "      <th>8</th>\n",
       "      <td>C</td>\n",
       "      <td>83</td>\n",
       "      <td>59</td>\n",
       "      <td>58</td>\n",
       "      <td>Science</td>\n",
       "      <td>200</td>\n",
       "    </tr>\n",
       "  </tbody>\n",
       "</table>\n",
       "</div>"
      ],
      "text/plain": [
       "  Class  Midterm1  Midterm2  Final  Subject  Total\n",
       "0     A        67        89     79  English    235\n",
       "1     B        55        75     64  English    194\n",
       "2     C        72        95     86  English    253\n",
       "3     A        73        50     97     Math    220\n",
       "4     B        81        95     74     Math    250\n",
       "5     C        45        58     66     Math    169\n",
       "6     A        73        63     93  Science    229\n",
       "7     B        57        86     64  Science    207\n",
       "8     C        83        59     58  Science    200"
      ]
     },
     "metadata": {},
     "output_type": "display_data"
    }
   ],
   "source": [
    "display(highschool_grades)"
   ]
  },
  {
   "cell_type": "markdown",
   "metadata": {},
   "source": [
    "### Masking"
   ]
  },
  {
   "cell_type": "code",
   "execution_count": 24,
   "metadata": {},
   "outputs": [
    {
     "name": "stdout",
     "output_type": "stream",
     "text": [
      "\n",
      "Grades for class A:\n"
     ]
    },
    {
     "data": {
      "text/html": [
       "<div>\n",
       "<table border=\"1\" class=\"dataframe\">\n",
       "  <thead>\n",
       "    <tr style=\"text-align: right;\">\n",
       "      <th></th>\n",
       "      <th>Class</th>\n",
       "      <th>Midterm1</th>\n",
       "      <th>Midterm2</th>\n",
       "      <th>Final</th>\n",
       "      <th>Subject</th>\n",
       "      <th>Total</th>\n",
       "    </tr>\n",
       "  </thead>\n",
       "  <tbody>\n",
       "    <tr>\n",
       "      <th>0</th>\n",
       "      <td>A</td>\n",
       "      <td>67</td>\n",
       "      <td>89</td>\n",
       "      <td>79</td>\n",
       "      <td>English</td>\n",
       "      <td>235</td>\n",
       "    </tr>\n",
       "    <tr>\n",
       "      <th>3</th>\n",
       "      <td>A</td>\n",
       "      <td>73</td>\n",
       "      <td>50</td>\n",
       "      <td>97</td>\n",
       "      <td>Math</td>\n",
       "      <td>220</td>\n",
       "    </tr>\n",
       "    <tr>\n",
       "      <th>6</th>\n",
       "      <td>A</td>\n",
       "      <td>73</td>\n",
       "      <td>63</td>\n",
       "      <td>93</td>\n",
       "      <td>Science</td>\n",
       "      <td>229</td>\n",
       "    </tr>\n",
       "  </tbody>\n",
       "</table>\n",
       "</div>"
      ],
      "text/plain": [
       "  Class  Midterm1  Midterm2  Final  Subject  Total\n",
       "0     A        67        89     79  English    235\n",
       "3     A        73        50     97     Math    220\n",
       "6     A        73        63     93  Science    229"
      ]
     },
     "metadata": {},
     "output_type": "display_data"
    }
   ],
   "source": [
    "# Get grades for class A\n",
    "\n",
    "classA = highschool_grades[highschool_grades.Class == 'A']\n",
    "\n",
    "print('\\nGrades for class A:')\n",
    "display(classA)"
   ]
  },
  {
   "cell_type": "code",
   "execution_count": 25,
   "metadata": {},
   "outputs": [
    {
     "name": "stdout",
     "output_type": "stream",
     "text": [
      "\n",
      "Grades for English:\n"
     ]
    },
    {
     "data": {
      "text/html": [
       "<div>\n",
       "<table border=\"1\" class=\"dataframe\">\n",
       "  <thead>\n",
       "    <tr style=\"text-align: right;\">\n",
       "      <th></th>\n",
       "      <th>Class</th>\n",
       "      <th>Midterm1</th>\n",
       "      <th>Midterm2</th>\n",
       "      <th>Final</th>\n",
       "      <th>Subject</th>\n",
       "      <th>Total</th>\n",
       "    </tr>\n",
       "  </thead>\n",
       "  <tbody>\n",
       "    <tr>\n",
       "      <th>0</th>\n",
       "      <td>A</td>\n",
       "      <td>67</td>\n",
       "      <td>89</td>\n",
       "      <td>79</td>\n",
       "      <td>English</td>\n",
       "      <td>235</td>\n",
       "    </tr>\n",
       "    <tr>\n",
       "      <th>1</th>\n",
       "      <td>B</td>\n",
       "      <td>55</td>\n",
       "      <td>75</td>\n",
       "      <td>64</td>\n",
       "      <td>English</td>\n",
       "      <td>194</td>\n",
       "    </tr>\n",
       "    <tr>\n",
       "      <th>2</th>\n",
       "      <td>C</td>\n",
       "      <td>72</td>\n",
       "      <td>95</td>\n",
       "      <td>86</td>\n",
       "      <td>English</td>\n",
       "      <td>253</td>\n",
       "    </tr>\n",
       "  </tbody>\n",
       "</table>\n",
       "</div>"
      ],
      "text/plain": [
       "  Class  Midterm1  Midterm2  Final  Subject  Total\n",
       "0     A        67        89     79  English    235\n",
       "1     B        55        75     64  English    194\n",
       "2     C        72        95     86  English    253"
      ]
     },
     "metadata": {},
     "output_type": "display_data"
    }
   ],
   "source": [
    "# Get grades for English\n",
    "\n",
    "English = highschool_grades[highschool_grades.Subject == 'English']\n",
    "\n",
    "print('\\nGrades for English:')\n",
    "display(English)"
   ]
  },
  {
   "cell_type": "markdown",
   "metadata": {},
   "source": [
    "### Combing Boolean & Masking: Final grades lower than 60"
   ]
  },
  {
   "cell_type": "code",
   "execution_count": 26,
   "metadata": {},
   "outputs": [
    {
     "data": {
      "text/html": [
       "<div>\n",
       "<table border=\"1\" class=\"dataframe\">\n",
       "  <thead>\n",
       "    <tr style=\"text-align: right;\">\n",
       "      <th></th>\n",
       "      <th>Class</th>\n",
       "      <th>Midterm1</th>\n",
       "      <th>Midterm2</th>\n",
       "      <th>Final</th>\n",
       "      <th>Subject</th>\n",
       "      <th>Total</th>\n",
       "    </tr>\n",
       "  </thead>\n",
       "  <tbody>\n",
       "    <tr>\n",
       "      <th>8</th>\n",
       "      <td>C</td>\n",
       "      <td>83</td>\n",
       "      <td>59</td>\n",
       "      <td>58</td>\n",
       "      <td>Science</td>\n",
       "      <td>200</td>\n",
       "    </tr>\n",
       "  </tbody>\n",
       "</table>\n",
       "</div>"
      ],
      "text/plain": [
       "  Class  Midterm1  Midterm2  Final  Subject  Total\n",
       "8     C        83        59     58  Science    200"
      ]
     },
     "metadata": {},
     "output_type": "display_data"
    },
    {
     "name": "stdout",
     "output_type": "stream",
     "text": [
      "0    False\n",
      "1    False\n",
      "2    False\n",
      "3    False\n",
      "4    False\n",
      "5    False\n",
      "6    False\n",
      "7    False\n",
      "8     True\n",
      "Name: Final, dtype: bool\n"
     ]
    }
   ],
   "source": [
    "# Get 'F' for final exam\n",
    "\n",
    "display(highschool_grades.loc[highschool_grades.Final < 60, :])\n",
    "\n",
    "print(highschool_grades.Final < 60)"
   ]
  },
  {
   "cell_type": "markdown",
   "metadata": {},
   "source": [
    "# Part 4: Data Operation - Basics & Concatenation\n",
    "\n",
    "- Just as in NumPy, we can perform element-wise operation very easily in Pandas.\n",
    "- We can also convert data selected from DataFrame to NumPy array.\n",
    "- We will also introduce more convenient ways to combine data. "
   ]
  },
  {
   "cell_type": "markdown",
   "metadata": {},
   "source": [
    "## 4-1: Basic Operation"
   ]
  },
  {
   "cell_type": "code",
   "execution_count": 27,
   "metadata": {
    "scrolled": true
   },
   "outputs": [
    {
     "data": {
      "text/html": [
       "<div>\n",
       "<table border=\"1\" class=\"dataframe\">\n",
       "  <thead>\n",
       "    <tr style=\"text-align: right;\">\n",
       "      <th></th>\n",
       "      <th>Class</th>\n",
       "      <th>Midterm1</th>\n",
       "      <th>Midterm2</th>\n",
       "      <th>Final</th>\n",
       "      <th>Subject</th>\n",
       "      <th>Total</th>\n",
       "      <th>Avg</th>\n",
       "    </tr>\n",
       "  </thead>\n",
       "  <tbody>\n",
       "    <tr>\n",
       "      <th>0</th>\n",
       "      <td>A</td>\n",
       "      <td>67</td>\n",
       "      <td>89</td>\n",
       "      <td>79</td>\n",
       "      <td>English</td>\n",
       "      <td>235</td>\n",
       "      <td>78.33</td>\n",
       "    </tr>\n",
       "    <tr>\n",
       "      <th>1</th>\n",
       "      <td>B</td>\n",
       "      <td>55</td>\n",
       "      <td>75</td>\n",
       "      <td>64</td>\n",
       "      <td>English</td>\n",
       "      <td>194</td>\n",
       "      <td>64.67</td>\n",
       "    </tr>\n",
       "    <tr>\n",
       "      <th>2</th>\n",
       "      <td>C</td>\n",
       "      <td>72</td>\n",
       "      <td>95</td>\n",
       "      <td>86</td>\n",
       "      <td>English</td>\n",
       "      <td>253</td>\n",
       "      <td>84.33</td>\n",
       "    </tr>\n",
       "    <tr>\n",
       "      <th>3</th>\n",
       "      <td>A</td>\n",
       "      <td>73</td>\n",
       "      <td>50</td>\n",
       "      <td>97</td>\n",
       "      <td>Math</td>\n",
       "      <td>220</td>\n",
       "      <td>73.33</td>\n",
       "    </tr>\n",
       "    <tr>\n",
       "      <th>4</th>\n",
       "      <td>B</td>\n",
       "      <td>81</td>\n",
       "      <td>95</td>\n",
       "      <td>74</td>\n",
       "      <td>Math</td>\n",
       "      <td>250</td>\n",
       "      <td>83.33</td>\n",
       "    </tr>\n",
       "    <tr>\n",
       "      <th>5</th>\n",
       "      <td>C</td>\n",
       "      <td>45</td>\n",
       "      <td>58</td>\n",
       "      <td>66</td>\n",
       "      <td>Math</td>\n",
       "      <td>169</td>\n",
       "      <td>56.33</td>\n",
       "    </tr>\n",
       "    <tr>\n",
       "      <th>6</th>\n",
       "      <td>A</td>\n",
       "      <td>73</td>\n",
       "      <td>63</td>\n",
       "      <td>93</td>\n",
       "      <td>Science</td>\n",
       "      <td>229</td>\n",
       "      <td>76.33</td>\n",
       "    </tr>\n",
       "    <tr>\n",
       "      <th>7</th>\n",
       "      <td>B</td>\n",
       "      <td>57</td>\n",
       "      <td>86</td>\n",
       "      <td>64</td>\n",
       "      <td>Science</td>\n",
       "      <td>207</td>\n",
       "      <td>69.00</td>\n",
       "    </tr>\n",
       "    <tr>\n",
       "      <th>8</th>\n",
       "      <td>C</td>\n",
       "      <td>83</td>\n",
       "      <td>59</td>\n",
       "      <td>58</td>\n",
       "      <td>Science</td>\n",
       "      <td>200</td>\n",
       "      <td>66.67</td>\n",
       "    </tr>\n",
       "  </tbody>\n",
       "</table>\n",
       "</div>"
      ],
      "text/plain": [
       "  Class  Midterm1  Midterm2  Final  Subject  Total    Avg\n",
       "0     A        67        89     79  English    235  78.33\n",
       "1     B        55        75     64  English    194  64.67\n",
       "2     C        72        95     86  English    253  84.33\n",
       "3     A        73        50     97     Math    220  73.33\n",
       "4     B        81        95     74     Math    250  83.33\n",
       "5     C        45        58     66     Math    169  56.33\n",
       "6     A        73        63     93  Science    229  76.33\n",
       "7     B        57        86     64  Science    207  69.00\n",
       "8     C        83        59     58  Science    200  66.67"
      ]
     },
     "metadata": {},
     "output_type": "display_data"
    }
   ],
   "source": [
    "# average grades\n",
    "\n",
    "highschool_grades['Avg'] = round(highschool_grades.Total / 3, 2)\n",
    "display(highschool_grades)"
   ]
  },
  {
   "cell_type": "markdown",
   "metadata": {},
   "source": [
    "### Preserve Index\n",
    "- Pandas will take care of the indexes for us automatically. (ex. preserve labels).\n",
    "- Pandas will match the index automatically to perform element-wise operation.\n",
    "- Be careful of the index when selecting data. Sometimes we may need to reset the index."
   ]
  },
  {
   "cell_type": "code",
   "execution_count": 28,
   "metadata": {},
   "outputs": [
    {
     "data": {
      "text/html": [
       "<div>\n",
       "<table border=\"1\" class=\"dataframe\">\n",
       "  <thead>\n",
       "    <tr style=\"text-align: right;\">\n",
       "      <th></th>\n",
       "      <th>Midterm1</th>\n",
       "      <th>Midterm2</th>\n",
       "      <th>Final</th>\n",
       "    </tr>\n",
       "  </thead>\n",
       "  <tbody>\n",
       "    <tr>\n",
       "      <th>0</th>\n",
       "      <td>67</td>\n",
       "      <td>89</td>\n",
       "      <td>79</td>\n",
       "    </tr>\n",
       "    <tr>\n",
       "      <th>3</th>\n",
       "      <td>73</td>\n",
       "      <td>50</td>\n",
       "      <td>97</td>\n",
       "    </tr>\n",
       "    <tr>\n",
       "      <th>6</th>\n",
       "      <td>73</td>\n",
       "      <td>63</td>\n",
       "      <td>93</td>\n",
       "    </tr>\n",
       "  </tbody>\n",
       "</table>\n",
       "</div>"
      ],
      "text/plain": [
       "   Midterm1  Midterm2  Final\n",
       "0        67        89     79\n",
       "3        73        50     97\n",
       "6        73        63     93"
      ]
     },
     "metadata": {},
     "output_type": "display_data"
    },
    {
     "data": {
      "text/html": [
       "<div>\n",
       "<table border=\"1\" class=\"dataframe\">\n",
       "  <thead>\n",
       "    <tr style=\"text-align: right;\">\n",
       "      <th></th>\n",
       "      <th>Midterm1</th>\n",
       "      <th>Midterm2</th>\n",
       "      <th>Final</th>\n",
       "    </tr>\n",
       "  </thead>\n",
       "  <tbody>\n",
       "    <tr>\n",
       "      <th>1</th>\n",
       "      <td>55</td>\n",
       "      <td>75</td>\n",
       "      <td>64</td>\n",
       "    </tr>\n",
       "    <tr>\n",
       "      <th>4</th>\n",
       "      <td>81</td>\n",
       "      <td>95</td>\n",
       "      <td>74</td>\n",
       "    </tr>\n",
       "    <tr>\n",
       "      <th>7</th>\n",
       "      <td>57</td>\n",
       "      <td>86</td>\n",
       "      <td>64</td>\n",
       "    </tr>\n",
       "  </tbody>\n",
       "</table>\n",
       "</div>"
      ],
      "text/plain": [
       "   Midterm1  Midterm2  Final\n",
       "1        55        75     64\n",
       "4        81        95     74\n",
       "7        57        86     64"
      ]
     },
     "metadata": {},
     "output_type": "display_data"
    },
    {
     "data": {
      "text/html": [
       "<div>\n",
       "<table border=\"1\" class=\"dataframe\">\n",
       "  <thead>\n",
       "    <tr style=\"text-align: right;\">\n",
       "      <th></th>\n",
       "      <th>Midterm1</th>\n",
       "      <th>Midterm2</th>\n",
       "      <th>Final</th>\n",
       "    </tr>\n",
       "  </thead>\n",
       "  <tbody>\n",
       "    <tr>\n",
       "      <th>0</th>\n",
       "      <td>NaN</td>\n",
       "      <td>NaN</td>\n",
       "      <td>NaN</td>\n",
       "    </tr>\n",
       "    <tr>\n",
       "      <th>1</th>\n",
       "      <td>NaN</td>\n",
       "      <td>NaN</td>\n",
       "      <td>NaN</td>\n",
       "    </tr>\n",
       "    <tr>\n",
       "      <th>3</th>\n",
       "      <td>NaN</td>\n",
       "      <td>NaN</td>\n",
       "      <td>NaN</td>\n",
       "    </tr>\n",
       "    <tr>\n",
       "      <th>4</th>\n",
       "      <td>NaN</td>\n",
       "      <td>NaN</td>\n",
       "      <td>NaN</td>\n",
       "    </tr>\n",
       "    <tr>\n",
       "      <th>6</th>\n",
       "      <td>NaN</td>\n",
       "      <td>NaN</td>\n",
       "      <td>NaN</td>\n",
       "    </tr>\n",
       "    <tr>\n",
       "      <th>7</th>\n",
       "      <td>NaN</td>\n",
       "      <td>NaN</td>\n",
       "      <td>NaN</td>\n",
       "    </tr>\n",
       "  </tbody>\n",
       "</table>\n",
       "</div>"
      ],
      "text/plain": [
       "   Midterm1  Midterm2  Final\n",
       "0       NaN       NaN    NaN\n",
       "1       NaN       NaN    NaN\n",
       "3       NaN       NaN    NaN\n",
       "4       NaN       NaN    NaN\n",
       "6       NaN       NaN    NaN\n",
       "7       NaN       NaN    NaN"
      ]
     },
     "metadata": {},
     "output_type": "display_data"
    }
   ],
   "source": [
    "classA_grades = highschool_grades.loc[highschool_grades.Class == 'A', ['Midterm1', 'Midterm2', 'Final']]\n",
    "classB_grades = highschool_grades.loc[highschool_grades.Class == 'B', ['Midterm1', 'Midterm2', 'Final']]\n",
    "\n",
    "# note that the original index is preserve\n",
    "display(classA_grades, classB_grades)\n",
    "\n",
    "# Indexs do not match\n",
    "display(classA_grades + classB_grades)"
   ]
  },
  {
   "cell_type": "code",
   "execution_count": 29,
   "metadata": {},
   "outputs": [
    {
     "data": {
      "text/html": [
       "<div>\n",
       "<table border=\"1\" class=\"dataframe\">\n",
       "  <thead>\n",
       "    <tr style=\"text-align: right;\">\n",
       "      <th></th>\n",
       "      <th>Midterm1</th>\n",
       "      <th>Midterm2</th>\n",
       "      <th>Final</th>\n",
       "    </tr>\n",
       "  </thead>\n",
       "  <tbody>\n",
       "    <tr>\n",
       "      <th>0</th>\n",
       "      <td>67</td>\n",
       "      <td>89</td>\n",
       "      <td>79</td>\n",
       "    </tr>\n",
       "    <tr>\n",
       "      <th>1</th>\n",
       "      <td>73</td>\n",
       "      <td>50</td>\n",
       "      <td>97</td>\n",
       "    </tr>\n",
       "    <tr>\n",
       "      <th>2</th>\n",
       "      <td>73</td>\n",
       "      <td>63</td>\n",
       "      <td>93</td>\n",
       "    </tr>\n",
       "  </tbody>\n",
       "</table>\n",
       "</div>"
      ],
      "text/plain": [
       "   Midterm1  Midterm2  Final\n",
       "0        67        89     79\n",
       "1        73        50     97\n",
       "2        73        63     93"
      ]
     },
     "metadata": {},
     "output_type": "display_data"
    },
    {
     "data": {
      "text/html": [
       "<div>\n",
       "<table border=\"1\" class=\"dataframe\">\n",
       "  <thead>\n",
       "    <tr style=\"text-align: right;\">\n",
       "      <th></th>\n",
       "      <th>Midterm1</th>\n",
       "      <th>Midterm2</th>\n",
       "      <th>Final</th>\n",
       "    </tr>\n",
       "  </thead>\n",
       "  <tbody>\n",
       "    <tr>\n",
       "      <th>0</th>\n",
       "      <td>55</td>\n",
       "      <td>75</td>\n",
       "      <td>64</td>\n",
       "    </tr>\n",
       "    <tr>\n",
       "      <th>1</th>\n",
       "      <td>81</td>\n",
       "      <td>95</td>\n",
       "      <td>74</td>\n",
       "    </tr>\n",
       "    <tr>\n",
       "      <th>2</th>\n",
       "      <td>57</td>\n",
       "      <td>86</td>\n",
       "      <td>64</td>\n",
       "    </tr>\n",
       "  </tbody>\n",
       "</table>\n",
       "</div>"
      ],
      "text/plain": [
       "   Midterm1  Midterm2  Final\n",
       "0        55        75     64\n",
       "1        81        95     74\n",
       "2        57        86     64"
      ]
     },
     "metadata": {},
     "output_type": "display_data"
    },
    {
     "data": {
      "text/html": [
       "<div>\n",
       "<table border=\"1\" class=\"dataframe\">\n",
       "  <thead>\n",
       "    <tr style=\"text-align: right;\">\n",
       "      <th></th>\n",
       "      <th>Midterm1</th>\n",
       "      <th>Midterm2</th>\n",
       "      <th>Final</th>\n",
       "    </tr>\n",
       "  </thead>\n",
       "  <tbody>\n",
       "    <tr>\n",
       "      <th>0</th>\n",
       "      <td>122</td>\n",
       "      <td>164</td>\n",
       "      <td>143</td>\n",
       "    </tr>\n",
       "    <tr>\n",
       "      <th>1</th>\n",
       "      <td>154</td>\n",
       "      <td>145</td>\n",
       "      <td>171</td>\n",
       "    </tr>\n",
       "    <tr>\n",
       "      <th>2</th>\n",
       "      <td>130</td>\n",
       "      <td>149</td>\n",
       "      <td>157</td>\n",
       "    </tr>\n",
       "  </tbody>\n",
       "</table>\n",
       "</div>"
      ],
      "text/plain": [
       "   Midterm1  Midterm2  Final\n",
       "0       122       164    143\n",
       "1       154       145    171\n",
       "2       130       149    157"
      ]
     },
     "metadata": {},
     "output_type": "display_data"
    }
   ],
   "source": [
    "# reset index\n",
    "classA_grades = classA_grades.reset_index(drop = True)\n",
    "classB_grades = classB_grades.reset_index(drop = True)\n",
    "\n",
    "# Indexs match\n",
    "display(classA_grades, classB_grades)\n",
    "display(classA_grades + classB_grades)"
   ]
  },
  {
   "cell_type": "markdown",
   "metadata": {},
   "source": [
    "### Convert Data to NumPy Array\n",
    "\n",
    "- Use **`.values`** to convert data into a NumPy array.\n",
    "- Or simpy use `np.array()` to explicitly convert the data.\n",
    "- Now you can use all the operations that we have introduced last week."
   ]
  },
  {
   "cell_type": "code",
   "execution_count": 30,
   "metadata": {},
   "outputs": [
    {
     "name": "stdout",
     "output_type": "stream",
     "text": [
      "<class 'numpy.ndarray'>\n",
      "<class 'numpy.ndarray'>\n"
     ]
    }
   ],
   "source": [
    "# use .values\n",
    "print(type(highschool_grades.Midterm1.values))\n",
    "\n",
    "# use np.array()\n",
    "print(type(np.array(highschool_grades.Midterm1)))"
   ]
  },
  {
   "cell_type": "code",
   "execution_count": 31,
   "metadata": {},
   "outputs": [
    {
     "name": "stdout",
     "output_type": "stream",
     "text": [
      "Min score for midterm 1: 45\n",
      "Average score for midterm 1: 67.33\n",
      "Max score for midterm 1: 83\n"
     ]
    }
   ],
   "source": [
    "midterm1 = highschool_grades.Midterm1.values\n",
    "print('Min score for midterm 1:', midterm1.min())\n",
    "print('Average score for midterm 1:', round(midterm1.mean(), 2))\n",
    "print('Max score for midterm 1:', midterm1.max())"
   ]
  },
  {
   "cell_type": "markdown",
   "metadata": {},
   "source": [
    "## 4-2: Combine Data - Concatenate\n",
    "\n",
    "- The simplest way to combine two different dataset is to use `pd.concat()`.\n",
    "- By default, `pd.concat()` operates **row-wise** with `DataFrame`. (`axis=0`)\n",
    "- You can also specify an axis to concat.\n",
    "    - `axis = 0` : row-wise\n",
    "    - `axis = 1` : column-wise"
   ]
  },
  {
   "cell_type": "markdown",
   "metadata": {},
   "source": [
    "### For example, we can use `pd.concat()` to combine the two np.array grades data."
   ]
  },
  {
   "cell_type": "code",
   "execution_count": 32,
   "metadata": {},
   "outputs": [
    {
     "data": {
      "text/html": [
       "<div>\n",
       "<table border=\"1\" class=\"dataframe\">\n",
       "  <thead>\n",
       "    <tr style=\"text-align: right;\">\n",
       "      <th></th>\n",
       "      <th>classA</th>\n",
       "      <th>classB</th>\n",
       "      <th>classC</th>\n",
       "    </tr>\n",
       "  </thead>\n",
       "  <tbody>\n",
       "    <tr>\n",
       "      <th>Midterm1</th>\n",
       "      <td>67</td>\n",
       "      <td>55</td>\n",
       "      <td>72</td>\n",
       "    </tr>\n",
       "    <tr>\n",
       "      <th>Midterm2</th>\n",
       "      <td>89</td>\n",
       "      <td>75</td>\n",
       "      <td>95</td>\n",
       "    </tr>\n",
       "    <tr>\n",
       "      <th>Final</th>\n",
       "      <td>79</td>\n",
       "      <td>64</td>\n",
       "      <td>86</td>\n",
       "    </tr>\n",
       "  </tbody>\n",
       "</table>\n",
       "</div>"
      ],
      "text/plain": [
       "          classA  classB  classC\n",
       "Midterm1      67      55      72\n",
       "Midterm2      89      75      95\n",
       "Final         79      64      86"
      ]
     },
     "metadata": {},
     "output_type": "display_data"
    }
   ],
   "source": [
    "# Create two grades dataframes\n",
    "\n",
    "grades1 = np.array([[67, 55, 72],[89, 75, 95],[79, 64, 86]])\n",
    "grades1 = pd.DataFrame(grades1, \n",
    "                      columns=['classA', 'classB', 'classC'], \n",
    "                      index=['Midterm1', 'Midterm2', 'Final'])\n",
    "\n",
    "grades2 = np.array([[73, 81, 45], [50, 95, 58], [97, 74,66]])\n",
    "grades2 = pd.DataFrame(grades2, \n",
    "                      columns=['classA', 'classB', 'classC'], \n",
    "                      index=['Midterm1', 'Midterm2', 'Final'])\n",
    "\n",
    "display(grades1)"
   ]
  },
  {
   "cell_type": "code",
   "execution_count": 33,
   "metadata": {},
   "outputs": [
    {
     "data": {
      "text/html": [
       "<div>\n",
       "<table border=\"1\" class=\"dataframe\">\n",
       "  <thead>\n",
       "    <tr style=\"text-align: right;\">\n",
       "      <th></th>\n",
       "      <th>classA</th>\n",
       "      <th>classB</th>\n",
       "      <th>classC</th>\n",
       "      <th>Subject</th>\n",
       "    </tr>\n",
       "  </thead>\n",
       "  <tbody>\n",
       "    <tr>\n",
       "      <th>Midterm1</th>\n",
       "      <td>73</td>\n",
       "      <td>81</td>\n",
       "      <td>45</td>\n",
       "      <td>Math</td>\n",
       "    </tr>\n",
       "    <tr>\n",
       "      <th>Midterm2</th>\n",
       "      <td>50</td>\n",
       "      <td>95</td>\n",
       "      <td>58</td>\n",
       "      <td>Math</td>\n",
       "    </tr>\n",
       "    <tr>\n",
       "      <th>Final</th>\n",
       "      <td>97</td>\n",
       "      <td>74</td>\n",
       "      <td>66</td>\n",
       "      <td>Math</td>\n",
       "    </tr>\n",
       "  </tbody>\n",
       "</table>\n",
       "</div>"
      ],
      "text/plain": [
       "          classA  classB  classC Subject\n",
       "Midterm1      73      81      45    Math\n",
       "Midterm2      50      95      58    Math\n",
       "Final         97      74      66    Math"
      ]
     },
     "metadata": {},
     "output_type": "display_data"
    }
   ],
   "source": [
    "# Add Subject column\n",
    "\n",
    "grades1['Subject'] = 'English'\n",
    "grades2['Subject'] = 'Math'\n",
    "display(grades2)"
   ]
  },
  {
   "cell_type": "code",
   "execution_count": 34,
   "metadata": {},
   "outputs": [
    {
     "data": {
      "text/html": [
       "<div>\n",
       "<table border=\"1\" class=\"dataframe\">\n",
       "  <thead>\n",
       "    <tr style=\"text-align: right;\">\n",
       "      <th></th>\n",
       "      <th>classA</th>\n",
       "      <th>classB</th>\n",
       "      <th>classC</th>\n",
       "      <th>Subject</th>\n",
       "    </tr>\n",
       "  </thead>\n",
       "  <tbody>\n",
       "    <tr>\n",
       "      <th>Midterm1</th>\n",
       "      <td>67</td>\n",
       "      <td>55</td>\n",
       "      <td>72</td>\n",
       "      <td>English</td>\n",
       "    </tr>\n",
       "    <tr>\n",
       "      <th>Midterm2</th>\n",
       "      <td>89</td>\n",
       "      <td>75</td>\n",
       "      <td>95</td>\n",
       "      <td>English</td>\n",
       "    </tr>\n",
       "    <tr>\n",
       "      <th>Final</th>\n",
       "      <td>79</td>\n",
       "      <td>64</td>\n",
       "      <td>86</td>\n",
       "      <td>English</td>\n",
       "    </tr>\n",
       "    <tr>\n",
       "      <th>Midterm1</th>\n",
       "      <td>73</td>\n",
       "      <td>81</td>\n",
       "      <td>45</td>\n",
       "      <td>Math</td>\n",
       "    </tr>\n",
       "    <tr>\n",
       "      <th>Midterm2</th>\n",
       "      <td>50</td>\n",
       "      <td>95</td>\n",
       "      <td>58</td>\n",
       "      <td>Math</td>\n",
       "    </tr>\n",
       "    <tr>\n",
       "      <th>Final</th>\n",
       "      <td>97</td>\n",
       "      <td>74</td>\n",
       "      <td>66</td>\n",
       "      <td>Math</td>\n",
       "    </tr>\n",
       "  </tbody>\n",
       "</table>\n",
       "</div>"
      ],
      "text/plain": [
       "          classA  classB  classC  Subject\n",
       "Midterm1      67      55      72  English\n",
       "Midterm2      89      75      95  English\n",
       "Final         79      64      86  English\n",
       "Midterm1      73      81      45     Math\n",
       "Midterm2      50      95      58     Math\n",
       "Final         97      74      66     Math"
      ]
     },
     "metadata": {},
     "output_type": "display_data"
    }
   ],
   "source": [
    "# combine two dataframe\n",
    "\n",
    "combined_grades = pd.concat([grades1, grades2])\n",
    "display(combined_grades)"
   ]
  },
  {
   "cell_type": "markdown",
   "metadata": {},
   "source": [
    "## 4-3: Handling index\n",
    "\n",
    "### Duplicate indexes\n",
    "\n",
    "- One important thing to notice is that Pandas preservers indexes when combining data.\n",
    "- From the previous example, we see that there are duplicate indexes. (_Midterm1, Midterm2, Final_)\n",
    "- If the indexes does not matter, we can ignore the indexes by specifying `ignore_index` argument."
   ]
  },
  {
   "cell_type": "code",
   "execution_count": 35,
   "metadata": {},
   "outputs": [
    {
     "data": {
      "text/html": [
       "<div>\n",
       "<table border=\"1\" class=\"dataframe\">\n",
       "  <thead>\n",
       "    <tr style=\"text-align: right;\">\n",
       "      <th></th>\n",
       "      <th>classA</th>\n",
       "      <th>classB</th>\n",
       "      <th>classC</th>\n",
       "      <th>Subject</th>\n",
       "    </tr>\n",
       "  </thead>\n",
       "  <tbody>\n",
       "    <tr>\n",
       "      <th>Midterm1</th>\n",
       "      <td>67</td>\n",
       "      <td>55</td>\n",
       "      <td>72</td>\n",
       "      <td>English</td>\n",
       "    </tr>\n",
       "    <tr>\n",
       "      <th>Midterm2</th>\n",
       "      <td>89</td>\n",
       "      <td>75</td>\n",
       "      <td>95</td>\n",
       "      <td>English</td>\n",
       "    </tr>\n",
       "    <tr>\n",
       "      <th>Final</th>\n",
       "      <td>79</td>\n",
       "      <td>64</td>\n",
       "      <td>86</td>\n",
       "      <td>English</td>\n",
       "    </tr>\n",
       "    <tr>\n",
       "      <th>Midterm1</th>\n",
       "      <td>73</td>\n",
       "      <td>81</td>\n",
       "      <td>45</td>\n",
       "      <td>Math</td>\n",
       "    </tr>\n",
       "    <tr>\n",
       "      <th>Midterm2</th>\n",
       "      <td>50</td>\n",
       "      <td>95</td>\n",
       "      <td>58</td>\n",
       "      <td>Math</td>\n",
       "    </tr>\n",
       "    <tr>\n",
       "      <th>Final</th>\n",
       "      <td>97</td>\n",
       "      <td>74</td>\n",
       "      <td>66</td>\n",
       "      <td>Math</td>\n",
       "    </tr>\n",
       "  </tbody>\n",
       "</table>\n",
       "</div>"
      ],
      "text/plain": [
       "          classA  classB  classC  Subject\n",
       "Midterm1      67      55      72  English\n",
       "Midterm2      89      75      95  English\n",
       "Final         79      64      86  English\n",
       "Midterm1      73      81      45     Math\n",
       "Midterm2      50      95      58     Math\n",
       "Final         97      74      66     Math"
      ]
     },
     "metadata": {},
     "output_type": "display_data"
    }
   ],
   "source": [
    "display(combined_grades)"
   ]
  },
  {
   "cell_type": "markdown",
   "metadata": {},
   "source": [
    "### Reset index by specifying `ignore_index`."
   ]
  },
  {
   "cell_type": "code",
   "execution_count": 36,
   "metadata": {},
   "outputs": [
    {
     "data": {
      "text/html": [
       "<div>\n",
       "<table border=\"1\" class=\"dataframe\">\n",
       "  <thead>\n",
       "    <tr style=\"text-align: right;\">\n",
       "      <th></th>\n",
       "      <th>classA</th>\n",
       "      <th>classB</th>\n",
       "      <th>classC</th>\n",
       "      <th>Subject</th>\n",
       "    </tr>\n",
       "  </thead>\n",
       "  <tbody>\n",
       "    <tr>\n",
       "      <th>0</th>\n",
       "      <td>67</td>\n",
       "      <td>55</td>\n",
       "      <td>72</td>\n",
       "      <td>English</td>\n",
       "    </tr>\n",
       "    <tr>\n",
       "      <th>1</th>\n",
       "      <td>89</td>\n",
       "      <td>75</td>\n",
       "      <td>95</td>\n",
       "      <td>English</td>\n",
       "    </tr>\n",
       "    <tr>\n",
       "      <th>2</th>\n",
       "      <td>79</td>\n",
       "      <td>64</td>\n",
       "      <td>86</td>\n",
       "      <td>English</td>\n",
       "    </tr>\n",
       "    <tr>\n",
       "      <th>3</th>\n",
       "      <td>73</td>\n",
       "      <td>81</td>\n",
       "      <td>45</td>\n",
       "      <td>Math</td>\n",
       "    </tr>\n",
       "    <tr>\n",
       "      <th>4</th>\n",
       "      <td>50</td>\n",
       "      <td>95</td>\n",
       "      <td>58</td>\n",
       "      <td>Math</td>\n",
       "    </tr>\n",
       "    <tr>\n",
       "      <th>5</th>\n",
       "      <td>97</td>\n",
       "      <td>74</td>\n",
       "      <td>66</td>\n",
       "      <td>Math</td>\n",
       "    </tr>\n",
       "  </tbody>\n",
       "</table>\n",
       "</div>"
      ],
      "text/plain": [
       "   classA  classB  classC  Subject\n",
       "0      67      55      72  English\n",
       "1      89      75      95  English\n",
       "2      79      64      86  English\n",
       "3      73      81      45     Math\n",
       "4      50      95      58     Math\n",
       "5      97      74      66     Math"
      ]
     },
     "metadata": {},
     "output_type": "display_data"
    }
   ],
   "source": [
    "# ignore index\n",
    "\n",
    "display(pd.concat([grades1, grades2], ignore_index=True))"
   ]
  },
  {
   "cell_type": "markdown",
   "metadata": {},
   "source": [
    "### Reset index by `.reset_index()`\n",
    "\n",
    "- By default, Pandas will insert the index labels into a column.\n",
    "- It is useful when we want to reset the index and keep the index labels at the same time."
   ]
  },
  {
   "cell_type": "code",
   "execution_count": 37,
   "metadata": {},
   "outputs": [
    {
     "data": {
      "text/html": [
       "<div>\n",
       "<table border=\"1\" class=\"dataframe\">\n",
       "  <thead>\n",
       "    <tr style=\"text-align: right;\">\n",
       "      <th></th>\n",
       "      <th>index</th>\n",
       "      <th>classA</th>\n",
       "      <th>classB</th>\n",
       "      <th>classC</th>\n",
       "      <th>Subject</th>\n",
       "    </tr>\n",
       "  </thead>\n",
       "  <tbody>\n",
       "    <tr>\n",
       "      <th>0</th>\n",
       "      <td>Midterm1</td>\n",
       "      <td>67</td>\n",
       "      <td>55</td>\n",
       "      <td>72</td>\n",
       "      <td>English</td>\n",
       "    </tr>\n",
       "    <tr>\n",
       "      <th>1</th>\n",
       "      <td>Midterm2</td>\n",
       "      <td>89</td>\n",
       "      <td>75</td>\n",
       "      <td>95</td>\n",
       "      <td>English</td>\n",
       "    </tr>\n",
       "    <tr>\n",
       "      <th>2</th>\n",
       "      <td>Final</td>\n",
       "      <td>79</td>\n",
       "      <td>64</td>\n",
       "      <td>86</td>\n",
       "      <td>English</td>\n",
       "    </tr>\n",
       "    <tr>\n",
       "      <th>3</th>\n",
       "      <td>Midterm1</td>\n",
       "      <td>73</td>\n",
       "      <td>81</td>\n",
       "      <td>45</td>\n",
       "      <td>Math</td>\n",
       "    </tr>\n",
       "    <tr>\n",
       "      <th>4</th>\n",
       "      <td>Midterm2</td>\n",
       "      <td>50</td>\n",
       "      <td>95</td>\n",
       "      <td>58</td>\n",
       "      <td>Math</td>\n",
       "    </tr>\n",
       "    <tr>\n",
       "      <th>5</th>\n",
       "      <td>Final</td>\n",
       "      <td>97</td>\n",
       "      <td>74</td>\n",
       "      <td>66</td>\n",
       "      <td>Math</td>\n",
       "    </tr>\n",
       "  </tbody>\n",
       "</table>\n",
       "</div>"
      ],
      "text/plain": [
       "      index  classA  classB  classC  Subject\n",
       "0  Midterm1      67      55      72  English\n",
       "1  Midterm2      89      75      95  English\n",
       "2     Final      79      64      86  English\n",
       "3  Midterm1      73      81      45     Math\n",
       "4  Midterm2      50      95      58     Math\n",
       "5     Final      97      74      66     Math"
      ]
     },
     "metadata": {},
     "output_type": "display_data"
    }
   ],
   "source": [
    "# reset index and keep the index\n",
    "display(combined_grades.reset_index())"
   ]
  },
  {
   "cell_type": "markdown",
   "metadata": {},
   "source": [
    "### Drop the index\n",
    "\n",
    "- If the labels is not useful, we can specify `drop = True` to drop the index and do not insert it back."
   ]
  },
  {
   "cell_type": "code",
   "execution_count": 38,
   "metadata": {},
   "outputs": [
    {
     "data": {
      "text/html": [
       "<div>\n",
       "<table border=\"1\" class=\"dataframe\">\n",
       "  <thead>\n",
       "    <tr style=\"text-align: right;\">\n",
       "      <th></th>\n",
       "      <th>classA</th>\n",
       "      <th>classB</th>\n",
       "      <th>classC</th>\n",
       "      <th>Subject</th>\n",
       "    </tr>\n",
       "  </thead>\n",
       "  <tbody>\n",
       "    <tr>\n",
       "      <th>0</th>\n",
       "      <td>67</td>\n",
       "      <td>55</td>\n",
       "      <td>72</td>\n",
       "      <td>English</td>\n",
       "    </tr>\n",
       "    <tr>\n",
       "      <th>1</th>\n",
       "      <td>89</td>\n",
       "      <td>75</td>\n",
       "      <td>95</td>\n",
       "      <td>English</td>\n",
       "    </tr>\n",
       "    <tr>\n",
       "      <th>2</th>\n",
       "      <td>79</td>\n",
       "      <td>64</td>\n",
       "      <td>86</td>\n",
       "      <td>English</td>\n",
       "    </tr>\n",
       "    <tr>\n",
       "      <th>3</th>\n",
       "      <td>73</td>\n",
       "      <td>81</td>\n",
       "      <td>45</td>\n",
       "      <td>Math</td>\n",
       "    </tr>\n",
       "    <tr>\n",
       "      <th>4</th>\n",
       "      <td>50</td>\n",
       "      <td>95</td>\n",
       "      <td>58</td>\n",
       "      <td>Math</td>\n",
       "    </tr>\n",
       "    <tr>\n",
       "      <th>5</th>\n",
       "      <td>97</td>\n",
       "      <td>74</td>\n",
       "      <td>66</td>\n",
       "      <td>Math</td>\n",
       "    </tr>\n",
       "  </tbody>\n",
       "</table>\n",
       "</div>"
      ],
      "text/plain": [
       "   classA  classB  classC  Subject\n",
       "0      67      55      72  English\n",
       "1      89      75      95  English\n",
       "2      79      64      86  English\n",
       "3      73      81      45     Math\n",
       "4      50      95      58     Math\n",
       "5      97      74      66     Math"
      ]
     },
     "metadata": {},
     "output_type": "display_data"
    }
   ],
   "source": [
    "# reset index and drop the index\n",
    "display(combined_grades.reset_index(drop=True))"
   ]
  },
  {
   "cell_type": "markdown",
   "metadata": {},
   "source": [
    "# Part 5: Merging Data\n",
    "\n",
    "- Sometimes we may need to merge two dataset according to some key columns.\n",
    "- Here, we introduce 3 simple merging methods: one-to-one, many-to-one and many-to-many.\n",
    "\n",
    "![join methods](images/Join_Merge_SAS.png)"
   ]
  },
  {
   "cell_type": "markdown",
   "metadata": {},
   "source": [
    "### Merge data in Pandas\n",
    "\n",
    "- We can use **`pd.merge(dataframe1, dataframe2)`** or **`dataframe1.merge(dataframe2)`** to perform the above 3 merging methods."
   ]
  },
  {
   "cell_type": "code",
   "execution_count": 39,
   "metadata": {},
   "outputs": [
    {
     "data": {
      "text/html": [
       "<div>\n",
       "<table border=\"1\" class=\"dataframe\">\n",
       "  <thead>\n",
       "    <tr style=\"text-align: right;\">\n",
       "      <th></th>\n",
       "      <th>Plan</th>\n",
       "      <th>User</th>\n",
       "    </tr>\n",
       "  </thead>\n",
       "  <tbody>\n",
       "    <tr>\n",
       "      <th>0</th>\n",
       "      <td>family plan</td>\n",
       "      <td>Kevin</td>\n",
       "    </tr>\n",
       "    <tr>\n",
       "      <th>1</th>\n",
       "      <td>individual plan</td>\n",
       "      <td>Belle</td>\n",
       "    </tr>\n",
       "    <tr>\n",
       "      <th>2</th>\n",
       "      <td>individual plan</td>\n",
       "      <td>國維</td>\n",
       "    </tr>\n",
       "    <tr>\n",
       "      <th>3</th>\n",
       "      <td>free</td>\n",
       "      <td>黃和</td>\n",
       "    </tr>\n",
       "    <tr>\n",
       "      <th>4</th>\n",
       "      <td>free</td>\n",
       "      <td>Alicia</td>\n",
       "    </tr>\n",
       "  </tbody>\n",
       "</table>\n",
       "</div>"
      ],
      "text/plain": [
       "              Plan    User\n",
       "0      family plan   Kevin\n",
       "1  individual plan   Belle\n",
       "2  individual plan      國維\n",
       "3             free      黃和\n",
       "4             free  Alicia"
      ]
     },
     "metadata": {},
     "output_type": "display_data"
    },
    {
     "data": {
      "text/html": [
       "<div>\n",
       "<table border=\"1\" class=\"dataframe\">\n",
       "  <thead>\n",
       "    <tr style=\"text-align: right;\">\n",
       "      <th></th>\n",
       "      <th>JoinYear</th>\n",
       "      <th>User</th>\n",
       "    </tr>\n",
       "  </thead>\n",
       "  <tbody>\n",
       "    <tr>\n",
       "      <th>0</th>\n",
       "      <td>2013</td>\n",
       "      <td>Kevin</td>\n",
       "    </tr>\n",
       "    <tr>\n",
       "      <th>1</th>\n",
       "      <td>2014</td>\n",
       "      <td>Belle</td>\n",
       "    </tr>\n",
       "    <tr>\n",
       "      <th>2</th>\n",
       "      <td>2015</td>\n",
       "      <td>國維</td>\n",
       "    </tr>\n",
       "    <tr>\n",
       "      <th>3</th>\n",
       "      <td>2016</td>\n",
       "      <td>黃和</td>\n",
       "    </tr>\n",
       "    <tr>\n",
       "      <th>4</th>\n",
       "      <td>2017</td>\n",
       "      <td>Alicia</td>\n",
       "    </tr>\n",
       "  </tbody>\n",
       "</table>\n",
       "</div>"
      ],
      "text/plain": [
       "   JoinYear    User\n",
       "0      2013   Kevin\n",
       "1      2014   Belle\n",
       "2      2015      國維\n",
       "3      2016      黃和\n",
       "4      2017  Alicia"
      ]
     },
     "metadata": {},
     "output_type": "display_data"
    }
   ],
   "source": [
    "users_plan = pd.DataFrame({'User': ['Kevin', 'Belle', '國維', '黃和', 'Alicia'],\n",
    "                    'Plan': ['family plan', 'individual plan', 'individual plan', 'free', 'free']})\n",
    "users_join = pd.DataFrame({'User': ['Kevin', 'Belle', '國維', '黃和', 'Alicia'],\n",
    "                    'JoinYear': [2013, 2014, 2015, 2016, 2017]})\n",
    "\n",
    "display(users_plan, users_join)"
   ]
  },
  {
   "cell_type": "markdown",
   "metadata": {},
   "source": [
    "## 5-1: One-to-one join\n",
    "\n",
    "- This is the simplest merging method and it is very similar to concatenation.\n",
    "- The `pd.merge()` function will automatically look for the same column as key to merge the two dataset."
   ]
  },
  {
   "cell_type": "code",
   "execution_count": 40,
   "metadata": {},
   "outputs": [
    {
     "data": {
      "text/html": [
       "<div>\n",
       "<table border=\"1\" class=\"dataframe\">\n",
       "  <thead>\n",
       "    <tr style=\"text-align: right;\">\n",
       "      <th></th>\n",
       "      <th>Plan</th>\n",
       "      <th>User</th>\n",
       "      <th>JoinYear</th>\n",
       "    </tr>\n",
       "  </thead>\n",
       "  <tbody>\n",
       "    <tr>\n",
       "      <th>0</th>\n",
       "      <td>family plan</td>\n",
       "      <td>Kevin</td>\n",
       "      <td>2013</td>\n",
       "    </tr>\n",
       "    <tr>\n",
       "      <th>1</th>\n",
       "      <td>individual plan</td>\n",
       "      <td>Belle</td>\n",
       "      <td>2014</td>\n",
       "    </tr>\n",
       "    <tr>\n",
       "      <th>2</th>\n",
       "      <td>individual plan</td>\n",
       "      <td>國維</td>\n",
       "      <td>2015</td>\n",
       "    </tr>\n",
       "    <tr>\n",
       "      <th>3</th>\n",
       "      <td>free</td>\n",
       "      <td>黃和</td>\n",
       "      <td>2016</td>\n",
       "    </tr>\n",
       "    <tr>\n",
       "      <th>4</th>\n",
       "      <td>free</td>\n",
       "      <td>Alicia</td>\n",
       "      <td>2017</td>\n",
       "    </tr>\n",
       "  </tbody>\n",
       "</table>\n",
       "</div>"
      ],
      "text/plain": [
       "              Plan    User  JoinYear\n",
       "0      family plan   Kevin      2013\n",
       "1  individual plan   Belle      2014\n",
       "2  individual plan      國維      2015\n",
       "3             free      黃和      2016\n",
       "4             free  Alicia      2017"
      ]
     },
     "metadata": {},
     "output_type": "display_data"
    }
   ],
   "source": [
    "# one-to-one join by 'User' column\n",
    "\n",
    "users_info1 = pd.merge(users_plan, users_join)\n",
    "display(users_info1)"
   ]
  },
  {
   "cell_type": "markdown",
   "metadata": {},
   "source": [
    "### Specify merge key\n",
    "\n",
    "- If you want to sepcify a column to be used as key, set `on = your_merge_key` to specify the key."
   ]
  },
  {
   "cell_type": "code",
   "execution_count": 41,
   "metadata": {},
   "outputs": [
    {
     "data": {
      "text/html": [
       "<div>\n",
       "<table border=\"1\" class=\"dataframe\">\n",
       "  <thead>\n",
       "    <tr style=\"text-align: right;\">\n",
       "      <th></th>\n",
       "      <th>Plan</th>\n",
       "      <th>User</th>\n",
       "      <th>JoinYear</th>\n",
       "    </tr>\n",
       "  </thead>\n",
       "  <tbody>\n",
       "    <tr>\n",
       "      <th>0</th>\n",
       "      <td>family plan</td>\n",
       "      <td>Kevin</td>\n",
       "      <td>2013</td>\n",
       "    </tr>\n",
       "    <tr>\n",
       "      <th>1</th>\n",
       "      <td>individual plan</td>\n",
       "      <td>Belle</td>\n",
       "      <td>2014</td>\n",
       "    </tr>\n",
       "    <tr>\n",
       "      <th>2</th>\n",
       "      <td>individual plan</td>\n",
       "      <td>國維</td>\n",
       "      <td>2015</td>\n",
       "    </tr>\n",
       "    <tr>\n",
       "      <th>3</th>\n",
       "      <td>free</td>\n",
       "      <td>黃和</td>\n",
       "      <td>2016</td>\n",
       "    </tr>\n",
       "    <tr>\n",
       "      <th>4</th>\n",
       "      <td>free</td>\n",
       "      <td>Alicia</td>\n",
       "      <td>2017</td>\n",
       "    </tr>\n",
       "  </tbody>\n",
       "</table>\n",
       "</div>"
      ],
      "text/plain": [
       "              Plan    User  JoinYear\n",
       "0      family plan   Kevin      2013\n",
       "1  individual plan   Belle      2014\n",
       "2  individual plan      國維      2015\n",
       "3             free      黃和      2016\n",
       "4             free  Alicia      2017"
      ]
     },
     "metadata": {},
     "output_type": "display_data"
    }
   ],
   "source": [
    "users_info1 = pd.merge(users_plan, users_join, on='User')\n",
    "display(users_info1)"
   ]
  },
  {
   "cell_type": "markdown",
   "metadata": {},
   "source": [
    "### Sepcify merge key in each datafame\n",
    "\n",
    "- If the column names are different in the two DataFrame, use `left_on = left_key` and `right_on = right_key` to specify the merge key in each dataframe."
   ]
  },
  {
   "cell_type": "code",
   "execution_count": 42,
   "metadata": {},
   "outputs": [
    {
     "data": {
      "text/html": [
       "<div>\n",
       "<table border=\"1\" class=\"dataframe\">\n",
       "  <thead>\n",
       "    <tr style=\"text-align: right;\">\n",
       "      <th></th>\n",
       "      <th>Plan</th>\n",
       "      <th>User</th>\n",
       "    </tr>\n",
       "  </thead>\n",
       "  <tbody>\n",
       "    <tr>\n",
       "      <th>0</th>\n",
       "      <td>family plan</td>\n",
       "      <td>Kevin</td>\n",
       "    </tr>\n",
       "    <tr>\n",
       "      <th>1</th>\n",
       "      <td>individual plan</td>\n",
       "      <td>Belle</td>\n",
       "    </tr>\n",
       "    <tr>\n",
       "      <th>2</th>\n",
       "      <td>individual plan</td>\n",
       "      <td>國維</td>\n",
       "    </tr>\n",
       "    <tr>\n",
       "      <th>3</th>\n",
       "      <td>free</td>\n",
       "      <td>黃和</td>\n",
       "    </tr>\n",
       "    <tr>\n",
       "      <th>4</th>\n",
       "      <td>free</td>\n",
       "      <td>Alicia</td>\n",
       "    </tr>\n",
       "  </tbody>\n",
       "</table>\n",
       "</div>"
      ],
      "text/plain": [
       "              Plan    User\n",
       "0      family plan   Kevin\n",
       "1  individual plan   Belle\n",
       "2  individual plan      國維\n",
       "3             free      黃和\n",
       "4             free  Alicia"
      ]
     },
     "metadata": {},
     "output_type": "display_data"
    },
    {
     "data": {
      "text/html": [
       "<div>\n",
       "<table border=\"1\" class=\"dataframe\">\n",
       "  <thead>\n",
       "    <tr style=\"text-align: right;\">\n",
       "      <th></th>\n",
       "      <th>JoinYear</th>\n",
       "      <th>UserName</th>\n",
       "    </tr>\n",
       "  </thead>\n",
       "  <tbody>\n",
       "    <tr>\n",
       "      <th>0</th>\n",
       "      <td>2013</td>\n",
       "      <td>Kevin</td>\n",
       "    </tr>\n",
       "    <tr>\n",
       "      <th>1</th>\n",
       "      <td>2014</td>\n",
       "      <td>Belle</td>\n",
       "    </tr>\n",
       "    <tr>\n",
       "      <th>2</th>\n",
       "      <td>2015</td>\n",
       "      <td>國維</td>\n",
       "    </tr>\n",
       "    <tr>\n",
       "      <th>3</th>\n",
       "      <td>2016</td>\n",
       "      <td>黃和</td>\n",
       "    </tr>\n",
       "    <tr>\n",
       "      <th>4</th>\n",
       "      <td>2017</td>\n",
       "      <td>Alicia</td>\n",
       "    </tr>\n",
       "  </tbody>\n",
       "</table>\n",
       "</div>"
      ],
      "text/plain": [
       "   JoinYear UserName\n",
       "0      2013    Kevin\n",
       "1      2014    Belle\n",
       "2      2015       國維\n",
       "3      2016       黃和\n",
       "4      2017   Alicia"
      ]
     },
     "metadata": {},
     "output_type": "display_data"
    }
   ],
   "source": [
    "test1 = pd.DataFrame({'User': ['Kevin', 'Belle', '國維', '黃和', 'Alicia'],\n",
    "                    'Plan': ['family plan', 'individual plan', 'individual plan', 'free', 'free']})\n",
    "\n",
    "# change 'User' to 'UserName'\n",
    "test2 = pd.DataFrame({'UserName': ['Kevin', 'Belle', '國維', '黃和', 'Alicia'],\n",
    "                    'JoinYear': [2013, 2014, 2015, 2016, 2017]})\n",
    "\n",
    "display(test1, test2)"
   ]
  },
  {
   "cell_type": "code",
   "execution_count": 43,
   "metadata": {},
   "outputs": [
    {
     "ename": "MergeError",
     "evalue": "No common columns to perform merge on",
     "output_type": "error",
     "traceback": [
      "\u001b[0;31m---------------------------------------------------------------------------\u001b[0m",
      "\u001b[0;31mMergeError\u001b[0m                                Traceback (most recent call last)",
      "\u001b[0;32m<ipython-input-43-3535d849fe26>\u001b[0m in \u001b[0;36m<module>\u001b[0;34m()\u001b[0m\n\u001b[1;32m      1\u001b[0m \u001b[0;31m# error\u001b[0m\u001b[0;34m\u001b[0m\u001b[0;34m\u001b[0m\u001b[0m\n\u001b[0;32m----> 2\u001b[0;31m \u001b[0mpd\u001b[0m\u001b[0;34m.\u001b[0m\u001b[0mmerge\u001b[0m\u001b[0;34m(\u001b[0m\u001b[0mtest1\u001b[0m\u001b[0;34m,\u001b[0m \u001b[0mtest2\u001b[0m\u001b[0;34m)\u001b[0m\u001b[0;34m\u001b[0m\u001b[0m\n\u001b[0m",
      "\u001b[0;32m/Library/Frameworks/Python.framework/Versions/3.6/lib/python3.6/site-packages/pandas/tools/merge.py\u001b[0m in \u001b[0;36mmerge\u001b[0;34m(left, right, how, on, left_on, right_on, left_index, right_index, sort, suffixes, copy, indicator)\u001b[0m\n\u001b[1;32m     59\u001b[0m                          \u001b[0mright_on\u001b[0m\u001b[0;34m=\u001b[0m\u001b[0mright_on\u001b[0m\u001b[0;34m,\u001b[0m \u001b[0mleft_index\u001b[0m\u001b[0;34m=\u001b[0m\u001b[0mleft_index\u001b[0m\u001b[0;34m,\u001b[0m\u001b[0;34m\u001b[0m\u001b[0m\n\u001b[1;32m     60\u001b[0m                          \u001b[0mright_index\u001b[0m\u001b[0;34m=\u001b[0m\u001b[0mright_index\u001b[0m\u001b[0;34m,\u001b[0m \u001b[0msort\u001b[0m\u001b[0;34m=\u001b[0m\u001b[0msort\u001b[0m\u001b[0;34m,\u001b[0m \u001b[0msuffixes\u001b[0m\u001b[0;34m=\u001b[0m\u001b[0msuffixes\u001b[0m\u001b[0;34m,\u001b[0m\u001b[0;34m\u001b[0m\u001b[0m\n\u001b[0;32m---> 61\u001b[0;31m                          copy=copy, indicator=indicator)\n\u001b[0m\u001b[1;32m     62\u001b[0m     \u001b[0;32mreturn\u001b[0m \u001b[0mop\u001b[0m\u001b[0;34m.\u001b[0m\u001b[0mget_result\u001b[0m\u001b[0;34m(\u001b[0m\u001b[0;34m)\u001b[0m\u001b[0;34m\u001b[0m\u001b[0m\n\u001b[1;32m     63\u001b[0m \u001b[0;32mif\u001b[0m \u001b[0m__debug__\u001b[0m\u001b[0;34m:\u001b[0m\u001b[0;34m\u001b[0m\u001b[0m\n",
      "\u001b[0;32m/Library/Frameworks/Python.framework/Versions/3.6/lib/python3.6/site-packages/pandas/tools/merge.py\u001b[0m in \u001b[0;36m__init__\u001b[0;34m(self, left, right, how, on, left_on, right_on, axis, left_index, right_index, sort, suffixes, copy, indicator)\u001b[0m\n\u001b[1;32m    536\u001b[0m             \u001b[0mwarnings\u001b[0m\u001b[0;34m.\u001b[0m\u001b[0mwarn\u001b[0m\u001b[0;34m(\u001b[0m\u001b[0mmsg\u001b[0m\u001b[0;34m,\u001b[0m \u001b[0mUserWarning\u001b[0m\u001b[0;34m)\u001b[0m\u001b[0;34m\u001b[0m\u001b[0m\n\u001b[1;32m    537\u001b[0m \u001b[0;34m\u001b[0m\u001b[0m\n\u001b[0;32m--> 538\u001b[0;31m         \u001b[0mself\u001b[0m\u001b[0;34m.\u001b[0m\u001b[0m_validate_specification\u001b[0m\u001b[0;34m(\u001b[0m\u001b[0;34m)\u001b[0m\u001b[0;34m\u001b[0m\u001b[0m\n\u001b[0m\u001b[1;32m    539\u001b[0m \u001b[0;34m\u001b[0m\u001b[0m\n\u001b[1;32m    540\u001b[0m         \u001b[0;31m# note this function has side effects\u001b[0m\u001b[0;34m\u001b[0m\u001b[0;34m\u001b[0m\u001b[0m\n",
      "\u001b[0;32m/Library/Frameworks/Python.framework/Versions/3.6/lib/python3.6/site-packages/pandas/tools/merge.py\u001b[0m in \u001b[0;36m_validate_specification\u001b[0;34m(self)\u001b[0m\n\u001b[1;32m    881\u001b[0m                     self.right.columns)\n\u001b[1;32m    882\u001b[0m                 \u001b[0;32mif\u001b[0m \u001b[0mlen\u001b[0m\u001b[0;34m(\u001b[0m\u001b[0mcommon_cols\u001b[0m\u001b[0;34m)\u001b[0m \u001b[0;34m==\u001b[0m \u001b[0;36m0\u001b[0m\u001b[0;34m:\u001b[0m\u001b[0;34m\u001b[0m\u001b[0m\n\u001b[0;32m--> 883\u001b[0;31m                     \u001b[0;32mraise\u001b[0m \u001b[0mMergeError\u001b[0m\u001b[0;34m(\u001b[0m\u001b[0;34m'No common columns to perform merge on'\u001b[0m\u001b[0;34m)\u001b[0m\u001b[0;34m\u001b[0m\u001b[0m\n\u001b[0m\u001b[1;32m    884\u001b[0m                 \u001b[0;32mif\u001b[0m \u001b[0;32mnot\u001b[0m \u001b[0mcommon_cols\u001b[0m\u001b[0;34m.\u001b[0m\u001b[0mis_unique\u001b[0m\u001b[0;34m:\u001b[0m\u001b[0;34m\u001b[0m\u001b[0m\n\u001b[1;32m    885\u001b[0m                     raise MergeError(\"Data columns not unique: %s\"\n",
      "\u001b[0;31mMergeError\u001b[0m: No common columns to perform merge on"
     ]
    }
   ],
   "source": [
    "# error\n",
    "pd.merge(test1, test2)"
   ]
  },
  {
   "cell_type": "code",
   "execution_count": 44,
   "metadata": {},
   "outputs": [
    {
     "data": {
      "text/html": [
       "<div>\n",
       "<table border=\"1\" class=\"dataframe\">\n",
       "  <thead>\n",
       "    <tr style=\"text-align: right;\">\n",
       "      <th></th>\n",
       "      <th>Plan</th>\n",
       "      <th>User</th>\n",
       "      <th>JoinYear</th>\n",
       "      <th>UserName</th>\n",
       "    </tr>\n",
       "  </thead>\n",
       "  <tbody>\n",
       "    <tr>\n",
       "      <th>0</th>\n",
       "      <td>family plan</td>\n",
       "      <td>Kevin</td>\n",
       "      <td>2013</td>\n",
       "      <td>Kevin</td>\n",
       "    </tr>\n",
       "    <tr>\n",
       "      <th>1</th>\n",
       "      <td>individual plan</td>\n",
       "      <td>Belle</td>\n",
       "      <td>2014</td>\n",
       "      <td>Belle</td>\n",
       "    </tr>\n",
       "    <tr>\n",
       "      <th>2</th>\n",
       "      <td>individual plan</td>\n",
       "      <td>國維</td>\n",
       "      <td>2015</td>\n",
       "      <td>國維</td>\n",
       "    </tr>\n",
       "    <tr>\n",
       "      <th>3</th>\n",
       "      <td>free</td>\n",
       "      <td>黃和</td>\n",
       "      <td>2016</td>\n",
       "      <td>黃和</td>\n",
       "    </tr>\n",
       "    <tr>\n",
       "      <th>4</th>\n",
       "      <td>free</td>\n",
       "      <td>Alicia</td>\n",
       "      <td>2017</td>\n",
       "      <td>Alicia</td>\n",
       "    </tr>\n",
       "  </tbody>\n",
       "</table>\n",
       "</div>"
      ],
      "text/plain": [
       "              Plan    User  JoinYear UserName\n",
       "0      family plan   Kevin      2013    Kevin\n",
       "1  individual plan   Belle      2014    Belle\n",
       "2  individual plan      國維      2015       國維\n",
       "3             free      黃和      2016       黃和\n",
       "4             free  Alicia      2017   Alicia"
      ]
     },
     "metadata": {},
     "output_type": "display_data"
    }
   ],
   "source": [
    "demo = pd.merge(test1, test2, left_on='User', right_on='UserName')\n",
    "display(demo)"
   ]
  },
  {
   "cell_type": "markdown",
   "metadata": {},
   "source": [
    "## 5-2: Many-to-one join\n",
    "\n",
    "- One of the key column contains duplicate entires.\n",
    "- `pd.merge()` will preserve the duplicate entires automatically."
   ]
  },
  {
   "cell_type": "code",
   "execution_count": 45,
   "metadata": {},
   "outputs": [
    {
     "data": {
      "text/html": [
       "<div>\n",
       "<table border=\"1\" class=\"dataframe\">\n",
       "  <thead>\n",
       "    <tr style=\"text-align: right;\">\n",
       "      <th></th>\n",
       "      <th>Plan</th>\n",
       "      <th>User</th>\n",
       "      <th>JoinYear</th>\n",
       "      <th>Subscription</th>\n",
       "    </tr>\n",
       "  </thead>\n",
       "  <tbody>\n",
       "    <tr>\n",
       "      <th>0</th>\n",
       "      <td>family plan</td>\n",
       "      <td>Kevin</td>\n",
       "      <td>2013</td>\n",
       "      <td>Yes</td>\n",
       "    </tr>\n",
       "    <tr>\n",
       "      <th>1</th>\n",
       "      <td>individual plan</td>\n",
       "      <td>Belle</td>\n",
       "      <td>2014</td>\n",
       "      <td>Yes</td>\n",
       "    </tr>\n",
       "    <tr>\n",
       "      <th>2</th>\n",
       "      <td>individual plan</td>\n",
       "      <td>國維</td>\n",
       "      <td>2015</td>\n",
       "      <td>Yes</td>\n",
       "    </tr>\n",
       "    <tr>\n",
       "      <th>3</th>\n",
       "      <td>free</td>\n",
       "      <td>黃和</td>\n",
       "      <td>2016</td>\n",
       "      <td>No</td>\n",
       "    </tr>\n",
       "    <tr>\n",
       "      <th>4</th>\n",
       "      <td>free</td>\n",
       "      <td>Alicia</td>\n",
       "      <td>2017</td>\n",
       "      <td>No</td>\n",
       "    </tr>\n",
       "  </tbody>\n",
       "</table>\n",
       "</div>"
      ],
      "text/plain": [
       "              Plan    User  JoinYear Subscription\n",
       "0      family plan   Kevin      2013          Yes\n",
       "1  individual plan   Belle      2014          Yes\n",
       "2  individual plan      國維      2015          Yes\n",
       "3             free      黃和      2016           No\n",
       "4             free  Alicia      2017           No"
      ]
     },
     "metadata": {},
     "output_type": "display_data"
    }
   ],
   "source": [
    "# many-to-one join by 'Plan' column\n",
    "\n",
    "subscribe = pd.DataFrame({'Plan': ['family plan', 'individual plan', 'free'],\n",
    "                          'Subscription': ['Yes', 'Yes', 'No']})\n",
    "\n",
    "users_info2 = users_info1.merge(subscribe)\n",
    "display(users_info2)"
   ]
  },
  {
   "cell_type": "markdown",
   "metadata": {},
   "source": [
    "## 5-3: Many-to-many join\n",
    "\n",
    "- Both key columns contains duplicate entires.\n",
    "- Likewise, `pd.merge()` will preserve duplicate entires in both columns."
   ]
  },
  {
   "cell_type": "code",
   "execution_count": 46,
   "metadata": {},
   "outputs": [
    {
     "data": {
      "text/html": [
       "<div>\n",
       "<table border=\"1\" class=\"dataframe\">\n",
       "  <thead>\n",
       "    <tr style=\"text-align: right;\">\n",
       "      <th></th>\n",
       "      <th>Plan</th>\n",
       "      <th>User</th>\n",
       "      <th>JoinYear</th>\n",
       "      <th>Subscription</th>\n",
       "      <th>Benefits</th>\n",
       "    </tr>\n",
       "  </thead>\n",
       "  <tbody>\n",
       "    <tr>\n",
       "      <th>0</th>\n",
       "      <td>family plan</td>\n",
       "      <td>Kevin</td>\n",
       "      <td>2013</td>\n",
       "      <td>Yes</td>\n",
       "      <td>5 devices</td>\n",
       "    </tr>\n",
       "    <tr>\n",
       "      <th>1</th>\n",
       "      <td>family plan</td>\n",
       "      <td>Kevin</td>\n",
       "      <td>2013</td>\n",
       "      <td>Yes</td>\n",
       "      <td>download</td>\n",
       "    </tr>\n",
       "    <tr>\n",
       "      <th>2</th>\n",
       "      <td>individual plan</td>\n",
       "      <td>Belle</td>\n",
       "      <td>2014</td>\n",
       "      <td>Yes</td>\n",
       "      <td>1 device</td>\n",
       "    </tr>\n",
       "    <tr>\n",
       "      <th>3</th>\n",
       "      <td>individual plan</td>\n",
       "      <td>Belle</td>\n",
       "      <td>2014</td>\n",
       "      <td>Yes</td>\n",
       "      <td>download</td>\n",
       "    </tr>\n",
       "    <tr>\n",
       "      <th>4</th>\n",
       "      <td>individual plan</td>\n",
       "      <td>國維</td>\n",
       "      <td>2015</td>\n",
       "      <td>Yes</td>\n",
       "      <td>1 device</td>\n",
       "    </tr>\n",
       "    <tr>\n",
       "      <th>5</th>\n",
       "      <td>individual plan</td>\n",
       "      <td>國維</td>\n",
       "      <td>2015</td>\n",
       "      <td>Yes</td>\n",
       "      <td>download</td>\n",
       "    </tr>\n",
       "    <tr>\n",
       "      <th>6</th>\n",
       "      <td>free</td>\n",
       "      <td>黃和</td>\n",
       "      <td>2016</td>\n",
       "      <td>No</td>\n",
       "      <td>1 device</td>\n",
       "    </tr>\n",
       "    <tr>\n",
       "      <th>7</th>\n",
       "      <td>free</td>\n",
       "      <td>Alicia</td>\n",
       "      <td>2017</td>\n",
       "      <td>No</td>\n",
       "      <td>1 device</td>\n",
       "    </tr>\n",
       "  </tbody>\n",
       "</table>\n",
       "</div>"
      ],
      "text/plain": [
       "              Plan    User  JoinYear Subscription   Benefits\n",
       "0      family plan   Kevin      2013          Yes  5 devices\n",
       "1      family plan   Kevin      2013          Yes   download\n",
       "2  individual plan   Belle      2014          Yes   1 device\n",
       "3  individual plan   Belle      2014          Yes   download\n",
       "4  individual plan      國維      2015          Yes   1 device\n",
       "5  individual plan      國維      2015          Yes   download\n",
       "6             free      黃和      2016           No   1 device\n",
       "7             free  Alicia      2017           No   1 device"
      ]
     },
     "metadata": {},
     "output_type": "display_data"
    }
   ],
   "source": [
    "# many-to-many join by 'Plan' column\n",
    "\n",
    "benefits = pd.DataFrame({'Plan': ['family plan', 'family plan', 'individual plan', 'individual plan', 'free'],\n",
    "                         'Benefits': ['5 devices', 'download', '1 device', 'download', '1 device']})\n",
    "\n",
    "users_info3 = users_info2.merge(benefits)\n",
    "display(users_info3)"
   ]
  },
  {
   "cell_type": "markdown",
   "metadata": {},
   "source": [
    "# Part 6: Exercise - Boston Housing Data"
   ]
  },
  {
   "cell_type": "markdown",
   "metadata": {},
   "source": [
    "```text\n",
    "Boston House Prices dataset\n",
    "===========================\n",
    "Data Set Characteristics:  \n",
    "\n",
    "    :Number of Instances: 506 \n",
    "    :Number of Attributes: 13 numeric/categorical predictive\n",
    "    :Median Value (attribute 14) is usually the target\n",
    "    :Attribute Information (in order):\n",
    "        - CRIM     per capita crime rate by town\n",
    "        - ZN       proportion of residential land zoned for lots over 25,000 sq.ft.\n",
    "        - INDUS    proportion of non-retail business acres per town\n",
    "        - CHAS     Charles River dummy variable (= 1 if tract bounds river; 0 otherwise)\n",
    "        - NOX      nitric oxides concentration (parts per 10 million)\n",
    "        - RM       average number of rooms per dwelling\n",
    "        - AGE      proportion of owner-occupied units built prior to 1940\n",
    "        - DIS      weighted distances to five Boston employment centres\n",
    "        - RAD      index of accessibility to radial highways\n",
    "        - TAX      full-value property-tax rate per $10,000\n",
    "        - PTRATIO  pupil-teacher ratio by town\n",
    "        - B        1000(Bk - 0.63)^2 where Bk is the proportion of blacks by town\n",
    "        - LSTAT    % lower status of the population\n",
    "        - MEDV     Median value of owner-occupied homes in $1000's\n",
    "\n",
    "    :Missing Attribute Values: None\n",
    "    :Creator: Harrison, D. and Rubinfeld, D.L.\n",
    "```"
   ]
  },
  {
   "cell_type": "markdown",
   "metadata": {},
   "source": [
    "### Read Data from CSV\n",
    "\n",
    ">```text\n",
    "Read in boston house price data from csv file.\n",
    "File name = boston_dataset.csv\n",
    "There is no header in this file\n",
    "```"
   ]
  },
  {
   "cell_type": "code",
   "execution_count": 49,
   "metadata": {},
   "outputs": [],
   "source": [
    "# Exercise 1\n",
    "\n",
    "### your code here ###\n",
    "boston_data = pd.read_csv('data/boston_dataset.csv', header=None)"
   ]
  },
  {
   "cell_type": "code",
   "execution_count": 50,
   "metadata": {
    "scrolled": true
   },
   "outputs": [
    {
     "data": {
      "text/html": [
       "<div>\n",
       "<table border=\"1\" class=\"dataframe\">\n",
       "  <thead>\n",
       "    <tr style=\"text-align: right;\">\n",
       "      <th></th>\n",
       "      <th>0</th>\n",
       "      <th>1</th>\n",
       "      <th>2</th>\n",
       "      <th>3</th>\n",
       "      <th>4</th>\n",
       "      <th>5</th>\n",
       "      <th>6</th>\n",
       "      <th>7</th>\n",
       "      <th>8</th>\n",
       "      <th>9</th>\n",
       "      <th>10</th>\n",
       "      <th>11</th>\n",
       "      <th>12</th>\n",
       "    </tr>\n",
       "  </thead>\n",
       "  <tbody>\n",
       "    <tr>\n",
       "      <th>0</th>\n",
       "      <td>0.00632</td>\n",
       "      <td>18.0</td>\n",
       "      <td>2.31</td>\n",
       "      <td>0.0</td>\n",
       "      <td>0.538</td>\n",
       "      <td>6.575</td>\n",
       "      <td>65.2</td>\n",
       "      <td>4.0900</td>\n",
       "      <td>1.0</td>\n",
       "      <td>296.0</td>\n",
       "      <td>15.3</td>\n",
       "      <td>396.90</td>\n",
       "      <td>4.98</td>\n",
       "    </tr>\n",
       "    <tr>\n",
       "      <th>1</th>\n",
       "      <td>0.02731</td>\n",
       "      <td>0.0</td>\n",
       "      <td>7.07</td>\n",
       "      <td>0.0</td>\n",
       "      <td>0.469</td>\n",
       "      <td>6.421</td>\n",
       "      <td>78.9</td>\n",
       "      <td>4.9671</td>\n",
       "      <td>2.0</td>\n",
       "      <td>242.0</td>\n",
       "      <td>17.8</td>\n",
       "      <td>396.90</td>\n",
       "      <td>9.14</td>\n",
       "    </tr>\n",
       "    <tr>\n",
       "      <th>2</th>\n",
       "      <td>0.02729</td>\n",
       "      <td>0.0</td>\n",
       "      <td>7.07</td>\n",
       "      <td>0.0</td>\n",
       "      <td>0.469</td>\n",
       "      <td>7.185</td>\n",
       "      <td>61.1</td>\n",
       "      <td>4.9671</td>\n",
       "      <td>2.0</td>\n",
       "      <td>242.0</td>\n",
       "      <td>17.8</td>\n",
       "      <td>392.83</td>\n",
       "      <td>4.03</td>\n",
       "    </tr>\n",
       "    <tr>\n",
       "      <th>3</th>\n",
       "      <td>0.03237</td>\n",
       "      <td>0.0</td>\n",
       "      <td>2.18</td>\n",
       "      <td>0.0</td>\n",
       "      <td>0.458</td>\n",
       "      <td>6.998</td>\n",
       "      <td>45.8</td>\n",
       "      <td>6.0622</td>\n",
       "      <td>3.0</td>\n",
       "      <td>222.0</td>\n",
       "      <td>18.7</td>\n",
       "      <td>394.63</td>\n",
       "      <td>2.94</td>\n",
       "    </tr>\n",
       "    <tr>\n",
       "      <th>4</th>\n",
       "      <td>0.06905</td>\n",
       "      <td>0.0</td>\n",
       "      <td>2.18</td>\n",
       "      <td>0.0</td>\n",
       "      <td>0.458</td>\n",
       "      <td>7.147</td>\n",
       "      <td>54.2</td>\n",
       "      <td>6.0622</td>\n",
       "      <td>3.0</td>\n",
       "      <td>222.0</td>\n",
       "      <td>18.7</td>\n",
       "      <td>396.90</td>\n",
       "      <td>5.33</td>\n",
       "    </tr>\n",
       "  </tbody>\n",
       "</table>\n",
       "</div>"
      ],
      "text/plain": [
       "        0     1     2    3      4      5     6       7    8      9     10  \\\n",
       "0  0.00632  18.0  2.31  0.0  0.538  6.575  65.2  4.0900  1.0  296.0  15.3   \n",
       "1  0.02731   0.0  7.07  0.0  0.469  6.421  78.9  4.9671  2.0  242.0  17.8   \n",
       "2  0.02729   0.0  7.07  0.0  0.469  7.185  61.1  4.9671  2.0  242.0  17.8   \n",
       "3  0.03237   0.0  2.18  0.0  0.458  6.998  45.8  6.0622  3.0  222.0  18.7   \n",
       "4  0.06905   0.0  2.18  0.0  0.458  7.147  54.2  6.0622  3.0  222.0  18.7   \n",
       "\n",
       "       11    12  \n",
       "0  396.90  4.98  \n",
       "1  396.90  9.14  \n",
       "2  392.83  4.03  \n",
       "3  394.63  2.94  \n",
       "4  396.90  5.33  "
      ]
     },
     "execution_count": 50,
     "metadata": {},
     "output_type": "execute_result"
    }
   ],
   "source": [
    "# Test cell: Exercise 1\n",
    "\n",
    "# Inspect data\n",
    "boston_data.head()"
   ]
  },
  {
   "cell_type": "markdown",
   "metadata": {},
   "source": [
    "### Set column names\n",
    "\n",
    ">```text\n",
    "Since we have no column headers, please set column names for this dataset.\n",
    "```"
   ]
  },
  {
   "cell_type": "code",
   "execution_count": 51,
   "metadata": {},
   "outputs": [],
   "source": [
    "# Exercise 2\n",
    "\n",
    "columns = ['CRIM', 'ZN', 'INDUS', 'CHAS', 'NOX', 'RM', 'AGE', 'DIS', 'RAD', 'TAX', 'PTRATIO', 'B', 'LSTAT']\n",
    "\n",
    "### your code here ###\n",
    "boston_data.columns = columns"
   ]
  },
  {
   "cell_type": "code",
   "execution_count": 52,
   "metadata": {},
   "outputs": [
    {
     "data": {
      "text/html": [
       "<div>\n",
       "<table border=\"1\" class=\"dataframe\">\n",
       "  <thead>\n",
       "    <tr style=\"text-align: right;\">\n",
       "      <th></th>\n",
       "      <th>CRIM</th>\n",
       "      <th>ZN</th>\n",
       "      <th>INDUS</th>\n",
       "      <th>CHAS</th>\n",
       "      <th>NOX</th>\n",
       "      <th>RM</th>\n",
       "      <th>AGE</th>\n",
       "      <th>DIS</th>\n",
       "      <th>RAD</th>\n",
       "      <th>TAX</th>\n",
       "      <th>PTRATIO</th>\n",
       "      <th>B</th>\n",
       "      <th>LSTAT</th>\n",
       "    </tr>\n",
       "  </thead>\n",
       "  <tbody>\n",
       "    <tr>\n",
       "      <th>501</th>\n",
       "      <td>0.06263</td>\n",
       "      <td>0.0</td>\n",
       "      <td>11.93</td>\n",
       "      <td>0.0</td>\n",
       "      <td>0.573</td>\n",
       "      <td>6.593</td>\n",
       "      <td>69.1</td>\n",
       "      <td>2.4786</td>\n",
       "      <td>1.0</td>\n",
       "      <td>273.0</td>\n",
       "      <td>21.0</td>\n",
       "      <td>391.99</td>\n",
       "      <td>9.67</td>\n",
       "    </tr>\n",
       "    <tr>\n",
       "      <th>502</th>\n",
       "      <td>0.04527</td>\n",
       "      <td>0.0</td>\n",
       "      <td>11.93</td>\n",
       "      <td>0.0</td>\n",
       "      <td>0.573</td>\n",
       "      <td>6.120</td>\n",
       "      <td>76.7</td>\n",
       "      <td>2.2875</td>\n",
       "      <td>1.0</td>\n",
       "      <td>273.0</td>\n",
       "      <td>21.0</td>\n",
       "      <td>396.90</td>\n",
       "      <td>9.08</td>\n",
       "    </tr>\n",
       "    <tr>\n",
       "      <th>503</th>\n",
       "      <td>0.06076</td>\n",
       "      <td>0.0</td>\n",
       "      <td>11.93</td>\n",
       "      <td>0.0</td>\n",
       "      <td>0.573</td>\n",
       "      <td>6.976</td>\n",
       "      <td>91.0</td>\n",
       "      <td>2.1675</td>\n",
       "      <td>1.0</td>\n",
       "      <td>273.0</td>\n",
       "      <td>21.0</td>\n",
       "      <td>396.90</td>\n",
       "      <td>5.64</td>\n",
       "    </tr>\n",
       "    <tr>\n",
       "      <th>504</th>\n",
       "      <td>0.10959</td>\n",
       "      <td>0.0</td>\n",
       "      <td>11.93</td>\n",
       "      <td>0.0</td>\n",
       "      <td>0.573</td>\n",
       "      <td>6.794</td>\n",
       "      <td>89.3</td>\n",
       "      <td>2.3889</td>\n",
       "      <td>1.0</td>\n",
       "      <td>273.0</td>\n",
       "      <td>21.0</td>\n",
       "      <td>393.45</td>\n",
       "      <td>6.48</td>\n",
       "    </tr>\n",
       "    <tr>\n",
       "      <th>505</th>\n",
       "      <td>0.04741</td>\n",
       "      <td>0.0</td>\n",
       "      <td>11.93</td>\n",
       "      <td>0.0</td>\n",
       "      <td>0.573</td>\n",
       "      <td>6.030</td>\n",
       "      <td>80.8</td>\n",
       "      <td>2.5050</td>\n",
       "      <td>1.0</td>\n",
       "      <td>273.0</td>\n",
       "      <td>21.0</td>\n",
       "      <td>396.90</td>\n",
       "      <td>7.88</td>\n",
       "    </tr>\n",
       "  </tbody>\n",
       "</table>\n",
       "</div>"
      ],
      "text/plain": [
       "        CRIM   ZN  INDUS  CHAS    NOX     RM   AGE     DIS  RAD    TAX  \\\n",
       "501  0.06263  0.0  11.93   0.0  0.573  6.593  69.1  2.4786  1.0  273.0   \n",
       "502  0.04527  0.0  11.93   0.0  0.573  6.120  76.7  2.2875  1.0  273.0   \n",
       "503  0.06076  0.0  11.93   0.0  0.573  6.976  91.0  2.1675  1.0  273.0   \n",
       "504  0.10959  0.0  11.93   0.0  0.573  6.794  89.3  2.3889  1.0  273.0   \n",
       "505  0.04741  0.0  11.93   0.0  0.573  6.030  80.8  2.5050  1.0  273.0   \n",
       "\n",
       "     PTRATIO       B  LSTAT  \n",
       "501     21.0  391.99   9.67  \n",
       "502     21.0  396.90   9.08  \n",
       "503     21.0  396.90   5.64  \n",
       "504     21.0  393.45   6.48  \n",
       "505     21.0  396.90   7.88  "
      ]
     },
     "execution_count": 52,
     "metadata": {},
     "output_type": "execute_result"
    }
   ],
   "source": [
    "# Test Cell: Exercise 2\n",
    "\n",
    "boston_data.tail()"
   ]
  },
  {
   "cell_type": "markdown",
   "metadata": {},
   "source": [
    "### Houses Next to Charles River"
   ]
  },
  {
   "cell_type": "code",
   "execution_count": 53,
   "metadata": {},
   "outputs": [
    {
     "name": "stdout",
     "output_type": "stream",
     "text": [
      "Houses next to the beautiful Charles River: 35.0\n",
      "But... It is only 6.92 percent.\n"
     ]
    }
   ],
   "source": [
    "# Charles River dummy variable (= 1 if tract bounds river; 0 otherwise)\n",
    "\n",
    "### your code here ###\n",
    "river_dummy = boston_data['CHAS']       # column name: CHAS\n",
    "next_to_river = np.sum(river_dummy)     # how many are next to river\n",
    "######################\n",
    "\n",
    "percent = (next_to_river / boston_data.shape[0]) * 100\n",
    "\n",
    "print('Houses next to the beautiful Charles River:', next_to_river)\n",
    "print('But... It is only %.2f percent.' %percent)"
   ]
  },
  {
   "cell_type": "markdown",
   "metadata": {},
   "source": [
    "### Average number of rooms per dwelling"
   ]
  },
  {
   "cell_type": "code",
   "execution_count": 54,
   "metadata": {},
   "outputs": [
    {
     "name": "stdout",
     "output_type": "stream",
     "text": [
      "Min: 3.561\n",
      "Mean: 6.28463438735\n",
      "Max: 8.78\n"
     ]
    }
   ],
   "source": [
    "# average number of rooms per dwelling\n",
    "\n",
    "### your code here ###\n",
    "room = boston_data['RM']    # column name: RM\n",
    "min_room = room.min()       # the minimum  \n",
    "avg_room = room.mean()      # the average \n",
    "max_room = room.max()       # the maximum\n",
    "######################\n",
    "\n",
    "print('Min:', min_room)\n",
    "print('Mean:', avg_room)\n",
    "print('Max:', max_room)"
   ]
  },
  {
   "cell_type": "code",
   "execution_count": null,
   "metadata": {},
   "outputs": [],
   "source": []
  }
 ],
 "metadata": {
  "kernelspec": {
   "display_name": "Python 3",
   "language": "python",
   "name": "python3"
  },
  "language_info": {
   "codemirror_mode": {
    "name": "ipython",
    "version": 3
   },
   "file_extension": ".py",
   "mimetype": "text/x-python",
   "name": "python",
   "nbconvert_exporter": "python",
   "pygments_lexer": "ipython3",
   "version": "3.6.2"
  }
 },
 "nbformat": 4,
 "nbformat_minor": 2
}
