{
 "cells": [
  {
   "cell_type": "markdown",
   "metadata": {},
   "source": [
    "# ccClub: Introduction to Machine Learning\n",
    "---\n",
    "## Lab 01: Introduction to Scikit-Learn"
   ]
  },
  {
   "cell_type": "markdown",
   "metadata": {},
   "source": [
    "## Overview\n",
    "\n",
    "- Input Data to Scikit-Learn\n",
    "- Basic of the Scikit-Learn\n",
    "- Basic Data Pre-processing and Feature Engineering\n",
    "- Split Train/ Validation/ Test Set\n",
    "- Simple Demo"
   ]
  },
  {
   "cell_type": "markdown",
   "metadata": {},
   "source": [
    "## Installation\n",
    "\n",
    "For details, please visit the [documentation](http://scikit-learn.org/stable/install.html).\n",
    "\n",
    ">```python\n",
    "pip install sklearn\n",
    "```"
   ]
  },
  {
   "cell_type": "markdown",
   "metadata": {},
   "source": [
    "# Part 1: Input Data to Scikit-Learn\n",
    "\n",
    "The easiest way to understand how data work within Scikit-Learn is in terms of tables of data."
   ]
  },
  {
   "cell_type": "markdown",
   "metadata": {},
   "source": [
    "## Tables of Data\n",
    "\n",
    "A basic table is a two-dimensional grid of data (like a spread sheet).\n",
    "\n",
    "- Each row represents an **observation** or **sample**.\n",
    "- Each column represents a **feature** or **attribute** or **variable**.\n",
    "- Each entry of the table represents a single **value**.\n",
    "- The number of rows is the total number of our samples in the dataset, which we refer to as `n_samples`.\n",
    "- The number of columns is the total number of our features in the dataset, which we refer to as `n_features`.\n",
    "\n",
    "![R for Data Science](img/tidy-1.png)"
   ]
  },
  {
   "cell_type": "markdown",
   "metadata": {},
   "source": [
    "### Features Matrix\n",
    "\n",
    "In sklearn, we usually store our table of data in a 2-dimensional NumPy array (matrix) or a Pandas DataFrame, called **features matrix**. We usually name this features matrix `X`. In general, this features matrix is 2-dimensional with shape `[n_sample, n_features]`. \n",
    "\n",
    "### Target Array\n",
    "\n",
    "Target array is the labels or values that we want to predict. By convention, we usually call it `y`. It can contain continuous numerical values, or discrete classes/ labels. The target array is usually one-dimensional, with lenght `n_sample`.\n",
    "\n",
    "Scikit-Learn also handles multiple targe values but we focus on the case of a one-dimensional target array here.\n",
    "\n",
    "![Illustration of features matrix and target array](img/features_target.png)"
   ]
  },
  {
   "cell_type": "markdown",
   "metadata": {},
   "source": [
    "## Example: Iris Dataset\n",
    "\n",
    "For example, let's use the famous [Iris dataset](https://en.wikipedia.org/wiki/Iris_flower_data_set) to illustrate."
   ]
  },
  {
   "cell_type": "code",
   "execution_count": 1,
   "metadata": {},
   "outputs": [],
   "source": [
    "import numpy as np\n",
    "import pandas as pd\n",
    "from matplotlib import pyplot as plt\n",
    "%matplotlib inline"
   ]
  },
  {
   "cell_type": "markdown",
   "metadata": {},
   "source": [
    "### Table as Pandas DataFrame\n",
    "\n",
    "Here, we load the Iris data directly form `seaborn`, a popular visulization package. The first four columns are features and the last column is the our target. To input data into sklearn, we will need to separate our data into features matrix and target array."
   ]
  },
  {
   "cell_type": "code",
   "execution_count": 2,
   "metadata": {},
   "outputs": [
    {
     "data": {
      "text/html": [
       "<div>\n",
       "<table border=\"1\" class=\"dataframe\">\n",
       "  <thead>\n",
       "    <tr style=\"text-align: right;\">\n",
       "      <th></th>\n",
       "      <th>sepal_length</th>\n",
       "      <th>sepal_width</th>\n",
       "      <th>petal_length</th>\n",
       "      <th>petal_width</th>\n",
       "      <th>species</th>\n",
       "    </tr>\n",
       "  </thead>\n",
       "  <tbody>\n",
       "    <tr>\n",
       "      <th>0</th>\n",
       "      <td>5.1</td>\n",
       "      <td>3.5</td>\n",
       "      <td>1.4</td>\n",
       "      <td>0.2</td>\n",
       "      <td>setosa</td>\n",
       "    </tr>\n",
       "    <tr>\n",
       "      <th>1</th>\n",
       "      <td>4.9</td>\n",
       "      <td>3.0</td>\n",
       "      <td>1.4</td>\n",
       "      <td>0.2</td>\n",
       "      <td>setosa</td>\n",
       "    </tr>\n",
       "    <tr>\n",
       "      <th>2</th>\n",
       "      <td>4.7</td>\n",
       "      <td>3.2</td>\n",
       "      <td>1.3</td>\n",
       "      <td>0.2</td>\n",
       "      <td>setosa</td>\n",
       "    </tr>\n",
       "    <tr>\n",
       "      <th>3</th>\n",
       "      <td>4.6</td>\n",
       "      <td>3.1</td>\n",
       "      <td>1.5</td>\n",
       "      <td>0.2</td>\n",
       "      <td>setosa</td>\n",
       "    </tr>\n",
       "    <tr>\n",
       "      <th>4</th>\n",
       "      <td>5.0</td>\n",
       "      <td>3.6</td>\n",
       "      <td>1.4</td>\n",
       "      <td>0.2</td>\n",
       "      <td>setosa</td>\n",
       "    </tr>\n",
       "  </tbody>\n",
       "</table>\n",
       "</div>"
      ],
      "text/plain": [
       "   sepal_length  sepal_width  petal_length  petal_width species\n",
       "0           5.1          3.5           1.4          0.2  setosa\n",
       "1           4.9          3.0           1.4          0.2  setosa\n",
       "2           4.7          3.2           1.3          0.2  setosa\n",
       "3           4.6          3.1           1.5          0.2  setosa\n",
       "4           5.0          3.6           1.4          0.2  setosa"
      ]
     },
     "execution_count": 2,
     "metadata": {},
     "output_type": "execute_result"
    }
   ],
   "source": [
    "import seaborn as sns\n",
    "sns.set()\n",
    "\n",
    "# load iris dataset from seaborn \n",
    "iris = sns.load_dataset('iris')\n",
    "iris.head()"
   ]
  },
  {
   "cell_type": "markdown",
   "metadata": {},
   "source": [
    "### Visualize the data\n",
    "\n",
    "Often, we will visualize our data to better understand it. Here, it seems like using `petal_length` and `petal_width` is a good start."
   ]
  },
  {
   "cell_type": "code",
   "execution_count": 3,
   "metadata": {},
   "outputs": [
    {
     "data": {
      "image/png": "[encoded data removed]",
      "text/plain": [
       "<matplotlib.figure.Figure at 0x109947828>"
      ]
     },
     "metadata": {},
     "output_type": "display_data"
    }
   ],
   "source": [
    "sns.lmplot(x='sepal_length', y='sepal_width', hue='species', data=iris, fit_reg=False);"
   ]
  },
  {
   "cell_type": "code",
   "execution_count": 4,
   "metadata": {},
   "outputs": [
    {
     "data": {
      "image/png": "[encoded data removed]",
      "text/plain": [
       "<matplotlib.figure.Figure at 0x109a7a0f0>"
      ]
     },
     "metadata": {},
     "output_type": "display_data"
    }
   ],
   "source": [
    "sns.lmplot(x='petal_length', y='petal_width', hue='species', data=iris, fit_reg=False);"
   ]
  },
  {
   "cell_type": "markdown",
   "metadata": {},
   "source": [
    "### Toy Datasets from Scikit-Learn\n",
    "\n",
    "Scikit-learn provides some small datasets for us to experiment with. We can load the toy data from `sklearn.datasets`. The dataset generation functions `load_iris()` return a tuple (X, y) consisting of a `[n_samples, n_features]` numpy array X (features matrix) and an array of length `n_samples` containing the targets y (target array).\n",
    "\n",
    "**Other toy datasets**\n",
    "\n",
    "| Scikit-learn function     | Data Type\n",
    "| ------------------------- | -------------------------------------------------------------\n",
    "| `load_boston([return_X_y])` | Load and return the boston house-prices dataset (regression).\n",
    "| `load_iris([return_X_y])`\t| Load and return the iris dataset (classification).\n",
    "| `load_diabetes([return_X_y])` | Load and return the diabetes dataset (regression).\n",
    "| `load_digits([n_class, return_X_y])` | Load and return the digits dataset (classification).\n",
    "| `load_linnerud([return_X_y])` | Load and return the linnerud dataset (multivariate regression).\n",
    "| `load_wine([return_X_y])` | Load and return the wine dataset (classification).\n",
    "| `load_breast_cancer([return_X_y])` | Load and return the breast cancer wisconsin dataset (classification).\n",
    "\n",
    "\n",
    "### Table as NumPy array\n",
    "\n",
    "Here, we load the iris data from sklearn. Noted that features matrix is a 2-dimensional matrix but the target array is a 1-dimensional array."
   ]
  },
  {
   "cell_type": "code",
   "execution_count": 5,
   "metadata": {},
   "outputs": [
    {
     "name": "stdout",
     "output_type": "stream",
     "text": [
      "shape of features matrix: (150, 4)\n",
      "length of target array: (150,)\n"
     ]
    }
   ],
   "source": [
    "# load iris dataset from sklearn\n",
    "from sklearn.datasets import load_iris\n",
    "\n",
    "features, target = load_iris(return_X_y=True)\n",
    "\n",
    "print('shape of features matrix:', features.shape)\n",
    "print('length of target array:', target.shape)"
   ]
  },
  {
   "cell_type": "code",
   "execution_count": 6,
   "metadata": {},
   "outputs": [
    {
     "name": "stdout",
     "output_type": "stream",
     "text": [
      "features matrix\n",
      " [[ 5.1  3.5  1.4  0.2]\n",
      " [ 4.9  3.   1.4  0.2]\n",
      " [ 4.7  3.2  1.3  0.2]\n",
      " [ 4.6  3.1  1.5  0.2]\n",
      " [ 5.   3.6  1.4  0.2]\n",
      " [ 5.4  3.9  1.7  0.4]\n",
      " [ 4.6  3.4  1.4  0.3]\n",
      " [ 5.   3.4  1.5  0.2]\n",
      " [ 4.4  2.9  1.4  0.2]\n",
      " [ 4.9  3.1  1.5  0.1]] \n",
      "\n",
      "target array\n",
      " [0 0 0 0 0 0 0 0 0 0]\n"
     ]
    }
   ],
   "source": [
    "print('features matrix\\n', features[:10], '\\n')\n",
    "print('target array\\n', target[:10])"
   ]
  },
  {
   "cell_type": "markdown",
   "metadata": {},
   "source": [
    "### Convert DataFrame or Series to NumPy array\n",
    "\n",
    "In general, we will first load the data with Pandas to explore and manipulate the data first. After we are have our data ready, we will need to convert our Pandas DataFrame into NumPy array to work with sklearn library.\n",
    "\n",
    "To covert Pandas DataFrame or Series into NumPy array, simple use `.values`."
   ]
  },
  {
   "cell_type": "code",
   "execution_count": 7,
   "metadata": {},
   "outputs": [
    {
     "data": {
      "text/html": [
       "<div>\n",
       "<table border=\"1\" class=\"dataframe\">\n",
       "  <thead>\n",
       "    <tr style=\"text-align: right;\">\n",
       "      <th></th>\n",
       "      <th>sepal_length</th>\n",
       "      <th>sepal_width</th>\n",
       "      <th>petal_length</th>\n",
       "      <th>petal_width</th>\n",
       "    </tr>\n",
       "  </thead>\n",
       "  <tbody>\n",
       "    <tr>\n",
       "      <th>0</th>\n",
       "      <td>5.1</td>\n",
       "      <td>3.5</td>\n",
       "      <td>1.4</td>\n",
       "      <td>0.2</td>\n",
       "    </tr>\n",
       "    <tr>\n",
       "      <th>1</th>\n",
       "      <td>4.9</td>\n",
       "      <td>3.0</td>\n",
       "      <td>1.4</td>\n",
       "      <td>0.2</td>\n",
       "    </tr>\n",
       "    <tr>\n",
       "      <th>2</th>\n",
       "      <td>4.7</td>\n",
       "      <td>3.2</td>\n",
       "      <td>1.3</td>\n",
       "      <td>0.2</td>\n",
       "    </tr>\n",
       "    <tr>\n",
       "      <th>3</th>\n",
       "      <td>4.6</td>\n",
       "      <td>3.1</td>\n",
       "      <td>1.5</td>\n",
       "      <td>0.2</td>\n",
       "    </tr>\n",
       "    <tr>\n",
       "      <th>4</th>\n",
       "      <td>5.0</td>\n",
       "      <td>3.6</td>\n",
       "      <td>1.4</td>\n",
       "      <td>0.2</td>\n",
       "    </tr>\n",
       "  </tbody>\n",
       "</table>\n",
       "</div>"
      ],
      "text/plain": [
       "   sepal_length  sepal_width  petal_length  petal_width\n",
       "0           5.1          3.5           1.4          0.2\n",
       "1           4.9          3.0           1.4          0.2\n",
       "2           4.7          3.2           1.3          0.2\n",
       "3           4.6          3.1           1.5          0.2\n",
       "4           5.0          3.6           1.4          0.2"
      ]
     },
     "metadata": {},
     "output_type": "display_data"
    },
    {
     "data": {
      "text/plain": [
       "0    setosa\n",
       "1    setosa\n",
       "2    setosa\n",
       "3    setosa\n",
       "4    setosa\n",
       "Name: species, dtype: object"
      ]
     },
     "metadata": {},
     "output_type": "display_data"
    }
   ],
   "source": [
    "# select features and target\n",
    "features = iris.drop('species', axis=1)  # dataframe\n",
    "target = iris['species']                 # series\n",
    "\n",
    "display(features.head(), target.head())"
   ]
  },
  {
   "cell_type": "code",
   "execution_count": 8,
   "metadata": {},
   "outputs": [
    {
     "name": "stdout",
     "output_type": "stream",
     "text": [
      "features matrix:\n",
      " [[ 5.1  3.5  1.4  0.2]\n",
      " [ 4.9  3.   1.4  0.2]\n",
      " [ 4.7  3.2  1.3  0.2]\n",
      " [ 4.6  3.1  1.5  0.2]\n",
      " [ 5.   3.6  1.4  0.2]] \n",
      "\n",
      "target array:\n",
      " ['setosa' 'setosa' 'setosa' 'setosa' 'setosa']\n"
     ]
    }
   ],
   "source": [
    "# convert to NumPy array\n",
    "X = features.values\n",
    "y = target.values\n",
    "\n",
    "print('features matrix:\\n', X[:5], '\\n')\n",
    "print('target array:\\n', y[:5])"
   ]
  },
  {
   "cell_type": "markdown",
   "metadata": {},
   "source": [
    "# Part 2: Basics of the Scikit-Learn\n",
    "\n",
    "[Scikit-Learn](http://scikit-learn.org/stable/) is a popular machine learning library in Python. It has the following features:\n",
    " - Simple and efficient tools for data mining and data analysis\n",
    " - Accessible to everybody, and reusable in various contexts\n",
    " - Built on NumPy, SciPy, and matplotlib\n",
    " - Open source, commercially usable - BSD license\n",
    " \n",
    "In Scikit-Learn, there are 6 major classes, which contain many general algorithms and modeling tools.\n",
    "  - Classification\n",
    "  - Regression\n",
    "  - Clustering\n",
    "  - Dimensionality Reduction\n",
    "  - Model Selection\n",
    "  - Preprocessing"
   ]
  },
  {
   "cell_type": "markdown",
   "metadata": {},
   "source": [
    "## Scikit-Learn Workflow\n",
    "\n",
    "In general, steps in using Scikit-Learn API are typically as follows:\n",
    "\n",
    "\n",
    ">Step 1: Import the appropriate class of model from Scikit-Learn. (e.g. Regerssion, Preprocessing)\n",
    "\n",
    ">Step 2: Set the model hyperparameters (if any) when instantiating the class.\n",
    "\n",
    ">Step 3: Fit the model to the data by calling `fit()`.\n",
    "\n",
    ">Step 4: Apply the model to (new) data:\n",
    "- Predict labels for (new) data by calling `predict()`. \n",
    "- Transform the data based on some mapping (rules) by calling `transform()`.\n",
    "\n",
    "You will soon start seeing this workflow in the following examples."
   ]
  },
  {
   "cell_type": "markdown",
   "metadata": {},
   "source": [
    "# Part 3: Basic Data Pre-processing & Feature Engineering\n",
    "\n",
    "Very often, our raw data may not be suitable for building a model. We may encounter skewed data, outliers, missing data, etc. The `sklearn.preprocessing` package provides several common functions for us to transform our raw data into representative features. "
   ]
  },
  {
   "cell_type": "markdown",
   "metadata": {},
   "source": [
    "## Scaling Data: Standardization\n",
    "\n",
    "Many algorithms, which we will disucss later in the course, assume that all features are centered around $0$ and have unit variance for all features. If a feature in the data have a much higher or smaller variance than others, it might dominate the model or be totally ignored. This makes the model unable to learn correctly as expected.\n",
    "\n",
    "A common way to handle this problem is using standardization. It will transform your data to have $0$ mean and unit variance for all features by the formula below. We first subtract the mean from each feature then divide the values (mean is already subtracted) of each feature by its standard deviation.\n",
    "\n",
    "$$\n",
    "x_{new} = \\frac{x - \\mu}{\\sigma}\n",
    "$$\n",
    "\n",
    "### `scale` function\n",
    "\n",
    "To perform standardiztion, we use the function `scale` from `scikit-learn.preprocessing` package.\n",
    "\n",
    "Standardization is just one way to re-scale data. scikit-learn also provides other scaling functions, you can find more information in the [documentation](http://scikit-learn.org/stable/modules/preprocessing.html#preprocessing)."
   ]
  },
  {
   "cell_type": "code",
   "execution_count": 9,
   "metadata": {},
   "outputs": [
    {
     "name": "stdout",
     "output_type": "stream",
     "text": [
      "original\n",
      " [[ 5.1  3.5  1.4  0.2]\n",
      " [ 4.9  3.   1.4  0.2]\n",
      " [ 4.7  3.2  1.3  0.2]\n",
      " [ 4.6  3.1  1.5  0.2]\n",
      " [ 5.   3.6  1.4  0.2]]\n",
      "\n",
      "standardized\n",
      " [[-0.90068117  1.01900435 -1.34022653 -1.3154443 ]\n",
      " [-1.14301691 -0.13197948 -1.34022653 -1.3154443 ]\n",
      " [-1.38535265  0.32841405 -1.39706395 -1.3154443 ]\n",
      " [-1.50652052  0.09821729 -1.2833891  -1.3154443 ]\n",
      " [-1.02184904  1.24920112 -1.34022653 -1.3154443 ]]\n"
     ]
    }
   ],
   "source": [
    "from sklearn import preprocessing\n",
    "\n",
    "print('original\\n', X[:5])  # display features matrix from Iris data\n",
    "\n",
    "X_scaled = preprocessing.scale(X)\n",
    "print('\\nstandardized\\n', X_scaled[:5]) # display sacled data"
   ]
  },
  {
   "cell_type": "code",
   "execution_count": 10,
   "metadata": {},
   "outputs": [
    {
     "name": "stdout",
     "output_type": "stream",
     "text": [
      "mean: [-0. -0. -0. -0.]\n",
      "\n",
      "variance: [ 1.  1.  1.  1.]\n"
     ]
    }
   ],
   "source": [
    "# suppress scientific notation\n",
    "np.set_printoptions(suppress=True)\n",
    "\n",
    "# standardized data has zero mean and unit variance for all features\n",
    "print('mean:', X_scaled.mean(axis=0))\n",
    "print('\\nvariance:', X_scaled.std(axis=0))"
   ]
  },
  {
   "cell_type": "markdown",
   "metadata": {},
   "source": [
    "## Imputation of Missing Data\n",
    "\n",
    "Sometimes, we will encounter missing data, either encoded as blanks, NaNs or other placeholder values. scikit-learn assumes that all values have menning. We can dsicard the entire rows and/or columns with missing values. However, we may lose data that may be useful. A common strategy to deal with missing data is to impute the missing values, i.e. replace the missing values.\n",
    "\n",
    "**Imputation means inferring the missing values from the known part of the data.** Some common simple choices to impute the missing value include using mean, moedian, or the mode. We can also use more sophisticated methods such as matrix completion or fitting another model to predict missing values. The sophisticated approaches are more application-specific, so we won't discuss them here."
   ]
  },
  {
   "cell_type": "markdown",
   "metadata": {},
   "source": [
    "### Check missing value in NumPy and Pandas\n",
    "\n",
    "If you want to check whether there are any missing value (encoded as `NaN`) in your data, use `.any` and `.isnan` methods from NumPy or use `isna` or `isnull` from Pandas."
   ]
  },
  {
   "cell_type": "code",
   "execution_count": 11,
   "metadata": {},
   "outputs": [
    {
     "name": "stdout",
     "output_type": "stream",
     "text": [
      "[[False  True False]\n",
      " [False False False]\n",
      " [False False  True]]\n",
      "\n",
      "Is there any missing value in the dataset: True \n",
      "\n",
      "       0      1      2\n",
      "0  False   True  False\n",
      "1  False  False  False\n",
      "2  False  False   True\n",
      "\n",
      "Check missing value for each column:\n",
      "0    0\n",
      "1    1\n",
      "2    1\n",
      "dtype: int64\n"
     ]
    }
   ],
   "source": [
    "# create np array\n",
    "missing_data = np.array([[0, np.nan, 2], \n",
    "                         [3, 4,      5], \n",
    "                         [6, 7,      np.nan]])\n",
    "\n",
    "print(np.isnan(missing_data))   # check NaN for each value\n",
    "print('\\nIs there any missing value in the dataset:', np.any(np.isnan(missing_data)), '\\n')\n",
    "\n",
    "# create dataframe\n",
    "missing_data_df = pd.DataFrame(missing_data)\n",
    "\n",
    "print(missing_data_df.isnull())\n",
    "print('\\nCheck missing value for each column:')\n",
    "print(missing_data_df.isnull().sum(axis=0))     # column sum"
   ]
  },
  {
   "cell_type": "markdown",
   "metadata": {},
   "source": [
    "### `Imputer` class\n",
    "\n",
    "In scikit-learn, the `Imputer` class provides some basic ways to impute the missing data. We can specifiy how do we want to impute the missing values as a parameters. The following demonstrates how to replace missing values, encoded as `np.nan`, using the mean value of the columns (axis 0) that contain the missing values."
   ]
  },
  {
   "cell_type": "code",
   "execution_count": 12,
   "metadata": {},
   "outputs": [
    {
     "name": "stdout",
     "output_type": "stream",
     "text": [
      "[[ 0.   5.5  2. ]\n",
      " [ 3.   4.   5. ]\n",
      " [ 6.   7.   3.5]]\n"
     ]
    }
   ],
   "source": [
    "from sklearn.preprocessing import Imputer\n",
    "\n",
    "imputer = Imputer(missing_values='NaN', strategy='mean', axis=0) # create imputer\n",
    "X_impute = imputer.fit_transform(missing_data)  # fit (i.e. calculate mean) and transform (i.e. impute) our data\n",
    "\n",
    "# --- \n",
    "# fit_transform() can be decompose to two steps (fit and transform), the above is equivalent to the following:\n",
    "# imputer.fit(missing_data)\n",
    "# X_impute = imputer.transform(missing_data)\n",
    "# ---\n",
    "\n",
    "print(X_impute)"
   ]
  },
  {
   "cell_type": "markdown",
   "metadata": {},
   "source": [
    "## Transform Categorical Features\n",
    "\n",
    "One common type of data is categorical data. Categorical data is non-numeric and the data does not imply any order. \n",
    "\n",
    "### Ordinal Encoding\n",
    "\n",
    "When you frist see categorical data, you might be tempted to use a straightforward numeric value to represent them. This representation may be problematic. Scikit-Learn assumes that numerical values reflect algebraic quantities, meaning that $1 < 2$.\n",
    "\n",
    "For example, if we have 3 brands (UNIQLO, H&M, Zara) and we encoding them as follow:\n",
    "\n",
    "```python\n",
    "{'UNIQLO': 0, 'H&M': 1, 'Zara': 2}\n",
    "```\n",
    "\n",
    "Then it would imply order or any algebraic quantities such as:\n",
    " - UNIQLO < H&M < Zara\n",
    " - Zara - UNIQUE = Zara\n",
    " - The average of 3 brands is: (UNIQLO + H&M + Zara) / 3 = H&M\n",
    "\n",
    "These does not make much sense!\n",
    "\n",
    "### One-Hot Encoding\n",
    "\n",
    "One useful technique is to use one-hot encoding. It create extra columns for each category and use 1 or 0 to indicate the presense or absence of each category.\n",
    "\n",
    "For our previous example, it would become:\n",
    "\n",
    "```\n",
    "    UNIQLO  H&M  Zara\n",
    "      1      0    0\n",
    "      0      1    0\n",
    "      0      0    1\n",
    "```"
   ]
  },
  {
   "cell_type": "markdown",
   "metadata": {},
   "source": [
    "### `LabelEncoder()`\n",
    "\n",
    "`LabelEncoder` function from skearn `preprocessing` package encodes labels with value between 0 and `n_classes-1`.\n",
    "> The input should be **a list or an array**.\n",
    "\n",
    "> The output will be an **array** with values between 0 and n_classes-1."
   ]
  },
  {
   "cell_type": "code",
   "execution_count": 13,
   "metadata": {},
   "outputs": [
    {
     "name": "stdout",
     "output_type": "stream",
     "text": [
      "ordinal encoded: [1 0 2]\n",
      "\n",
      "classes: ['H&M' 'UNIQLO' 'Zara']\n",
      "\n",
      "reverse ordinal encoding: ['UNIQLO' 'H&M' 'Zara']\n"
     ]
    }
   ],
   "source": [
    "from sklearn.preprocessing import LabelEncoder\n",
    "\n",
    "# create label encoder\n",
    "categorical_data = ['UNIQLO', 'H&M', 'Zara']\n",
    "encoder = LabelEncoder()\n",
    "ordinal_data = encoder.fit_transform(categorical_data)  # fit (get all categories) and transform (ordinal encoding)\n",
    "print('ordinal encoded:', ordinal_data)\n",
    "\n",
    "# see each class\n",
    "print('\\nclasses:', encoder.classes_)  \n",
    "\n",
    "# reverse ordinal encoding\n",
    "print('\\nreverse ordinal encoding:', encoder.inverse_transform(ordinal_data))"
   ]
  },
  {
   "cell_type": "markdown",
   "metadata": {},
   "source": [
    "### `OneHotEncoder()`\n",
    "\n",
    "Encode categorical integer features using a one-hot encoding.\n",
    "\n",
    "The input to this transformer should be a matrix of integers, denoting the values taken on by categorical (discrete) features. It is assumed that input features take on values in the range `[0, n_values)`.\n",
    "\n",
    ">The inpute should be in **matrix** form and should compose of **integers**.\n",
    "\n",
    ">The output will be a **sparse matrix** by default. To return an array, set the parameter `spare=False`.\n",
    "\n",
    "If you want to learn what is a spare matrix, see this [spare matrices video](https://www.youtube.com/watch?v=Lhef_jxzqCg)."
   ]
  },
  {
   "cell_type": "code",
   "execution_count": 14,
   "metadata": {},
   "outputs": [
    {
     "name": "stdout",
     "output_type": "stream",
     "text": [
      "ordinal data (matrix form):\n",
      " [[1]\n",
      " [0]\n",
      " [2]]\n",
      "\n",
      "onehot encoded:\n",
      " [[ 0.  1.  0.]\n",
      " [ 1.  0.  0.]\n",
      " [ 0.  0.  1.]]\n"
     ]
    }
   ],
   "source": [
    "from sklearn.preprocessing import OneHotEncoder\n",
    "\n",
    "# convert array into matrix (column)\n",
    "ordinal_data = ordinal_data.reshape(len(ordinal_data), 1)\n",
    "print('ordinal data (matrix form):\\n', ordinal_data)\n",
    "\n",
    "# create label encoder\n",
    "encoder = OneHotEncoder(sparse=False)\n",
    "onehot_data = encoder.fit_transform(ordinal_data)\n",
    "print('\\nonehot encoded:\\n', onehot_data)"
   ]
  },
  {
   "cell_type": "markdown",
   "metadata": {},
   "source": [
    "### Practice Exercise: Mushroom Data\n",
    "\n",
    "> **Now it's your turn to practice. In this exercise, you have to conver the mushroom dataset into onehot encoding format.**\n",
    "\n",
    "This data set includes descriptions of hypothetical samples corresponding to 23 species of gilled mushrooms in the Agaricus and Lepiota Family (pp. 500-525). Each species is identified as definitely edible, definitely poisonous, or of unknown edibility and not recommended. This latter class was combined with the poisonous one. The Guide clearly states that there is no simple rule for determining the edibility of a mushroom; no rule like \"leaflets three, let it be\" for Poisonous Oak and Ivy.\n",
    "\n",
    "We have already prepare the dataset `data/mushrooms.csv` for you. If you wish to take to download the data from the original source, you can do so [here](https://archive.ics.uci.edu/ml/datasets/mushroom)."
   ]
  },
  {
   "cell_type": "code",
   "execution_count": 15,
   "metadata": {},
   "outputs": [
    {
     "data": {
      "text/html": [
       "<div>\n",
       "<table border=\"1\" class=\"dataframe\">\n",
       "  <thead>\n",
       "    <tr style=\"text-align: right;\">\n",
       "      <th></th>\n",
       "      <th>class</th>\n",
       "      <th>cap-shape</th>\n",
       "      <th>cap-surface</th>\n",
       "      <th>cap-color</th>\n",
       "      <th>bruises</th>\n",
       "      <th>odor</th>\n",
       "      <th>gill-attachment</th>\n",
       "      <th>gill-spacing</th>\n",
       "      <th>gill-size</th>\n",
       "      <th>gill-color</th>\n",
       "      <th>...</th>\n",
       "      <th>stalk-surface-below-ring</th>\n",
       "      <th>stalk-color-above-ring</th>\n",
       "      <th>stalk-color-below-ring</th>\n",
       "      <th>veil-type</th>\n",
       "      <th>veil-color</th>\n",
       "      <th>ring-number</th>\n",
       "      <th>ring-type</th>\n",
       "      <th>spore-print-color</th>\n",
       "      <th>population</th>\n",
       "      <th>habitat</th>\n",
       "    </tr>\n",
       "  </thead>\n",
       "  <tbody>\n",
       "    <tr>\n",
       "      <th>0</th>\n",
       "      <td>p</td>\n",
       "      <td>x</td>\n",
       "      <td>s</td>\n",
       "      <td>n</td>\n",
       "      <td>t</td>\n",
       "      <td>p</td>\n",
       "      <td>f</td>\n",
       "      <td>c</td>\n",
       "      <td>n</td>\n",
       "      <td>k</td>\n",
       "      <td>...</td>\n",
       "      <td>s</td>\n",
       "      <td>w</td>\n",
       "      <td>w</td>\n",
       "      <td>p</td>\n",
       "      <td>w</td>\n",
       "      <td>o</td>\n",
       "      <td>p</td>\n",
       "      <td>k</td>\n",
       "      <td>s</td>\n",
       "      <td>u</td>\n",
       "    </tr>\n",
       "    <tr>\n",
       "      <th>1</th>\n",
       "      <td>e</td>\n",
       "      <td>x</td>\n",
       "      <td>s</td>\n",
       "      <td>y</td>\n",
       "      <td>t</td>\n",
       "      <td>a</td>\n",
       "      <td>f</td>\n",
       "      <td>c</td>\n",
       "      <td>b</td>\n",
       "      <td>k</td>\n",
       "      <td>...</td>\n",
       "      <td>s</td>\n",
       "      <td>w</td>\n",
       "      <td>w</td>\n",
       "      <td>p</td>\n",
       "      <td>w</td>\n",
       "      <td>o</td>\n",
       "      <td>p</td>\n",
       "      <td>n</td>\n",
       "      <td>n</td>\n",
       "      <td>g</td>\n",
       "    </tr>\n",
       "    <tr>\n",
       "      <th>2</th>\n",
       "      <td>e</td>\n",
       "      <td>b</td>\n",
       "      <td>s</td>\n",
       "      <td>w</td>\n",
       "      <td>t</td>\n",
       "      <td>l</td>\n",
       "      <td>f</td>\n",
       "      <td>c</td>\n",
       "      <td>b</td>\n",
       "      <td>n</td>\n",
       "      <td>...</td>\n",
       "      <td>s</td>\n",
       "      <td>w</td>\n",
       "      <td>w</td>\n",
       "      <td>p</td>\n",
       "      <td>w</td>\n",
       "      <td>o</td>\n",
       "      <td>p</td>\n",
       "      <td>n</td>\n",
       "      <td>n</td>\n",
       "      <td>m</td>\n",
       "    </tr>\n",
       "    <tr>\n",
       "      <th>3</th>\n",
       "      <td>p</td>\n",
       "      <td>x</td>\n",
       "      <td>y</td>\n",
       "      <td>w</td>\n",
       "      <td>t</td>\n",
       "      <td>p</td>\n",
       "      <td>f</td>\n",
       "      <td>c</td>\n",
       "      <td>n</td>\n",
       "      <td>n</td>\n",
       "      <td>...</td>\n",
       "      <td>s</td>\n",
       "      <td>w</td>\n",
       "      <td>w</td>\n",
       "      <td>p</td>\n",
       "      <td>w</td>\n",
       "      <td>o</td>\n",
       "      <td>p</td>\n",
       "      <td>k</td>\n",
       "      <td>s</td>\n",
       "      <td>u</td>\n",
       "    </tr>\n",
       "    <tr>\n",
       "      <th>4</th>\n",
       "      <td>e</td>\n",
       "      <td>x</td>\n",
       "      <td>s</td>\n",
       "      <td>g</td>\n",
       "      <td>f</td>\n",
       "      <td>n</td>\n",
       "      <td>f</td>\n",
       "      <td>w</td>\n",
       "      <td>b</td>\n",
       "      <td>k</td>\n",
       "      <td>...</td>\n",
       "      <td>s</td>\n",
       "      <td>w</td>\n",
       "      <td>w</td>\n",
       "      <td>p</td>\n",
       "      <td>w</td>\n",
       "      <td>o</td>\n",
       "      <td>e</td>\n",
       "      <td>n</td>\n",
       "      <td>a</td>\n",
       "      <td>g</td>\n",
       "    </tr>\n",
       "  </tbody>\n",
       "</table>\n",
       "<p>5 rows × 23 columns</p>\n",
       "</div>"
      ],
      "text/plain": [
       "  class cap-shape cap-surface cap-color bruises odor gill-attachment  \\\n",
       "0     p         x           s         n       t    p               f   \n",
       "1     e         x           s         y       t    a               f   \n",
       "2     e         b           s         w       t    l               f   \n",
       "3     p         x           y         w       t    p               f   \n",
       "4     e         x           s         g       f    n               f   \n",
       "\n",
       "  gill-spacing gill-size gill-color   ...   stalk-surface-below-ring  \\\n",
       "0            c         n          k   ...                          s   \n",
       "1            c         b          k   ...                          s   \n",
       "2            c         b          n   ...                          s   \n",
       "3            c         n          n   ...                          s   \n",
       "4            w         b          k   ...                          s   \n",
       "\n",
       "  stalk-color-above-ring stalk-color-below-ring veil-type veil-color  \\\n",
       "0                      w                      w         p          w   \n",
       "1                      w                      w         p          w   \n",
       "2                      w                      w         p          w   \n",
       "3                      w                      w         p          w   \n",
       "4                      w                      w         p          w   \n",
       "\n",
       "  ring-number ring-type spore-print-color population habitat  \n",
       "0           o         p                 k          s       u  \n",
       "1           o         p                 n          n       g  \n",
       "2           o         p                 n          n       m  \n",
       "3           o         p                 k          s       u  \n",
       "4           o         e                 n          a       g  \n",
       "\n",
       "[5 rows x 23 columns]"
      ]
     },
     "execution_count": 15,
     "metadata": {},
     "output_type": "execute_result"
    }
   ],
   "source": [
    "mushrooms = pd.read_csv('data/mushrooms.csv')\n",
    "mushrooms.head()"
   ]
  },
  {
   "cell_type": "markdown",
   "metadata": {},
   "source": [
    "### Exercise 1: First, encode mushroom dataset into ordinal format"
   ]
  },
  {
   "cell_type": "code",
   "execution_count": null,
   "metadata": {},
   "outputs": [],
   "source": [
    "# Create an empty dataframe to store our ordinal encoding\n",
    "mushrooms_ordinal = pd.DataFrame()\n",
    "\n",
    "##### TO DO #####\n",
    "# 1. create a encoder\n",
    "labelencoder = \n",
    "\n",
    "# 2. Encode each column in the dataset and store it in the mushroom_ordinal\n",
    "for col in mushrooms.columns:\n",
    "    mushrooms_ordinal[col] = \n",
    "################\n",
    "\n",
    "mushrooms_ordinal.head()"
   ]
  },
  {
   "cell_type": "code",
   "execution_count": 46,
   "metadata": {},
   "outputs": [
    {
     "data": {
      "text/html": [
       "<div>\n",
       "<table border=\"1\" class=\"dataframe\">\n",
       "  <thead>\n",
       "    <tr style=\"text-align: right;\">\n",
       "      <th></th>\n",
       "      <th>class</th>\n",
       "      <th>cap-shape</th>\n",
       "      <th>cap-surface</th>\n",
       "      <th>cap-color</th>\n",
       "      <th>bruises</th>\n",
       "      <th>odor</th>\n",
       "      <th>gill-attachment</th>\n",
       "      <th>gill-spacing</th>\n",
       "      <th>gill-size</th>\n",
       "      <th>gill-color</th>\n",
       "      <th>...</th>\n",
       "      <th>stalk-surface-below-ring</th>\n",
       "      <th>stalk-color-above-ring</th>\n",
       "      <th>stalk-color-below-ring</th>\n",
       "      <th>veil-type</th>\n",
       "      <th>veil-color</th>\n",
       "      <th>ring-number</th>\n",
       "      <th>ring-type</th>\n",
       "      <th>spore-print-color</th>\n",
       "      <th>population</th>\n",
       "      <th>habitat</th>\n",
       "    </tr>\n",
       "  </thead>\n",
       "  <tbody>\n",
       "    <tr>\n",
       "      <th>0</th>\n",
       "      <td>1</td>\n",
       "      <td>5</td>\n",
       "      <td>2</td>\n",
       "      <td>4</td>\n",
       "      <td>1</td>\n",
       "      <td>6</td>\n",
       "      <td>1</td>\n",
       "      <td>0</td>\n",
       "      <td>1</td>\n",
       "      <td>4</td>\n",
       "      <td>...</td>\n",
       "      <td>2</td>\n",
       "      <td>7</td>\n",
       "      <td>7</td>\n",
       "      <td>0</td>\n",
       "      <td>2</td>\n",
       "      <td>1</td>\n",
       "      <td>4</td>\n",
       "      <td>2</td>\n",
       "      <td>3</td>\n",
       "      <td>5</td>\n",
       "    </tr>\n",
       "    <tr>\n",
       "      <th>1</th>\n",
       "      <td>0</td>\n",
       "      <td>5</td>\n",
       "      <td>2</td>\n",
       "      <td>9</td>\n",
       "      <td>1</td>\n",
       "      <td>0</td>\n",
       "      <td>1</td>\n",
       "      <td>0</td>\n",
       "      <td>0</td>\n",
       "      <td>4</td>\n",
       "      <td>...</td>\n",
       "      <td>2</td>\n",
       "      <td>7</td>\n",
       "      <td>7</td>\n",
       "      <td>0</td>\n",
       "      <td>2</td>\n",
       "      <td>1</td>\n",
       "      <td>4</td>\n",
       "      <td>3</td>\n",
       "      <td>2</td>\n",
       "      <td>1</td>\n",
       "    </tr>\n",
       "    <tr>\n",
       "      <th>2</th>\n",
       "      <td>0</td>\n",
       "      <td>0</td>\n",
       "      <td>2</td>\n",
       "      <td>8</td>\n",
       "      <td>1</td>\n",
       "      <td>3</td>\n",
       "      <td>1</td>\n",
       "      <td>0</td>\n",
       "      <td>0</td>\n",
       "      <td>5</td>\n",
       "      <td>...</td>\n",
       "      <td>2</td>\n",
       "      <td>7</td>\n",
       "      <td>7</td>\n",
       "      <td>0</td>\n",
       "      <td>2</td>\n",
       "      <td>1</td>\n",
       "      <td>4</td>\n",
       "      <td>3</td>\n",
       "      <td>2</td>\n",
       "      <td>3</td>\n",
       "    </tr>\n",
       "    <tr>\n",
       "      <th>3</th>\n",
       "      <td>1</td>\n",
       "      <td>5</td>\n",
       "      <td>3</td>\n",
       "      <td>8</td>\n",
       "      <td>1</td>\n",
       "      <td>6</td>\n",
       "      <td>1</td>\n",
       "      <td>0</td>\n",
       "      <td>1</td>\n",
       "      <td>5</td>\n",
       "      <td>...</td>\n",
       "      <td>2</td>\n",
       "      <td>7</td>\n",
       "      <td>7</td>\n",
       "      <td>0</td>\n",
       "      <td>2</td>\n",
       "      <td>1</td>\n",
       "      <td>4</td>\n",
       "      <td>2</td>\n",
       "      <td>3</td>\n",
       "      <td>5</td>\n",
       "    </tr>\n",
       "    <tr>\n",
       "      <th>4</th>\n",
       "      <td>0</td>\n",
       "      <td>5</td>\n",
       "      <td>2</td>\n",
       "      <td>3</td>\n",
       "      <td>0</td>\n",
       "      <td>5</td>\n",
       "      <td>1</td>\n",
       "      <td>1</td>\n",
       "      <td>0</td>\n",
       "      <td>4</td>\n",
       "      <td>...</td>\n",
       "      <td>2</td>\n",
       "      <td>7</td>\n",
       "      <td>7</td>\n",
       "      <td>0</td>\n",
       "      <td>2</td>\n",
       "      <td>1</td>\n",
       "      <td>0</td>\n",
       "      <td>3</td>\n",
       "      <td>0</td>\n",
       "      <td>1</td>\n",
       "    </tr>\n",
       "  </tbody>\n",
       "</table>\n",
       "<p>5 rows × 23 columns</p>\n",
       "</div>"
      ],
      "text/plain": [
       "   class  cap-shape  cap-surface  cap-color  bruises  odor  gill-attachment  \\\n",
       "0      1          5            2          4        1     6                1   \n",
       "1      0          5            2          9        1     0                1   \n",
       "2      0          0            2          8        1     3                1   \n",
       "3      1          5            3          8        1     6                1   \n",
       "4      0          5            2          3        0     5                1   \n",
       "\n",
       "   gill-spacing  gill-size  gill-color   ...     stalk-surface-below-ring  \\\n",
       "0             0          1           4   ...                            2   \n",
       "1             0          0           4   ...                            2   \n",
       "2             0          0           5   ...                            2   \n",
       "3             0          1           5   ...                            2   \n",
       "4             1          0           4   ...                            2   \n",
       "\n",
       "   stalk-color-above-ring  stalk-color-below-ring  veil-type  veil-color  \\\n",
       "0                       7                       7          0           2   \n",
       "1                       7                       7          0           2   \n",
       "2                       7                       7          0           2   \n",
       "3                       7                       7          0           2   \n",
       "4                       7                       7          0           2   \n",
       "\n",
       "   ring-number  ring-type  spore-print-color  population  habitat  \n",
       "0            1          4                  2           3        5  \n",
       "1            1          4                  3           2        1  \n",
       "2            1          4                  3           2        3  \n",
       "3            1          4                  2           3        5  \n",
       "4            1          0                  3           0        1  \n",
       "\n",
       "[5 rows x 23 columns]"
      ]
     },
     "execution_count": 46,
     "metadata": {},
     "output_type": "execute_result"
    }
   ],
   "source": [
    "# your mushrooms_ordinal dataframe should look like this\n",
    "pd.read_csv('data/mushrooms_ordinal.csv').head()"
   ]
  },
  {
   "cell_type": "markdown",
   "metadata": {},
   "source": [
    "### Exericse 2: Next, encode your mushroom_ordinal into onehot format"
   ]
  },
  {
   "cell_type": "code",
   "execution_count": null,
   "metadata": {},
   "outputs": [],
   "source": [
    "##### TO DO #####\n",
    "# 1. Create onehot encoder (HINT: set `spare=False` when creating the encoder to avoid getting sparse matrix)\n",
    "onehotencoder = \n",
    "\n",
    "# 2. Convert mushroom_ordinal into onehot format using your onehotencoder\n",
    "mushrooms_onehot = \n",
    "#################\n",
    "\n",
    "\n",
    "print(mushrooms_onehot.shape, '\\n')\n",
    "print(mushrooms_onehot)"
   ]
  },
  {
   "cell_type": "markdown",
   "metadata": {},
   "source": [
    "Your should get something like this when you are finished.\n",
    "\n",
    "```\n",
    "(8124, 119) \n",
    "\n",
    "[[ 0.  1.  0. ...,  0.  1.  0.]\n",
    " [ 1.  0.  0. ...,  0.  0.  0.]\n",
    " [ 1.  0.  1. ...,  0.  0.  0.]\n",
    " ..., \n",
    " [ 1.  0.  0. ...,  0.  0.  0.]\n",
    " [ 0.  1.  0. ...,  0.  0.  0.]\n",
    " [ 1.  0.  0. ...,  0.  0.  0.]]\n",
    "```"
   ]
  },
  {
   "cell_type": "markdown",
   "metadata": {},
   "source": [
    "# Part 4: Split Train/ Validation/ Test Set\n",
    "\n",
    "## `train_test_split()`\n",
    "\n",
    "To split arrays or matrices into random train and test subsets, use `train_test_split()` function from `model_selection` class. You can set parameters to specify how you want to split the data.\n",
    "\n",
    "Some common parameters:\n",
    "- test_size:\n",
    "    - Proportion: should be float and between 0.0 and 1.0 and represent the proportion of the dataset to include in the test split\n",
    "    - Number: should be integer and represent the absolute number of test samples\n",
    "    - Default: 0.25\n",
    "- train_size:\n",
    "    - Proportion\n",
    "    - Number\n",
    "    - Default: the complement of the test size\n",
    "- random_state : int, the seed used by the random number generator"
   ]
  },
  {
   "cell_type": "markdown",
   "metadata": {},
   "source": [
    "## Example: Split Iris Data"
   ]
  },
  {
   "cell_type": "code",
   "execution_count": 18,
   "metadata": {},
   "outputs": [
    {
     "data": {
      "text/html": [
       "<div>\n",
       "<table border=\"1\" class=\"dataframe\">\n",
       "  <thead>\n",
       "    <tr style=\"text-align: right;\">\n",
       "      <th></th>\n",
       "      <th>sepal_length</th>\n",
       "      <th>sepal_width</th>\n",
       "      <th>petal_length</th>\n",
       "      <th>petal_width</th>\n",
       "      <th>species</th>\n",
       "    </tr>\n",
       "  </thead>\n",
       "  <tbody>\n",
       "    <tr>\n",
       "      <th>0</th>\n",
       "      <td>5.1</td>\n",
       "      <td>3.5</td>\n",
       "      <td>1.4</td>\n",
       "      <td>0.2</td>\n",
       "      <td>setosa</td>\n",
       "    </tr>\n",
       "    <tr>\n",
       "      <th>1</th>\n",
       "      <td>4.9</td>\n",
       "      <td>3.0</td>\n",
       "      <td>1.4</td>\n",
       "      <td>0.2</td>\n",
       "      <td>setosa</td>\n",
       "    </tr>\n",
       "    <tr>\n",
       "      <th>2</th>\n",
       "      <td>4.7</td>\n",
       "      <td>3.2</td>\n",
       "      <td>1.3</td>\n",
       "      <td>0.2</td>\n",
       "      <td>setosa</td>\n",
       "    </tr>\n",
       "    <tr>\n",
       "      <th>3</th>\n",
       "      <td>4.6</td>\n",
       "      <td>3.1</td>\n",
       "      <td>1.5</td>\n",
       "      <td>0.2</td>\n",
       "      <td>setosa</td>\n",
       "    </tr>\n",
       "    <tr>\n",
       "      <th>4</th>\n",
       "      <td>5.0</td>\n",
       "      <td>3.6</td>\n",
       "      <td>1.4</td>\n",
       "      <td>0.2</td>\n",
       "      <td>setosa</td>\n",
       "    </tr>\n",
       "  </tbody>\n",
       "</table>\n",
       "</div>"
      ],
      "text/plain": [
       "   sepal_length  sepal_width  petal_length  petal_width species\n",
       "0           5.1          3.5           1.4          0.2  setosa\n",
       "1           4.9          3.0           1.4          0.2  setosa\n",
       "2           4.7          3.2           1.3          0.2  setosa\n",
       "3           4.6          3.1           1.5          0.2  setosa\n",
       "4           5.0          3.6           1.4          0.2  setosa"
      ]
     },
     "execution_count": 18,
     "metadata": {},
     "output_type": "execute_result"
    }
   ],
   "source": [
    "iris.head()"
   ]
  },
  {
   "cell_type": "markdown",
   "metadata": {},
   "source": [
    "### Get Target Array"
   ]
  },
  {
   "cell_type": "code",
   "execution_count": 19,
   "metadata": {},
   "outputs": [
    {
     "name": "stdout",
     "output_type": "stream",
     "text": [
      "target array:\n",
      " [0 0 0 0 0 0 0 0 0 0 0 0 0 0 0 0 0 0 0 0 0 0 0 0 0 0 0 0 0 0 0 0 0 0 0 0 0\n",
      " 0 0 0 0 0 0 0 0 0 0 0 0 0 1 1 1 1 1 1 1 1 1 1 1 1 1 1 1 1 1 1 1 1 1 1 1 1\n",
      " 1 1 1 1 1 1 1 1 1 1 1 1 1 1 1 1 1 1 1 1 1 1 1 1 1 1 2 2 2 2 2 2 2 2 2 2 2\n",
      " 2 2 2 2 2 2 2 2 2 2 2 2 2 2 2 2 2 2 2 2 2 2 2 2 2 2 2 2 2 2 2 2 2 2 2 2 2\n",
      " 2 2]\n"
     ]
    }
   ],
   "source": [
    "from sklearn.preprocessing import LabelEncoder\n",
    "\n",
    "# convert species into numeric values\n",
    "encoder = LabelEncoder()\n",
    "iris_y = encoder.fit_transform(iris['species'])\n",
    "print('target array:\\n', iris_y)"
   ]
  },
  {
   "cell_type": "markdown",
   "metadata": {},
   "source": [
    "### Get Features Matrix"
   ]
  },
  {
   "cell_type": "code",
   "execution_count": 20,
   "metadata": {},
   "outputs": [
    {
     "name": "stdout",
     "output_type": "stream",
     "text": [
      "features matrix X\n"
     ]
    },
    {
     "data": {
      "text/html": [
       "<div>\n",
       "<table border=\"1\" class=\"dataframe\">\n",
       "  <thead>\n",
       "    <tr style=\"text-align: right;\">\n",
       "      <th></th>\n",
       "      <th>sepal_length</th>\n",
       "      <th>sepal_width</th>\n",
       "      <th>petal_length</th>\n",
       "      <th>petal_width</th>\n",
       "    </tr>\n",
       "  </thead>\n",
       "  <tbody>\n",
       "    <tr>\n",
       "      <th>0</th>\n",
       "      <td>5.1</td>\n",
       "      <td>3.5</td>\n",
       "      <td>1.4</td>\n",
       "      <td>0.2</td>\n",
       "    </tr>\n",
       "    <tr>\n",
       "      <th>1</th>\n",
       "      <td>4.9</td>\n",
       "      <td>3.0</td>\n",
       "      <td>1.4</td>\n",
       "      <td>0.2</td>\n",
       "    </tr>\n",
       "    <tr>\n",
       "      <th>2</th>\n",
       "      <td>4.7</td>\n",
       "      <td>3.2</td>\n",
       "      <td>1.3</td>\n",
       "      <td>0.2</td>\n",
       "    </tr>\n",
       "    <tr>\n",
       "      <th>3</th>\n",
       "      <td>4.6</td>\n",
       "      <td>3.1</td>\n",
       "      <td>1.5</td>\n",
       "      <td>0.2</td>\n",
       "    </tr>\n",
       "    <tr>\n",
       "      <th>4</th>\n",
       "      <td>5.0</td>\n",
       "      <td>3.6</td>\n",
       "      <td>1.4</td>\n",
       "      <td>0.2</td>\n",
       "    </tr>\n",
       "  </tbody>\n",
       "</table>\n",
       "</div>"
      ],
      "text/plain": [
       "   sepal_length  sepal_width  petal_length  petal_width\n",
       "0           5.1          3.5           1.4          0.2\n",
       "1           4.9          3.0           1.4          0.2\n",
       "2           4.7          3.2           1.3          0.2\n",
       "3           4.6          3.1           1.5          0.2\n",
       "4           5.0          3.6           1.4          0.2"
      ]
     },
     "metadata": {},
     "output_type": "display_data"
    }
   ],
   "source": [
    "iris_X = iris.drop(['species'], axis=1)  # drop column 'species'\n",
    "\n",
    "print('features matrix X')\n",
    "display(iris_X.head())"
   ]
  },
  {
   "cell_type": "markdown",
   "metadata": {},
   "source": [
    "### Split Train/ Test Set\n",
    "\n",
    "Here we use 80-20 split. We only split the data into train and test set here, but you further split the training set into train and validation set. You can also split the data by other convention as well.\n",
    "\n",
    "```python\n",
    "    Input: train_test_split(features matrix X, target array y, [optional parameters])\n",
    "    output: X_train, X_test, y_train, y_test\n",
    "```"
   ]
  },
  {
   "cell_type": "code",
   "execution_count": 21,
   "metadata": {},
   "outputs": [
    {
     "name": "stdout",
     "output_type": "stream",
     "text": [
      "training set X: (120, 4)\n",
      "training set y: (120,)\n",
      "testing set X: (30, 4)\n",
      "testing set y: (30,)\n"
     ]
    }
   ],
   "source": [
    "# train-test split\n",
    "from sklearn.model_selection import train_test_split\n",
    "\n",
    "X_train, X_test, y_train, y_test = train_test_split(iris_X, iris_y, test_size=0.20, random_state=1)\n",
    "\n",
    "print('training set X:', X_train.shape)\n",
    "print('training set y:', y_train.shape)\n",
    "print('testing set X:', X_test.shape)\n",
    "print('testing set y:', y_test.shape)"
   ]
  },
  {
   "cell_type": "markdown",
   "metadata": {},
   "source": [
    "## Practice Exercise: Split Mushrooms Data"
   ]
  },
  {
   "cell_type": "code",
   "execution_count": 48,
   "metadata": {},
   "outputs": [
    {
     "data": {
      "text/html": [
       "<div>\n",
       "<table border=\"1\" class=\"dataframe\">\n",
       "  <thead>\n",
       "    <tr style=\"text-align: right;\">\n",
       "      <th></th>\n",
       "      <th>class</th>\n",
       "      <th>cap-shape</th>\n",
       "      <th>cap-surface</th>\n",
       "      <th>cap-color</th>\n",
       "      <th>bruises</th>\n",
       "      <th>odor</th>\n",
       "      <th>gill-attachment</th>\n",
       "      <th>gill-spacing</th>\n",
       "      <th>gill-size</th>\n",
       "      <th>gill-color</th>\n",
       "      <th>...</th>\n",
       "      <th>stalk-surface-below-ring</th>\n",
       "      <th>stalk-color-above-ring</th>\n",
       "      <th>stalk-color-below-ring</th>\n",
       "      <th>veil-type</th>\n",
       "      <th>veil-color</th>\n",
       "      <th>ring-number</th>\n",
       "      <th>ring-type</th>\n",
       "      <th>spore-print-color</th>\n",
       "      <th>population</th>\n",
       "      <th>habitat</th>\n",
       "    </tr>\n",
       "  </thead>\n",
       "  <tbody>\n",
       "    <tr>\n",
       "      <th>0</th>\n",
       "      <td>1</td>\n",
       "      <td>5</td>\n",
       "      <td>2</td>\n",
       "      <td>4</td>\n",
       "      <td>1</td>\n",
       "      <td>6</td>\n",
       "      <td>1</td>\n",
       "      <td>0</td>\n",
       "      <td>1</td>\n",
       "      <td>4</td>\n",
       "      <td>...</td>\n",
       "      <td>2</td>\n",
       "      <td>7</td>\n",
       "      <td>7</td>\n",
       "      <td>0</td>\n",
       "      <td>2</td>\n",
       "      <td>1</td>\n",
       "      <td>4</td>\n",
       "      <td>2</td>\n",
       "      <td>3</td>\n",
       "      <td>5</td>\n",
       "    </tr>\n",
       "    <tr>\n",
       "      <th>1</th>\n",
       "      <td>0</td>\n",
       "      <td>5</td>\n",
       "      <td>2</td>\n",
       "      <td>9</td>\n",
       "      <td>1</td>\n",
       "      <td>0</td>\n",
       "      <td>1</td>\n",
       "      <td>0</td>\n",
       "      <td>0</td>\n",
       "      <td>4</td>\n",
       "      <td>...</td>\n",
       "      <td>2</td>\n",
       "      <td>7</td>\n",
       "      <td>7</td>\n",
       "      <td>0</td>\n",
       "      <td>2</td>\n",
       "      <td>1</td>\n",
       "      <td>4</td>\n",
       "      <td>3</td>\n",
       "      <td>2</td>\n",
       "      <td>1</td>\n",
       "    </tr>\n",
       "    <tr>\n",
       "      <th>2</th>\n",
       "      <td>0</td>\n",
       "      <td>0</td>\n",
       "      <td>2</td>\n",
       "      <td>8</td>\n",
       "      <td>1</td>\n",
       "      <td>3</td>\n",
       "      <td>1</td>\n",
       "      <td>0</td>\n",
       "      <td>0</td>\n",
       "      <td>5</td>\n",
       "      <td>...</td>\n",
       "      <td>2</td>\n",
       "      <td>7</td>\n",
       "      <td>7</td>\n",
       "      <td>0</td>\n",
       "      <td>2</td>\n",
       "      <td>1</td>\n",
       "      <td>4</td>\n",
       "      <td>3</td>\n",
       "      <td>2</td>\n",
       "      <td>3</td>\n",
       "    </tr>\n",
       "    <tr>\n",
       "      <th>3</th>\n",
       "      <td>1</td>\n",
       "      <td>5</td>\n",
       "      <td>3</td>\n",
       "      <td>8</td>\n",
       "      <td>1</td>\n",
       "      <td>6</td>\n",
       "      <td>1</td>\n",
       "      <td>0</td>\n",
       "      <td>1</td>\n",
       "      <td>5</td>\n",
       "      <td>...</td>\n",
       "      <td>2</td>\n",
       "      <td>7</td>\n",
       "      <td>7</td>\n",
       "      <td>0</td>\n",
       "      <td>2</td>\n",
       "      <td>1</td>\n",
       "      <td>4</td>\n",
       "      <td>2</td>\n",
       "      <td>3</td>\n",
       "      <td>5</td>\n",
       "    </tr>\n",
       "    <tr>\n",
       "      <th>4</th>\n",
       "      <td>0</td>\n",
       "      <td>5</td>\n",
       "      <td>2</td>\n",
       "      <td>3</td>\n",
       "      <td>0</td>\n",
       "      <td>5</td>\n",
       "      <td>1</td>\n",
       "      <td>1</td>\n",
       "      <td>0</td>\n",
       "      <td>4</td>\n",
       "      <td>...</td>\n",
       "      <td>2</td>\n",
       "      <td>7</td>\n",
       "      <td>7</td>\n",
       "      <td>0</td>\n",
       "      <td>2</td>\n",
       "      <td>1</td>\n",
       "      <td>0</td>\n",
       "      <td>3</td>\n",
       "      <td>0</td>\n",
       "      <td>1</td>\n",
       "    </tr>\n",
       "  </tbody>\n",
       "</table>\n",
       "<p>5 rows × 23 columns</p>\n",
       "</div>"
      ],
      "text/plain": [
       "   class  cap-shape  cap-surface  cap-color  bruises  odor  gill-attachment  \\\n",
       "0      1          5            2          4        1     6                1   \n",
       "1      0          5            2          9        1     0                1   \n",
       "2      0          0            2          8        1     3                1   \n",
       "3      1          5            3          8        1     6                1   \n",
       "4      0          5            2          3        0     5                1   \n",
       "\n",
       "   gill-spacing  gill-size  gill-color   ...     stalk-surface-below-ring  \\\n",
       "0             0          1           4   ...                            2   \n",
       "1             0          0           4   ...                            2   \n",
       "2             0          0           5   ...                            2   \n",
       "3             0          1           5   ...                            2   \n",
       "4             1          0           4   ...                            2   \n",
       "\n",
       "   stalk-color-above-ring  stalk-color-below-ring  veil-type  veil-color  \\\n",
       "0                       7                       7          0           2   \n",
       "1                       7                       7          0           2   \n",
       "2                       7                       7          0           2   \n",
       "3                       7                       7          0           2   \n",
       "4                       7                       7          0           2   \n",
       "\n",
       "   ring-number  ring-type  spore-print-color  population  habitat  \n",
       "0            1          4                  2           3        5  \n",
       "1            1          4                  3           2        1  \n",
       "2            1          4                  3           2        3  \n",
       "3            1          4                  2           3        5  \n",
       "4            1          0                  3           0        1  \n",
       "\n",
       "[5 rows x 23 columns]"
      ]
     },
     "execution_count": 48,
     "metadata": {},
     "output_type": "execute_result"
    }
   ],
   "source": [
    "mushrooms_ordinal = pd.read_csv('data/mushrooms_ordinal.csv')\n",
    "mushrooms_ordinal.head()"
   ]
  },
  {
   "cell_type": "markdown",
   "metadata": {},
   "source": [
    "### Exercise 3: Create Features Matrix `X` & Target Array `y`\n",
    "\n",
    "First, we have to create a features matrix X and target array y from mushrooms data. Column \"class\" is the target that we want to predict, whether the mushroom is edible or poisonous, so we have to exclude this column to get our features matrix X.\n",
    "\n",
    "```\n",
    "Step 1: Drop column 'class' to get features matrix X\n",
    "    - HINT: use `name_of_dataframe.drop(['column you want to drop'], axis=1)`\n",
    "Step 2: Get target array y (i.e. cloumn 'class')\n",
    "    - HINT: use `name_of_dataframe['column you want to get']`\n",
    "```"
   ]
  },
  {
   "cell_type": "code",
   "execution_count": null,
   "metadata": {},
   "outputs": [],
   "source": [
    "##### TO DO #####\n",
    "X = \n",
    "y = \n",
    "#################\n",
    "\n",
    "print('features matrix X')\n",
    "display(X.head())\n",
    "\n",
    "print('target array y')\n",
    "display(y.head())"
   ]
  },
  {
   "cell_type": "markdown",
   "metadata": {},
   "source": [
    "1. Your $X$ dataframe should not contain column 'class'.\n",
    "2. The first 5 elements of your target array $y$ should look like this:\n",
    "\n",
    "```  \n",
    "target array y\n",
    "0    1\n",
    "1    0\n",
    "2    0\n",
    "3    1\n",
    "4    0\n",
    "```"
   ]
  },
  {
   "cell_type": "markdown",
   "metadata": {},
   "source": [
    "### Exercise 4: Convert Features Matrix to One-hot Encoding\n",
    "\n",
    "Our features matrix is ordinal, which is not appropriate for our dataset so we have to convert the features matrix into onehot encoding."
   ]
  },
  {
   "cell_type": "code",
   "execution_count": null,
   "metadata": {},
   "outputs": [],
   "source": [
    "##### TO DO #####\n",
    "onehotencoder =       # remember to set `sparse=False`\n",
    "X_onehot = \n",
    "#################\n",
    "\n",
    "print('[n_sample, n_features]:', X_onehot.shape)\n",
    "print('\\nfeatures matrix:')\n",
    "print(X_onehot)"
   ]
  },
  {
   "cell_type": "markdown",
   "metadata": {},
   "source": [
    "When you are finished, you should get something like this:\n",
    "    \n",
    "```\n",
    "[n_sample, n_features]: (8124, 117)\n",
    "\n",
    "features matrix:\n",
    "[[ 0.  0.  0. ...,  0.  1.  0.]\n",
    " [ 0.  0.  0. ...,  0.  0.  0.]\n",
    " [ 1.  0.  0. ...,  0.  0.  0.]\n",
    " ..., \n",
    " [ 0.  0.  1. ...,  0.  0.  0.]\n",
    " [ 0.  0.  0. ...,  0.  0.  0.]\n",
    " [ 0.  0.  0. ...,  0.  0.  0.]]\n",
    "```"
   ]
  },
  {
   "cell_type": "markdown",
   "metadata": {},
   "source": [
    "### Exercise 5: Split Train/ Test: 80-20 Split\n",
    "\n",
    "Here, you will need to split the data into 3 sets: train/ validation/ test. \n",
    "\n",
    "```\n",
    "    Step 1: Split data into train/test (80-20 split).\n",
    "    Step 2: Split training set into train/val set (80-20 split).\n",
    "```\n",
    "\n",
    "![](img/80_20_split.png)"
   ]
  },
  {
   "cell_type": "markdown",
   "metadata": {},
   "source": [
    "#### Split Train/ Test"
   ]
  },
  {
   "cell_type": "code",
   "execution_count": null,
   "metadata": {},
   "outputs": [],
   "source": [
    "# train-test split\n",
    "from sklearn.model_selection import train_test_split\n",
    "\n",
    "##### TO DO #####\n",
    "# Set parameters `test_size=0.20, random_state=1` so you can get the same result as mine\n",
    "X_train, X_test, y_train, y_test = \n",
    "#################\n",
    "\n",
    "print('training set X:', X_train.shape)\n",
    "print('training set y:', y_train.shape)\n",
    "print('testing set X:', X_test.shape)\n",
    "print('testing set y:', y_test.shape)"
   ]
  },
  {
   "cell_type": "markdown",
   "metadata": {},
   "source": [
    "When you are finished, you should get something like this:\n",
    "\n",
    "```\n",
    "training set X: (6499, 117)\n",
    "training set y: (6499,)\n",
    "testing set X: (1625, 117)\n",
    "testing set y: (1625,)\n",
    "```"
   ]
  },
  {
   "cell_type": "markdown",
   "metadata": {},
   "source": [
    "#### Split Train/ Validation"
   ]
  },
  {
   "cell_type": "code",
   "execution_count": null,
   "metadata": {},
   "outputs": [],
   "source": [
    "# train-validation split\n",
    "\n",
    "##### TO DO #####\n",
    "# Set parameters `test_size=0.20, random_state=1` \n",
    "X_train, X_val, y_train, y_val = \n",
    "#################\n",
    "\n",
    "print('training set X:', X_train.shape)\n",
    "print('training set y:', y_train.shape)\n",
    "print('validation set X:', X_val.shape)\n",
    "print('validation set y:', y_val.shape)"
   ]
  },
  {
   "cell_type": "markdown",
   "metadata": {},
   "source": [
    "When you are finished, you should get something like this:\n",
    "    \n",
    "```\n",
    "training set X: (5199, 117)\n",
    "training set y: (5199,)\n",
    "validation set X: (1300, 117)\n",
    "validation set y: (1300,)\n",
    "```"
   ]
  },
  {
   "cell_type": "markdown",
   "metadata": {},
   "source": [
    "# Part 5: Simple Demo\n",
    "\n",
    "> This part is simply some demos that show you how you can use sklearn to perform various tasks. Don't worry if you don't understand some concept here, especially the second demo. This is just for fun and we'll talk more about differernt basic machine learning algorithms in the next class."
   ]
  },
  {
   "cell_type": "markdown",
   "metadata": {},
   "source": [
    "## Classify Poisonous and Edible Mushrooms\n",
    "\n",
    "After data pre-processing and train-test split, we can now input our data into some machine learning algorithms. Here, we use k-nearest neighbor to classify our mushrooms data with sklearn `KNeighborsClassifier`.\n",
    "\n",
    "We have talked about KNN and its implementation before. You can find the notebook [here](https://github.com/alicia-tsai/ccClub/blob/master/notebooks/KNN.ipynb)."
   ]
  },
  {
   "cell_type": "code",
   "execution_count": 27,
   "metadata": {},
   "outputs": [
    {
     "name": "stdout",
     "output_type": "stream",
     "text": [
      "validation accuray: 1.0\n"
     ]
    }
   ],
   "source": [
    "# necessary sklearn modules\n",
    "from sklearn.preprocessing import LabelEncoder\n",
    "from sklearn.preprocessing import OneHotEncoder\n",
    "from sklearn.model_selection import train_test_split\n",
    "from sklearn.neighbors import KNeighborsClassifier\n",
    "\n",
    "# load data\n",
    "mushrooms = pd.read_csv('data/mushrooms.csv')\n",
    "\n",
    "# Encode into ordinal\n",
    "mushrooms_ordinal = pd.DataFrame()\n",
    "\n",
    "labelencoder=LabelEncoder()\n",
    "for col in mushrooms.columns:\n",
    "    mushrooms_ordinal[col] = labelencoder.fit_transform(mushrooms[col])\n",
    "\n",
    "# create features matrix and target array\n",
    "X = mushrooms_ordinal.drop(['class'], axis=1)  # drop column 'class'\n",
    "y = mushrooms_ordinal['class']\n",
    "\n",
    "# onehot encoding\n",
    "onehotencoder = OneHotEncoder(sparse=False)\n",
    "X_onehot = onehotencoder.fit_transform(X)\n",
    "\n",
    "# train test split (no validation set)\n",
    "X_train, X_test, y_train, y_test = train_test_split(X_onehot, y, test_size=0.20, random_state=1)\n",
    "\n",
    "# KNN classifier\n",
    "knn = KNeighborsClassifier(n_neighbors=3)\n",
    "knn.fit(X_train, y_train)\n",
    "y_pred = knn.predict(X_test)\n",
    "\n",
    "# testing accuracy\n",
    "test_accuracy = np.sum(y_test == y_pred) / len(y_test)\n",
    "print('validation accuray:', test_accuracy)"
   ]
  },
  {
   "cell_type": "markdown",
   "metadata": {},
   "source": [
    "## Text Feature Extraction: Harry Porter\n",
    "\n",
    "In this demo, we will analyze the first 3 books of Harry Porter. We have prepared the full text of the 3 books for you to start. The data is named `HarryPotter1.txt`, `HarryPotter2.txt`, `HarryPotter3.txt`."
   ]
  },
  {
   "cell_type": "markdown",
   "metadata": {},
   "source": [
    "### Load Harry Porter 1-3 Text Data"
   ]
  },
  {
   "cell_type": "code",
   "execution_count": 28,
   "metadata": {},
   "outputs": [
    {
     "name": "stdout",
     "output_type": "stream",
     "text": [
      "Harry Potter and the Sorcerer's Stone\n",
      "\n",
      "\n",
      "CHAPTER ONE\n",
      "\n",
      "THE BOY WHO LIVED\n",
      "\n",
      "Mr. and Mrs. Dursley, of number four, Privet Drive, were proud to say\n",
      "that they were perfectly normal, thank you very much. They were the last\n",
      "people you'd expect to be involved in anything strange or mysterious,\n",
      "because they just didn't hold with such nonsense.\n",
      "\n",
      "Mr. Dursley was the director of a firm called Grunnings, which made\n",
      "drills. He was a big, beefy man with hardly any neck, although he did\n",
      "have a very large mustache. Mrs. Dursley was thin and blonde and had\n",
      "nearly twice the usual amount of neck, which came in very useful as she\n",
      "spent so much of her time craning over garden fences, spying on the\n",
      "neighbors. The Dursleys had a small son called Dudley and in their\n",
      "opinion there was no finer boy anywhere.\n",
      "\n",
      "The Dursleys had everything they wanted, but they also had a secret, and\n",
      "their greatest fear was that somebody would discover it. They didn't\n",
      "think they could bear it if anyone found out about the Potters. Mr\n"
     ]
    }
   ],
   "source": [
    "# store the full text of each book in a list\n",
    "harry_potter = []\n",
    "for i in range(1, 4):\n",
    "    file = 'data/HarryPotter{}.txt'.format(str(i))\n",
    "    harry_potter.append(open(file, 'r').read())\n",
    "\n",
    "# snippet of Harry Porter 1 \n",
    "print(harry_potter[0][:1000])"
   ]
  },
  {
   "cell_type": "markdown",
   "metadata": {},
   "source": [
    "### Text Features\n",
    "\n",
    "Now we have to think about how to represent text as numberical values. One of the most common way is to encode text data as word counts, i.e. the occurences of each word in the text, and store them in a table.\n",
    "\n",
    "For example:\n",
    "\n",
    "```\n",
    "data = ['I love ccClub, ccClub loves me',\n",
    "        'everyone loves ccClub']\n",
    "```\n",
    "\n",
    "Now we count the occurrency of each word.\n",
    "\n",
    "```\n",
    "('I', 1), ('love': 1), ('ccClub': 2), ('loves': 1), ('me': 1)\n",
    "('everyone': 1), ('loves': 1), ('ccClub':1)\n",
    "```\n",
    "\n",
    "And then we construct the table with each word as a column. Alternative, we can call this vectorization of the data based on word count. Noted how we transform the text data into a matrix (vectorization).\n",
    "\n",
    "| I | love | ccClub | loves | me | everyone |\n",
    "| - | ---- | ------ | ----- | -- | -------- |\n",
    "| 1 |   1  |    2   |    1  |  1 |     0    |    \n",
    "| 0 |   0  |    1   |    1  |  0 |     1    |"
   ]
  },
  {
   "cell_type": "markdown",
   "metadata": {},
   "source": [
    "### Word Counts Vectorization: `CountVectorizer()`\n",
    "\n",
    "Manully converting the text data into matrix form is quite painful. With Scikit-Learn `CountVectorizer` from `feature_extraction`, this task becomes very simple. Pay attention to the input and output of `CountVectorizer`.\n",
    "\n",
    "- Input: a **list** of text, each element being a data point.\n",
    "- Output: a sparse matrix"
   ]
  },
  {
   "cell_type": "code",
   "execution_count": 29,
   "metadata": {},
   "outputs": [],
   "source": [
    "# create word count vectorizer\n",
    "from sklearn.feature_extraction.text import CountVectorizer\n",
    "\n",
    "vectorizer = CountVectorizer()\n",
    "harry_potter_vector = vectorizer.fit_transform(harry_potter)  # output a sparse matrix"
   ]
  },
  {
   "cell_type": "markdown",
   "metadata": {},
   "source": [
    "### Get All Words in Harry Potter\n",
    "\n",
    "`get_feature_names()` function gives you all the words that appear in the data."
   ]
  },
  {
   "cell_type": "code",
   "execution_count": 30,
   "metadata": {},
   "outputs": [
    {
     "name": "stdout",
     "output_type": "stream",
     "text": [
      "['07', '08', '100', '101', '102', '104', '105', '106', '107', '108', '11', '110', '111', '112', '113', '114', '115', '116', '117', '118', '12', '122', '123', '124', '125', '126', '127', '128', '1289', '129', '1296', '13', '130', '131', '132', '133', '134', '135', '136', '137', '138', '14', '140', '141', '142', '143', '144', '145', '146', '1473', '148', '149', '1492', '150', '151', '152', '154', '157', '158', '159', '16', '161', '1612', '162', '163', '1637', '164', '165', '166', '167', '168', '169', '17', '170', '1709', '171', '1722', '173', '176', '177', '178', '180', '182', '184', '186', '187', '1875', '188', '189', '19', '190', '191', '192', '194', '1945', '195', '197', '198', '199', '200', '2000', '202', '203', '204', '205', '208', '209', '20th', '21', '210', '211', '2116', '213', '214', '215', '216', '217', '218', '220', '221', '222', '224', '225', '228', '229', '231', '232', '233', '235', '236', '237', '238', '24', '240', '241', '242', '243', '244', '26', '261', '262', '265', '266', '268', '270', '273', '28', '280', '281', '284', '291', '295', '296', '297', '298', '299', '2o', '2y', '30', '300', '301', '302', '303', '304', '306', '309', '31', '310', '312', '318', '31st', '32', '321', '324', '325', '328', '329', '333', '335', '336', '339', '340', '341', '382', '394', '40k', '41', '42', '44', '45', '46', '48', '49', '50', '51', '52', '520', '522', '531', '54', '55', '56', '57', '59', '60', '61', '62', '63', '65', '66', '68', '69', '71', '76', '78', '80', '82', '84', '85', '86', '88', '89', '8i', '90', '92', '94', '95', '96', '97', '98', '_2', 'aaaaaaaaaargh', 'aaaaaaarrrgh', 'aaaargh', 'aaah', 'aaargh', 'aaarrgghh', 'aah', 'aargh', 'aback', 'abandoned', 'abandoning', 'abashed', 'abbott', 'aberdeen', 'abergavenny', 'abiding', 'abilities', 'ability', 'abject', 'ablaze', 'able', 'abnormal', 'abnormality', 'abnormally', 'aboard', 'abou', 'about', 'abouts', 'above', 'abroad', 'abruptly', 'absence', 'absent', 'absently', 'absentmindedly', 'absolute', 'absolutely', 'absolutelydisgusted', 'absorbed', 'absorbing', 'absurd', 'absurdity', 'abut', 'abysmal', 'abysmally', 'abyssinian', 'acceler', 'accelerated', 'acceleration', 'accelerator', 'accept', 'accepted', 'accident', 'accidental', 'accidentally', 'accidents', 'accompanied', 'accompanying', 'accomplishing', 'accord', 'according', 'account', 'accountant', 'accurate', 'accusing', 'ache', 'achieve', 'achieved', 'achievement']\n"
     ]
    }
   ],
   "source": [
    "# get all the words\n",
    "words = vectorizer.get_feature_names()\n",
    "\n",
    "# first 300 words\n",
    "print(words[:300])"
   ]
  },
  {
   "cell_type": "markdown",
   "metadata": {},
   "source": [
    "### Convert sparse matrix into Pandas DataFrame\n",
    "\n",
    "To take a look at the data and start exploring the data with Pandas, we can convert the sparse matrix into a DataFrame.\n",
    "\n",
    "```python \n",
    "# First, we convert the spare matrix to a numpy array (matrix).\n",
    ">>> harry_potter_vector.toarray()\n",
    "array([[0, 0, 0, ..., 1, 1, 2],\n",
    "       [1, 1, 1, ..., 0, 2, 0],\n",
    "       [0, 0, 0, ..., 0, 9, 3]], dtype=int64)\n",
    "\n",
    "# Next, convert the array into DataFrame and set column name to the word\n",
    "# Here, we combine the first step with the sceond into one line of code\n",
    ">>> pd.DataFrame(harry_potter_vector.toarray(), columns=vectorizer.get_features_names())\n",
    "```"
   ]
  },
  {
   "cell_type": "code",
   "execution_count": 31,
   "metadata": {},
   "outputs": [
    {
     "data": {
      "text/html": [
       "<div>\n",
       "<table border=\"1\" class=\"dataframe\">\n",
       "  <thead>\n",
       "    <tr style=\"text-align: right;\">\n",
       "      <th></th>\n",
       "      <th>07</th>\n",
       "      <th>08</th>\n",
       "      <th>100</th>\n",
       "      <th>101</th>\n",
       "      <th>102</th>\n",
       "      <th>104</th>\n",
       "      <th>105</th>\n",
       "      <th>106</th>\n",
       "      <th>107</th>\n",
       "      <th>108</th>\n",
       "      <th>...</th>\n",
       "      <th>zap</th>\n",
       "      <th>zero</th>\n",
       "      <th>zigzagged</th>\n",
       "      <th>zigzagging</th>\n",
       "      <th>zombie</th>\n",
       "      <th>zonko</th>\n",
       "      <th>zoo</th>\n",
       "      <th>zoom</th>\n",
       "      <th>zoomed</th>\n",
       "      <th>zooming</th>\n",
       "    </tr>\n",
       "  </thead>\n",
       "  <tbody>\n",
       "    <tr>\n",
       "      <th>0</th>\n",
       "      <td>0</td>\n",
       "      <td>0</td>\n",
       "      <td>0</td>\n",
       "      <td>0</td>\n",
       "      <td>0</td>\n",
       "      <td>0</td>\n",
       "      <td>0</td>\n",
       "      <td>0</td>\n",
       "      <td>0</td>\n",
       "      <td>0</td>\n",
       "      <td>...</td>\n",
       "      <td>0</td>\n",
       "      <td>0</td>\n",
       "      <td>0</td>\n",
       "      <td>2</td>\n",
       "      <td>2</td>\n",
       "      <td>0</td>\n",
       "      <td>7</td>\n",
       "      <td>1</td>\n",
       "      <td>1</td>\n",
       "      <td>2</td>\n",
       "    </tr>\n",
       "    <tr>\n",
       "      <th>1</th>\n",
       "      <td>1</td>\n",
       "      <td>1</td>\n",
       "      <td>1</td>\n",
       "      <td>1</td>\n",
       "      <td>1</td>\n",
       "      <td>1</td>\n",
       "      <td>1</td>\n",
       "      <td>1</td>\n",
       "      <td>1</td>\n",
       "      <td>1</td>\n",
       "      <td>...</td>\n",
       "      <td>1</td>\n",
       "      <td>1</td>\n",
       "      <td>1</td>\n",
       "      <td>1</td>\n",
       "      <td>0</td>\n",
       "      <td>0</td>\n",
       "      <td>2</td>\n",
       "      <td>0</td>\n",
       "      <td>2</td>\n",
       "      <td>0</td>\n",
       "    </tr>\n",
       "    <tr>\n",
       "      <th>2</th>\n",
       "      <td>0</td>\n",
       "      <td>0</td>\n",
       "      <td>0</td>\n",
       "      <td>0</td>\n",
       "      <td>0</td>\n",
       "      <td>0</td>\n",
       "      <td>0</td>\n",
       "      <td>0</td>\n",
       "      <td>0</td>\n",
       "      <td>0</td>\n",
       "      <td>...</td>\n",
       "      <td>0</td>\n",
       "      <td>6</td>\n",
       "      <td>0</td>\n",
       "      <td>0</td>\n",
       "      <td>1</td>\n",
       "      <td>11</td>\n",
       "      <td>0</td>\n",
       "      <td>0</td>\n",
       "      <td>9</td>\n",
       "      <td>3</td>\n",
       "    </tr>\n",
       "  </tbody>\n",
       "</table>\n",
       "<p>3 rows × 11336 columns</p>\n",
       "</div>"
      ],
      "text/plain": [
       "   07  08  100  101  102  104  105  106  107  108   ...     zap  zero  \\\n",
       "0   0   0    0    0    0    0    0    0    0    0   ...       0     0   \n",
       "1   1   1    1    1    1    1    1    1    1    1   ...       1     1   \n",
       "2   0   0    0    0    0    0    0    0    0    0   ...       0     6   \n",
       "\n",
       "   zigzagged  zigzagging  zombie  zonko  zoo  zoom  zoomed  zooming  \n",
       "0          0           2       2      0    7     1       1        2  \n",
       "1          1           1       0      0    2     0       2        0  \n",
       "2          0           0       1     11    0     0       9        3  \n",
       "\n",
       "[3 rows x 11336 columns]"
      ]
     },
     "execution_count": 31,
     "metadata": {},
     "output_type": "execute_result"
    }
   ],
   "source": [
    "harry_potter_vector = pd.DataFrame(harry_potter_vector.toarray(), columns=vectorizer.get_feature_names()) \n",
    "harry_potter_vector.head()"
   ]
  },
  {
   "cell_type": "markdown",
   "metadata": {},
   "source": [
    "### Word Count for Each Book\n",
    "\n",
    "We can see that each row represents the word counts vector for each book, book 1 to 3. We can transpose the dataframe to make it become the frequency table that we are familiar with."
   ]
  },
  {
   "cell_type": "code",
   "execution_count": 32,
   "metadata": {
    "scrolled": true
   },
   "outputs": [
    {
     "data": {
      "text/html": [
       "<div>\n",
       "<table border=\"1\" class=\"dataframe\">\n",
       "  <thead>\n",
       "    <tr style=\"text-align: right;\">\n",
       "      <th></th>\n",
       "      <th>book_1</th>\n",
       "      <th>book_2</th>\n",
       "      <th>book_3</th>\n",
       "    </tr>\n",
       "  </thead>\n",
       "  <tbody>\n",
       "    <tr>\n",
       "      <th>zonko</th>\n",
       "      <td>0</td>\n",
       "      <td>0</td>\n",
       "      <td>11</td>\n",
       "    </tr>\n",
       "    <tr>\n",
       "      <th>zoo</th>\n",
       "      <td>7</td>\n",
       "      <td>2</td>\n",
       "      <td>0</td>\n",
       "    </tr>\n",
       "    <tr>\n",
       "      <th>zoom</th>\n",
       "      <td>1</td>\n",
       "      <td>0</td>\n",
       "      <td>0</td>\n",
       "    </tr>\n",
       "    <tr>\n",
       "      <th>zoomed</th>\n",
       "      <td>1</td>\n",
       "      <td>2</td>\n",
       "      <td>9</td>\n",
       "    </tr>\n",
       "    <tr>\n",
       "      <th>zooming</th>\n",
       "      <td>2</td>\n",
       "      <td>0</td>\n",
       "      <td>3</td>\n",
       "    </tr>\n",
       "  </tbody>\n",
       "</table>\n",
       "</div>"
      ],
      "text/plain": [
       "         book_1  book_2  book_3\n",
       "zonko         0       0      11\n",
       "zoo           7       2       0\n",
       "zoom          1       0       0\n",
       "zoomed        1       2       9\n",
       "zooming       2       0       3"
      ]
     },
     "execution_count": 32,
     "metadata": {},
     "output_type": "execute_result"
    }
   ],
   "source": [
    "# create word count dataframe\n",
    "word_count = harry_potter_vector.T\n",
    "word_count.columns = ['book_1', 'book_2', 'book_3']\n",
    "word_count.tail()"
   ]
  },
  {
   "cell_type": "markdown",
   "metadata": {},
   "source": [
    "### Sort Words by Frequency\n",
    "\n",
    "Now we can do some simple analysis to see what is the most frequent words in Harry Potter. Here, we are sorting by the frequency of book 1 from most frequent to the least frequent (descendingly). Aha, **Harry** is the fifth frequent word, right after **he**!"
   ]
  },
  {
   "cell_type": "code",
   "execution_count": 33,
   "metadata": {},
   "outputs": [
    {
     "data": {
      "text/html": [
       "<div>\n",
       "<table border=\"1\" class=\"dataframe\">\n",
       "  <thead>\n",
       "    <tr style=\"text-align: right;\">\n",
       "      <th></th>\n",
       "      <th>book_1</th>\n",
       "      <th>book_2</th>\n",
       "      <th>book_3</th>\n",
       "    </tr>\n",
       "  </thead>\n",
       "  <tbody>\n",
       "    <tr>\n",
       "      <th>the</th>\n",
       "      <td>3630</td>\n",
       "      <td>4088</td>\n",
       "      <td>4991</td>\n",
       "    </tr>\n",
       "    <tr>\n",
       "      <th>and</th>\n",
       "      <td>1924</td>\n",
       "      <td>2168</td>\n",
       "      <td>2620</td>\n",
       "    </tr>\n",
       "    <tr>\n",
       "      <th>to</th>\n",
       "      <td>1861</td>\n",
       "      <td>2023</td>\n",
       "      <td>2554</td>\n",
       "    </tr>\n",
       "    <tr>\n",
       "      <th>he</th>\n",
       "      <td>1758</td>\n",
       "      <td>1531</td>\n",
       "      <td>2065</td>\n",
       "    </tr>\n",
       "    <tr>\n",
       "      <th>harry</th>\n",
       "      <td>1327</td>\n",
       "      <td>1647</td>\n",
       "      <td>2005</td>\n",
       "    </tr>\n",
       "  </tbody>\n",
       "</table>\n",
       "</div>"
      ],
      "text/plain": [
       "       book_1  book_2  book_3\n",
       "the      3630    4088    4991\n",
       "and      1924    2168    2620\n",
       "to       1861    2023    2554\n",
       "he       1758    1531    2065\n",
       "harry    1327    1647    2005"
      ]
     },
     "execution_count": 33,
     "metadata": {},
     "output_type": "execute_result"
    }
   ],
   "source": [
    "# frequency table\n",
    "word_count.sort_values(by=['book_1'], ascending=False).head()"
   ]
  },
  {
   "cell_type": "markdown",
   "metadata": {},
   "source": [
    "### Total Wors in Each Book\n",
    "\n",
    "We can also count the total words of each book. Simply sum up all the values for each columns (column sum)."
   ]
  },
  {
   "cell_type": "code",
   "execution_count": 34,
   "metadata": {},
   "outputs": [
    {
     "name": "stdout",
     "output_type": "stream",
     "text": [
      "book_1     75681\n",
      "book_2     83206\n",
      "book_3    102469\n",
      "dtype: int64\n"
     ]
    }
   ],
   "source": [
    "# counting total words in each book\n",
    "print(np.sum(word_count, axis=0))"
   ]
  },
  {
   "cell_type": "markdown",
   "metadata": {},
   "source": [
    "### Top Characters\n",
    "\n",
    "Let's quickly see which character shows up most in each book. Here, we have the top 14 popular characters in Harry Potter sotored in `top_characters_list`. And then we can extract the occurency of those characters from our `word_count` DataFrame using indexing.\n",
    "\n",
    "```python\n",
    "top_characters_list = ['harry', 'dumbledore', 'voldemort', 'snape', 'sirius', 'hermione', 'ron', 'draco', \n",
    "                       'hagrid', 'neville', 'dobby', 'moody', 'lupin', 'mcgonagall']\n",
    "\n",
    "word_count.loc[ list_of_index_you_want_to_extract , :]\n",
    "```"
   ]
  },
  {
   "cell_type": "code",
   "execution_count": 35,
   "metadata": {},
   "outputs": [
    {
     "data": {
      "text/html": [
       "<div>\n",
       "<table border=\"1\" class=\"dataframe\">\n",
       "  <thead>\n",
       "    <tr style=\"text-align: right;\">\n",
       "      <th></th>\n",
       "      <th>book_1</th>\n",
       "      <th>book_2</th>\n",
       "      <th>book_3</th>\n",
       "    </tr>\n",
       "  </thead>\n",
       "  <tbody>\n",
       "    <tr>\n",
       "      <th>harry</th>\n",
       "      <td>1327</td>\n",
       "      <td>1647</td>\n",
       "      <td>2005</td>\n",
       "    </tr>\n",
       "    <tr>\n",
       "      <th>dumbledore</th>\n",
       "      <td>160</td>\n",
       "      <td>156</td>\n",
       "      <td>160</td>\n",
       "    </tr>\n",
       "    <tr>\n",
       "      <th>voldemort</th>\n",
       "      <td>38</td>\n",
       "      <td>25</td>\n",
       "      <td>47</td>\n",
       "    </tr>\n",
       "    <tr>\n",
       "      <th>snape</th>\n",
       "      <td>172</td>\n",
       "      <td>98</td>\n",
       "      <td>246</td>\n",
       "    </tr>\n",
       "    <tr>\n",
       "      <th>sirius</th>\n",
       "      <td>2</td>\n",
       "      <td>0</td>\n",
       "      <td>138</td>\n",
       "    </tr>\n",
       "    <tr>\n",
       "      <th>hermione</th>\n",
       "      <td>270</td>\n",
       "      <td>320</td>\n",
       "      <td>640</td>\n",
       "    </tr>\n",
       "    <tr>\n",
       "      <th>ron</th>\n",
       "      <td>429</td>\n",
       "      <td>697</td>\n",
       "      <td>756</td>\n",
       "    </tr>\n",
       "    <tr>\n",
       "      <th>draco</th>\n",
       "      <td>10</td>\n",
       "      <td>34</td>\n",
       "      <td>7</td>\n",
       "    </tr>\n",
       "    <tr>\n",
       "      <th>hagrid</th>\n",
       "      <td>370</td>\n",
       "      <td>161</td>\n",
       "      <td>263</td>\n",
       "    </tr>\n",
       "    <tr>\n",
       "      <th>neville</th>\n",
       "      <td>117</td>\n",
       "      <td>30</td>\n",
       "      <td>106</td>\n",
       "    </tr>\n",
       "    <tr>\n",
       "      <th>dobby</th>\n",
       "      <td>0</td>\n",
       "      <td>152</td>\n",
       "      <td>0</td>\n",
       "    </tr>\n",
       "    <tr>\n",
       "      <th>moody</th>\n",
       "      <td>0</td>\n",
       "      <td>1</td>\n",
       "      <td>0</td>\n",
       "    </tr>\n",
       "    <tr>\n",
       "      <th>lupin</th>\n",
       "      <td>0</td>\n",
       "      <td>0</td>\n",
       "      <td>404</td>\n",
       "    </tr>\n",
       "    <tr>\n",
       "      <th>mcgonagall</th>\n",
       "      <td>101</td>\n",
       "      <td>90</td>\n",
       "      <td>102</td>\n",
       "    </tr>\n",
       "  </tbody>\n",
       "</table>\n",
       "</div>"
      ],
      "text/plain": [
       "            book_1  book_2  book_3\n",
       "harry         1327    1647    2005\n",
       "dumbledore     160     156     160\n",
       "voldemort       38      25      47\n",
       "snape          172      98     246\n",
       "sirius           2       0     138\n",
       "hermione       270     320     640\n",
       "ron            429     697     756\n",
       "draco           10      34       7\n",
       "hagrid         370     161     263\n",
       "neville        117      30     106\n",
       "dobby            0     152       0\n",
       "moody            0       1       0\n",
       "lupin            0       0     404\n",
       "mcgonagall     101      90     102"
      ]
     },
     "execution_count": 35,
     "metadata": {},
     "output_type": "execute_result"
    }
   ],
   "source": [
    "top_characters_list = ['harry', 'dumbledore', 'voldemort', 'snape', 'sirius', 'hermione', 'ron', 'draco', 'hagrid',\n",
    "                       'neville', 'dobby', 'moody', 'lupin', 'mcgonagall']\n",
    "\n",
    "# extract top characters\n",
    "top_characters = word_count.loc[top_characters_list, :]\n",
    "top_characters"
   ]
  },
  {
   "cell_type": "markdown",
   "metadata": {},
   "source": [
    "### Consider Full Document Length: Term Frequency\n",
    "\n",
    "This is quit interesting, looks like `harry` is getting more and more important based on word counts. But wait, each book gets longer and longer as well, so it natural that the counts increase.\n",
    "\n",
    "To adjust the length of the document, we can divide the words count by the length of its full document. This is called term frequency. It measures the how frequent each word appear in the full document.\n",
    "\n",
    "```python\n",
    "book_1     75681 words\n",
    "book_2     83206 words\n",
    "book_3    102469 words\n",
    "```"
   ]
  },
  {
   "cell_type": "code",
   "execution_count": 36,
   "metadata": {},
   "outputs": [
    {
     "data": {
      "text/html": [
       "<div>\n",
       "<table border=\"1\" class=\"dataframe\">\n",
       "  <thead>\n",
       "    <tr style=\"text-align: right;\">\n",
       "      <th></th>\n",
       "      <th>book_1</th>\n",
       "      <th>book_2</th>\n",
       "      <th>book_3</th>\n",
       "    </tr>\n",
       "  </thead>\n",
       "  <tbody>\n",
       "    <tr>\n",
       "      <th>harry</th>\n",
       "      <td>0.017534</td>\n",
       "      <td>0.019794</td>\n",
       "      <td>0.019567</td>\n",
       "    </tr>\n",
       "    <tr>\n",
       "      <th>dumbledore</th>\n",
       "      <td>0.002114</td>\n",
       "      <td>0.001875</td>\n",
       "      <td>0.001561</td>\n",
       "    </tr>\n",
       "    <tr>\n",
       "      <th>voldemort</th>\n",
       "      <td>0.000502</td>\n",
       "      <td>0.000300</td>\n",
       "      <td>0.000459</td>\n",
       "    </tr>\n",
       "    <tr>\n",
       "      <th>snape</th>\n",
       "      <td>0.002273</td>\n",
       "      <td>0.001178</td>\n",
       "      <td>0.002401</td>\n",
       "    </tr>\n",
       "    <tr>\n",
       "      <th>sirius</th>\n",
       "      <td>0.000026</td>\n",
       "      <td>0.000000</td>\n",
       "      <td>0.001347</td>\n",
       "    </tr>\n",
       "    <tr>\n",
       "      <th>hermione</th>\n",
       "      <td>0.003568</td>\n",
       "      <td>0.003846</td>\n",
       "      <td>0.006246</td>\n",
       "    </tr>\n",
       "    <tr>\n",
       "      <th>ron</th>\n",
       "      <td>0.005669</td>\n",
       "      <td>0.008377</td>\n",
       "      <td>0.007378</td>\n",
       "    </tr>\n",
       "    <tr>\n",
       "      <th>draco</th>\n",
       "      <td>0.000132</td>\n",
       "      <td>0.000409</td>\n",
       "      <td>0.000068</td>\n",
       "    </tr>\n",
       "    <tr>\n",
       "      <th>hagrid</th>\n",
       "      <td>0.004889</td>\n",
       "      <td>0.001935</td>\n",
       "      <td>0.002567</td>\n",
       "    </tr>\n",
       "    <tr>\n",
       "      <th>neville</th>\n",
       "      <td>0.001546</td>\n",
       "      <td>0.000361</td>\n",
       "      <td>0.001034</td>\n",
       "    </tr>\n",
       "    <tr>\n",
       "      <th>dobby</th>\n",
       "      <td>0.000000</td>\n",
       "      <td>0.001827</td>\n",
       "      <td>0.000000</td>\n",
       "    </tr>\n",
       "    <tr>\n",
       "      <th>moody</th>\n",
       "      <td>0.000000</td>\n",
       "      <td>0.000012</td>\n",
       "      <td>0.000000</td>\n",
       "    </tr>\n",
       "    <tr>\n",
       "      <th>lupin</th>\n",
       "      <td>0.000000</td>\n",
       "      <td>0.000000</td>\n",
       "      <td>0.003943</td>\n",
       "    </tr>\n",
       "    <tr>\n",
       "      <th>mcgonagall</th>\n",
       "      <td>0.001335</td>\n",
       "      <td>0.001082</td>\n",
       "      <td>0.000995</td>\n",
       "    </tr>\n",
       "  </tbody>\n",
       "</table>\n",
       "</div>"
      ],
      "text/plain": [
       "              book_1    book_2    book_3\n",
       "harry       0.017534  0.019794  0.019567\n",
       "dumbledore  0.002114  0.001875  0.001561\n",
       "voldemort   0.000502  0.000300  0.000459\n",
       "snape       0.002273  0.001178  0.002401\n",
       "sirius      0.000026  0.000000  0.001347\n",
       "hermione    0.003568  0.003846  0.006246\n",
       "ron         0.005669  0.008377  0.007378\n",
       "draco       0.000132  0.000409  0.000068\n",
       "hagrid      0.004889  0.001935  0.002567\n",
       "neville     0.001546  0.000361  0.001034\n",
       "dobby       0.000000  0.001827  0.000000\n",
       "moody       0.000000  0.000012  0.000000\n",
       "lupin       0.000000  0.000000  0.003943\n",
       "mcgonagall  0.001335  0.001082  0.000995"
      ]
     },
     "execution_count": 36,
     "metadata": {},
     "output_type": "execute_result"
    }
   ],
   "source": [
    "# term frequency (tf)\n",
    "n_words = np.sum(word_count, axis=0)\n",
    "top_characters / n_words"
   ]
  },
  {
   "cell_type": "markdown",
   "metadata": {},
   "source": [
    "### Relative Importance of The Characters\n",
    "We can also use the percentage to show the relative importance of the characters."
   ]
  },
  {
   "cell_type": "code",
   "execution_count": 37,
   "metadata": {},
   "outputs": [
    {
     "data": {
      "text/html": [
       "<div>\n",
       "<table border=\"1\" class=\"dataframe\">\n",
       "  <thead>\n",
       "    <tr style=\"text-align: right;\">\n",
       "      <th></th>\n",
       "      <th>book_1</th>\n",
       "      <th>book_2</th>\n",
       "      <th>book_3</th>\n",
       "    </tr>\n",
       "  </thead>\n",
       "  <tbody>\n",
       "    <tr>\n",
       "      <th>harry</th>\n",
       "      <td>0.442924</td>\n",
       "      <td>0.482850</td>\n",
       "      <td>0.411366</td>\n",
       "    </tr>\n",
       "    <tr>\n",
       "      <th>dumbledore</th>\n",
       "      <td>0.053405</td>\n",
       "      <td>0.045734</td>\n",
       "      <td>0.032827</td>\n",
       "    </tr>\n",
       "    <tr>\n",
       "      <th>voldemort</th>\n",
       "      <td>0.012684</td>\n",
       "      <td>0.007329</td>\n",
       "      <td>0.009643</td>\n",
       "    </tr>\n",
       "    <tr>\n",
       "      <th>snape</th>\n",
       "      <td>0.057410</td>\n",
       "      <td>0.028731</td>\n",
       "      <td>0.050472</td>\n",
       "    </tr>\n",
       "    <tr>\n",
       "      <th>sirius</th>\n",
       "      <td>0.000668</td>\n",
       "      <td>0.000000</td>\n",
       "      <td>0.028314</td>\n",
       "    </tr>\n",
       "    <tr>\n",
       "      <th>hermione</th>\n",
       "      <td>0.090120</td>\n",
       "      <td>0.093814</td>\n",
       "      <td>0.131309</td>\n",
       "    </tr>\n",
       "    <tr>\n",
       "      <th>ron</th>\n",
       "      <td>0.143191</td>\n",
       "      <td>0.204339</td>\n",
       "      <td>0.155109</td>\n",
       "    </tr>\n",
       "    <tr>\n",
       "      <th>draco</th>\n",
       "      <td>0.003338</td>\n",
       "      <td>0.009968</td>\n",
       "      <td>0.001436</td>\n",
       "    </tr>\n",
       "    <tr>\n",
       "      <th>hagrid</th>\n",
       "      <td>0.123498</td>\n",
       "      <td>0.047200</td>\n",
       "      <td>0.053960</td>\n",
       "    </tr>\n",
       "    <tr>\n",
       "      <th>neville</th>\n",
       "      <td>0.039052</td>\n",
       "      <td>0.008795</td>\n",
       "      <td>0.021748</td>\n",
       "    </tr>\n",
       "    <tr>\n",
       "      <th>dobby</th>\n",
       "      <td>0.000000</td>\n",
       "      <td>0.044562</td>\n",
       "      <td>0.000000</td>\n",
       "    </tr>\n",
       "    <tr>\n",
       "      <th>moody</th>\n",
       "      <td>0.000000</td>\n",
       "      <td>0.000293</td>\n",
       "      <td>0.000000</td>\n",
       "    </tr>\n",
       "    <tr>\n",
       "      <th>lupin</th>\n",
       "      <td>0.000000</td>\n",
       "      <td>0.000000</td>\n",
       "      <td>0.082889</td>\n",
       "    </tr>\n",
       "    <tr>\n",
       "      <th>mcgonagall</th>\n",
       "      <td>0.033712</td>\n",
       "      <td>0.026385</td>\n",
       "      <td>0.020927</td>\n",
       "    </tr>\n",
       "  </tbody>\n",
       "</table>\n",
       "</div>"
      ],
      "text/plain": [
       "              book_1    book_2    book_3\n",
       "harry       0.442924  0.482850  0.411366\n",
       "dumbledore  0.053405  0.045734  0.032827\n",
       "voldemort   0.012684  0.007329  0.009643\n",
       "snape       0.057410  0.028731  0.050472\n",
       "sirius      0.000668  0.000000  0.028314\n",
       "hermione    0.090120  0.093814  0.131309\n",
       "ron         0.143191  0.204339  0.155109\n",
       "draco       0.003338  0.009968  0.001436\n",
       "hagrid      0.123498  0.047200  0.053960\n",
       "neville     0.039052  0.008795  0.021748\n",
       "dobby       0.000000  0.044562  0.000000\n",
       "moody       0.000000  0.000293  0.000000\n",
       "lupin       0.000000  0.000000  0.082889\n",
       "mcgonagall  0.033712  0.026385  0.020927"
      ]
     },
     "execution_count": 37,
     "metadata": {},
     "output_type": "execute_result"
    }
   ],
   "source": [
    "# percentage\n",
    "top_characters / np.sum(top_characters)"
   ]
  },
  {
   "cell_type": "markdown",
   "metadata": {},
   "source": [
    "## Just for Fun: Word Cloud\n",
    "\n",
    "You may have seen people making word cloud before. Now, we are going to make one using our Harry Potter data. Additionally, we also need the following two packages to make our word cloud.\n",
    "\n",
    "### Install Additional Packages \n",
    "```python\n",
    "pip install nltk\n",
    "pip install wordcloud\n",
    "```\n",
    "\n",
    "### Stop Words\n",
    "\n",
    "You may recall that the most 3 frequent words in Harry Potter are \"the\", \"and\", \"to\". These may not be so meaningful for our word cloud so we want to exlude these common words that show up a lot but do not give us so much information.\n",
    "\n",
    "These words are called stop words, words that we want to skip (stop). To manully exclude these words is tedious. There are already a set of stop words in `nltk` package that can directly utilize."
   ]
  },
  {
   "cell_type": "code",
   "execution_count": 38,
   "metadata": {},
   "outputs": [
    {
     "name": "stdout",
     "output_type": "stream",
     "text": [
      "[nltk_data] Downloading package stopwords to\n",
      "[nltk_data]     /Users/aliciatsai/nltk_data...\n",
      "[nltk_data]   Package stopwords is already up-to-date!\n"
     ]
    }
   ],
   "source": [
    "# download stop words from nltk\n",
    "import nltk\n",
    "nltk.download('stopwords');"
   ]
  },
  {
   "cell_type": "code",
   "execution_count": 39,
   "metadata": {},
   "outputs": [
    {
     "name": "stdout",
     "output_type": "stream",
     "text": [
      "['i', 'me', 'my', 'myself', 'we', 'our', 'ours', 'ourselves', 'you', \"you're\", \"you've\", \"you'll\", \"you'd\", 'your', 'yours', 'yourself', 'yourselves', 'he', 'him', 'his', 'himself', 'she', \"she's\", 'her', 'hers', 'herself', 'it', \"it's\", 'its', 'itself', 'they', 'them', 'their', 'theirs', 'themselves', 'what', 'which', 'who', 'whom', 'this', 'that', \"that'll\", 'these', 'those', 'am', 'is', 'are', 'was', 'were', 'be', 'been', 'being', 'have', 'has', 'had', 'having', 'do', 'does', 'did', 'doing', 'a', 'an', 'the', 'and', 'but', 'if', 'or', 'because', 'as', 'until', 'while', 'of', 'at', 'by', 'for', 'with', 'about', 'against', 'between', 'into', 'through', 'during', 'before', 'after', 'above', 'below', 'to', 'from', 'up', 'down', 'in', 'out', 'on', 'off', 'over', 'under', 'again', 'further', 'then', 'once']\n"
     ]
    }
   ],
   "source": [
    "from nltk.corpus import stopwords\n",
    "\n",
    "# snippet of the first 100 stop words\n",
    "print(stopwords.words('english')[:100])"
   ]
  },
  {
   "cell_type": "markdown",
   "metadata": {},
   "source": [
    "### Create Word Cloud\n",
    "\n",
    "To create a word cloud, simple import `wordcloud` package. Noted that the input for `wordcloud` shoule be a **string** not a list or an array."
   ]
  },
  {
   "cell_type": "code",
   "execution_count": 40,
   "metadata": {},
   "outputs": [
    {
     "data": {
      "image/png": "[encoded data removed]",
      "text/plain": [
       "<matplotlib.figure.Figure at 0x10d050898>"
      ]
     },
     "metadata": {},
     "output_type": "display_data"
    }
   ],
   "source": [
    "from wordcloud import WordCloud\n",
    "\n",
    "# create stop words\n",
    "stop_words = stopwords.words('english')\n",
    "\n",
    "# create a word cloud\n",
    "wordcloud = WordCloud(stopwords=stop_words).generate(harry_potter[0]) # input should string\n",
    "\n",
    "# plot the word cloud for book 1\n",
    "plt.figure(figsize=(15, 10))\n",
    "plt.axis('off')\n",
    "plt.grid(False)\n",
    "plt.imshow(wordcloud);"
   ]
  },
  {
   "cell_type": "markdown",
   "metadata": {},
   "source": [
    "### Add More Stop Words"
   ]
  },
  {
   "cell_type": "code",
   "execution_count": 41,
   "metadata": {},
   "outputs": [
    {
     "data": {
      "image/png": "[encoded data removed]",
      "text/plain": [
       "<matplotlib.figure.Figure at 0x10d073a20>"
      ]
     },
     "metadata": {},
     "output_type": "display_data"
    }
   ],
   "source": [
    "# add more stop words\n",
    "stop_words.extend(['said', 'one', 'could', 'would', 'got', 'get'])\n",
    "\n",
    "# create a word cloud\n",
    "wordcloud = WordCloud(stopwords=stop_words).generate(harry_potter[0]) # input should string\n",
    "\n",
    "# plot the word cloud for book 1\n",
    "plt.figure(figsize=(15, 10))\n",
    "plt.axis('off')\n",
    "plt.grid(False)\n",
    "plt.imshow(wordcloud);"
   ]
  },
  {
   "cell_type": "code",
   "execution_count": 42,
   "metadata": {},
   "outputs": [],
   "source": [
    "# The End!"
   ]
  }
 ],
 "metadata": {
  "kernelspec": {
   "display_name": "Python 3",
   "language": "python",
   "name": "python3"
  },
  "language_info": {
   "codemirror_mode": {
    "name": "ipython",
    "version": 3
   },
   "file_extension": ".py",
   "mimetype": "text/x-python",
   "name": "python",
   "nbconvert_exporter": "python",
   "pygments_lexer": "ipython3",
   "version": "3.6.2"
  }
 },
 "nbformat": 4,
 "nbformat_minor": 2
}
