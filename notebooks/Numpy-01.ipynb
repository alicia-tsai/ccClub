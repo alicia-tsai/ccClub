{
 "cells": [
  {
   "cell_type": "markdown",
   "metadata": {},
   "source": [
    "# ccClub: Python for Data Analysis\n",
    "---\n",
    "## Introduction to NumPy Class 01"
   ]
  },
  {
   "cell_type": "markdown",
   "metadata": {},
   "source": [
    "## Overview\n",
    "\n",
    "- What is NumPy and Why Using It?\n",
    "- Vectorized Operation vs For-Loop\n",
    "- Basics of NumPy Array\n",
    "- Aggregation & Common Summary Statistics\n",
    "- Brodcasting\n",
    "- Comparison, Boolean and Masking\n",
    "- Putting Everything Together"
   ]
  },
  {
   "cell_type": "markdown",
   "metadata": {},
   "source": [
    "### Before we start\n",
    "\n",
    "- Python version: python3\n",
    "- Install NumPy for Python3\n",
    "```bash\n",
    "pip3 install numpy\n",
    "```\n",
    "- We will use these packages:\n",
    "    1. numpy\n",
    "    2. sklearn\n",
    "    3. scipy\n",
    "    4. matplotlib"
   ]
  },
  {
   "cell_type": "code",
   "execution_count": 1,
   "metadata": {},
   "outputs": [
    {
     "data": {
      "text/plain": [
       "'1.13.2'"
      ]
     },
     "execution_count": 1,
     "metadata": {},
     "output_type": "execute_result"
    }
   ],
   "source": [
    "import numpy\n",
    "numpy.__version__\n",
    "\n",
    "# a more convenient way\n",
    "import numpy as np "
   ]
  },
  {
   "cell_type": "markdown",
   "metadata": {
    "collapsed": true
   },
   "source": [
    "## Part 1: What is NumPy and Why Using it?\n",
    "\n",
    "- Numpy (_Numerical Python_) is a Python library that supports large, multi-dimensional arrays and matrices.\n",
    "- It also supports a wealth collection of high-level mathmatical functions.\n",
    "- NumPy is designed to deal with **numerical** data in a very efficient way.\n",
    "- Many data manipulation packages are built upon NumPy array, including Pandas."
   ]
  },
  {
   "cell_type": "markdown",
   "metadata": {},
   "source": [
    "### 1-1: The core of NumPy: **_ndarray_**\n",
    "\n",
    "- NumPy array encapsulates $n$-dimensional arrays of homogeneous data type. \n",
    "- Don't worry if you don't know what does this mean. We'll talk more about it in the follwoing section."
   ]
  },
  {
   "cell_type": "markdown",
   "metadata": {},
   "source": [
    "### What is a NumPy array?\n",
    "\n",
    "- NumPy array looks similar to Python's `list` type but NumPy array provides more efficient storage and operations than Python's built-in `list`.\n",
    "- NumPy array is a fixed-type array, meaning that we can only store the **same type** of data in this array.\n",
    "- You may think that a Numpy array looks exactly the same as a `list`.\n",
    "- Let's see the differences between a NumPy array and a Python `list`."
   ]
  },
  {
   "cell_type": "code",
   "execution_count": 2,
   "metadata": {},
   "outputs": [
    {
     "data": {
      "text/plain": [
       "array([1, 2, 3, 4, 5])"
      ]
     },
     "execution_count": 2,
     "metadata": {},
     "output_type": "execute_result"
    }
   ],
   "source": [
    "import numpy as np\n",
    "np.array([1, 2, 3, 4, 5])"
   ]
  },
  {
   "cell_type": "markdown",
   "metadata": {},
   "source": [
    "### 1-2: NumPy array and list\n",
    "\n",
    "- NumPy array and Python list are both used to store data in Python and they both can be indexed and iterated."
   ]
  },
  {
   "cell_type": "code",
   "execution_count": 3,
   "metadata": {},
   "outputs": [
    {
     "name": "stdout",
     "output_type": "stream",
     "text": [
      "[ 2  4  6  8 10]\n"
     ]
    }
   ],
   "source": [
    "myArray = np.array([2, 4, 6, 8, 10])\n",
    "myList = [1, 3, 5, 7, 9]\n",
    "\n",
    "print(myArray)"
   ]
  },
  {
   "cell_type": "code",
   "execution_count": 4,
   "metadata": {},
   "outputs": [
    {
     "name": "stdout",
     "output_type": "stream",
     "text": [
      "[1, 3, 5, 7, 9]\n"
     ]
    }
   ],
   "source": [
    "print(myList)"
   ]
  },
  {
   "cell_type": "code",
   "execution_count": 5,
   "metadata": {},
   "outputs": [
    {
     "name": "stdout",
     "output_type": "stream",
     "text": [
      "2 10\n"
     ]
    }
   ],
   "source": [
    "print(myArray[0], myArray[-1])"
   ]
  },
  {
   "cell_type": "code",
   "execution_count": 6,
   "metadata": {},
   "outputs": [
    {
     "name": "stdout",
     "output_type": "stream",
     "text": [
      "2\n",
      "4\n",
      "6\n",
      "8\n",
      "10\n"
     ]
    }
   ],
   "source": [
    "for a in myArray:\n",
    "    print(a)"
   ]
  },
  {
   "cell_type": "markdown",
   "metadata": {},
   "source": [
    "**Difference between NumPy array and list**\n",
    "\n",
    "- The main difference between NumPy array and `list` is the functions that you can use.\n",
    "- For example if you try to divide the `list` by 2, an error will occur."
   ]
  },
  {
   "cell_type": "code",
   "execution_count": 7,
   "metadata": {},
   "outputs": [
    {
     "ename": "TypeError",
     "evalue": "unsupported operand type(s) for /: 'list' and 'int'",
     "output_type": "error",
     "traceback": [
      "\u001b[0;31m---------------------------------------------------------------------------\u001b[0m",
      "\u001b[0;31mTypeError\u001b[0m                                 Traceback (most recent call last)",
      "\u001b[0;32m<ipython-input-7-3ebcf8df9e6f>\u001b[0m in \u001b[0;36m<module>\u001b[0;34m()\u001b[0m\n\u001b[0;32m----> 1\u001b[0;31m \u001b[0mmyList\u001b[0m \u001b[0;34m/\u001b[0m \u001b[0;36m2\u001b[0m\u001b[0;34m\u001b[0m\u001b[0m\n\u001b[0m",
      "\u001b[0;31mTypeError\u001b[0m: unsupported operand type(s) for /: 'list' and 'int'"
     ]
    }
   ],
   "source": [
    "myList / 2"
   ]
  },
  {
   "cell_type": "markdown",
   "metadata": {},
   "source": [
    "- However, you can divide NumPy array by 2.\n",
    "- Observe that each element in the array is divided by 2.\n",
    "- If we want to do the same operation in `list`, we will need to use a **`for-loop`** to loop over all elements in the `list`.\n",
    "- This difference will become clearer later in the next section. Stay tuned!"
   ]
  },
  {
   "cell_type": "code",
   "execution_count": 8,
   "metadata": {},
   "outputs": [
    {
     "data": {
      "text/plain": [
       "array([ 1.,  2.,  3.,  4.,  5.])"
      ]
     },
     "execution_count": 8,
     "metadata": {},
     "output_type": "execute_result"
    }
   ],
   "source": [
    "myArray / 2"
   ]
  },
  {
   "cell_type": "code",
   "execution_count": 9,
   "metadata": {},
   "outputs": [
    {
     "data": {
      "text/plain": [
       "[0.5, 1.5, 2.5, 3.5, 4.5]"
      ]
     },
     "execution_count": 9,
     "metadata": {},
     "output_type": "execute_result"
    }
   ],
   "source": [
    "newList = []\n",
    "\n",
    "for i in myList:\n",
    "    newList.append(i / 2)\n",
    "\n",
    "newList"
   ]
  },
  {
   "cell_type": "markdown",
   "metadata": {},
   "source": [
    "### 1-3: Let's create some arrays\n",
    "\n",
    "- You can create arrays from Python lists.\n",
    "- Remember that NumPy array can only contain data of the **same type**.\n",
    "- If different types are presented, NumPy will change the type for you if possible, so be careful!\n",
    "- Or you can specify the type for the array using **`dtype`**."
   ]
  },
  {
   "cell_type": "code",
   "execution_count": 10,
   "metadata": {},
   "outputs": [
    {
     "data": {
      "text/plain": [
       "array([1, 2, 3])"
      ]
     },
     "metadata": {},
     "output_type": "display_data"
    }
   ],
   "source": [
    "display(np.array([1, 2, 3]))"
   ]
  },
  {
   "cell_type": "code",
   "execution_count": 11,
   "metadata": {},
   "outputs": [
    {
     "data": {
      "text/plain": [
       "array([ 1.,  2.,  3.])"
      ]
     },
     "execution_count": 11,
     "metadata": {},
     "output_type": "execute_result"
    }
   ],
   "source": [
    "np.array([1, 2.0, 3.0])"
   ]
  },
  {
   "cell_type": "code",
   "execution_count": 12,
   "metadata": {},
   "outputs": [
    {
     "data": {
      "text/plain": [
       "array(['1', '2', '3'],\n",
       "      dtype='<U21')"
      ]
     },
     "metadata": {},
     "output_type": "display_data"
    }
   ],
   "source": [
    "display(np.array([1, 2, '3']))"
   ]
  },
  {
   "cell_type": "code",
   "execution_count": 13,
   "metadata": {},
   "outputs": [
    {
     "data": {
      "text/plain": [
       "array(['0.5', '1', 'abc'],\n",
       "      dtype='<U32')"
      ]
     },
     "execution_count": 13,
     "metadata": {},
     "output_type": "execute_result"
    }
   ],
   "source": [
    "np.array([0.5, 1, 'abc'])"
   ]
  },
  {
   "cell_type": "code",
   "execution_count": 14,
   "metadata": {},
   "outputs": [
    {
     "data": {
      "text/plain": [
       "array([ 1.,  2.,  3.], dtype=float32)"
      ]
     },
     "execution_count": 14,
     "metadata": {},
     "output_type": "execute_result"
    }
   ],
   "source": [
    "np.array([1, 2, 3], dtype='float32')"
   ]
  },
  {
   "cell_type": "markdown",
   "metadata": {},
   "source": [
    "**You can also create arrays directly from NumPy.**"
   ]
  },
  {
   "cell_type": "code",
   "execution_count": 15,
   "metadata": {},
   "outputs": [
    {
     "data": {
      "text/plain": [
       "array([ 0.,  0.,  0.,  0.,  0.,  0.,  0.,  0.,  0.,  0.])"
      ]
     },
     "execution_count": 15,
     "metadata": {},
     "output_type": "execute_result"
    }
   ],
   "source": [
    "# create 10 zero in a length-10 array\n",
    "np.zeros(10)"
   ]
  },
  {
   "cell_type": "code",
   "execution_count": 16,
   "metadata": {},
   "outputs": [
    {
     "data": {
      "text/plain": [
       "array([ 1.,  1.,  1.,  1.,  1.,  1.,  1.,  1.,  1.,  1.])"
      ]
     },
     "execution_count": 16,
     "metadata": {},
     "output_type": "execute_result"
    }
   ],
   "source": [
    "# create 10 one in a length-10 array\n",
    "np.ones(10)"
   ]
  },
  {
   "cell_type": "code",
   "execution_count": 17,
   "metadata": {},
   "outputs": [
    {
     "data": {
      "text/plain": [
       "array([0, 1, 2, 3, 4, 5, 6, 7, 8, 9])"
      ]
     },
     "execution_count": 17,
     "metadata": {},
     "output_type": "execute_result"
    }
   ],
   "source": [
    "# create an array from 0 to 9\n",
    "np.arange(10)"
   ]
  },
  {
   "cell_type": "code",
   "execution_count": 18,
   "metadata": {},
   "outputs": [
    {
     "data": {
      "text/plain": [
       "array([ 0,  2,  4,  6,  8, 10, 12, 14, 16, 18])"
      ]
     },
     "execution_count": 18,
     "metadata": {},
     "output_type": "execute_result"
    }
   ],
   "source": [
    "# create an array from 0 to 19, stepping by 2\n",
    "np.arange(0, 20, 2)"
   ]
  },
  {
   "cell_type": "markdown",
   "metadata": {},
   "source": [
    "## Part 2: Vectorized Operation VS For-Loop"
   ]
  },
  {
   "cell_type": "markdown",
   "metadata": {},
   "source": [
    "- Remember previously we have shown that you can not divide a list by 2 directly. \n",
    "- But you can do it with a NumPy array. WHY?"
   ]
  },
  {
   "cell_type": "markdown",
   "metadata": {},
   "source": [
    "### 2-1: What is vectorization?\n",
    "\n",
    "- When working with Python `list`, we need to use a `for-loop` to perform an operation on each single element.\n",
    "- Instead of processing a single element one by one, vectorized operation allows you to process all the elements simultaneously from a single step.\n",
    "- Recall from your linear algebra class, you can easily do vector operations with NumPy array.\n",
    "- Vecotrization is one of the core of NumPy!"
   ]
  },
  {
   "cell_type": "code",
   "execution_count": 19,
   "metadata": {},
   "outputs": [
    {
     "name": "stdout",
     "output_type": "stream",
     "text": [
      "x     = [ 2  4  6  8 10]\n",
      "x + 1 = [ 3  5  7  9 11]\n",
      "x / 2 = [ 1.  2.  3.  4.  5.]\n"
     ]
    }
   ],
   "source": [
    "# vector operations\n",
    "x = np.array([2, 4, 6, 8, 10])\n",
    "print('x     =', x)\n",
    "print('x + 1 =', x + 1)\n",
    "print('x / 2 =', x / 2)"
   ]
  },
  {
   "cell_type": "code",
   "execution_count": 20,
   "metadata": {},
   "outputs": [
    {
     "name": "stdout",
     "output_type": "stream",
     "text": [
      "y     = [2, 4, 6, 8, 10]\n",
      "y + 1 = [3, 5, 7, 9, 11]\n",
      "y / 2 = [1.0, 2.0, 3.0, 4.0, 5.0]\n"
     ]
    }
   ],
   "source": [
    "# for loop version of vector operations\n",
    "y = [2, 4, 6, 8, 10]\n",
    "print('y     =', y)\n",
    "print('y + 1 =', [y[i] + 1 for i in range(len(y))])\n",
    "print('y / 2 =', [y[i] / 2 for i in range(len(y))])"
   ]
  },
  {
   "cell_type": "markdown",
   "metadata": {},
   "source": [
    "### 2-2: The benefit of vectorization\n",
    "\n",
    "** Efficiency & Readability**\n",
    "- Let's see an example of the inner product (dot product).\n",
    "- You can implement a dot product using two lists (represent two vectors); however, **_it is slow_**.\n",
    "- You can simply use `np.dot()` method to perform a dot product instead of writing a not so easy to read `'for-loop'`.\n",
    "\n",
    "> The dot product of two vectors $a = [a_1, a_2, ..., a_n]$ and $b = [b_1, b_2, ..., b_n]$ is defined as: \n",
    "$$\n",
    "a \\cdot b = \\sum^n_{i = 1} a_i b_i = a_1 b_1 + a_2 b_2 + ... + a_n b_n\n",
    "$$"
   ]
  },
  {
   "cell_type": "code",
   "execution_count": 21,
   "metadata": {},
   "outputs": [],
   "source": [
    "a = np.arange(1000000)\n",
    "b = np.arange(1000000)"
   ]
  },
  {
   "cell_type": "markdown",
   "metadata": {},
   "source": [
    "**Using for loop**"
   ]
  },
  {
   "cell_type": "code",
   "execution_count": 22,
   "metadata": {},
   "outputs": [
    {
     "name": "stdout",
     "output_type": "stream",
     "text": [
      "CPU times: user 620 ms, sys: 3.48 ms, total: 623 ms\n",
      "Wall time: 623 ms\n"
     ]
    }
   ],
   "source": [
    "%%time\n",
    "dot1 = 0\n",
    "for i in range(len(a)):\n",
    "    dot1 += a[i] * b[i]"
   ]
  },
  {
   "cell_type": "markdown",
   "metadata": {},
   "source": [
    "**Using vectorized operation**"
   ]
  },
  {
   "cell_type": "code",
   "execution_count": 23,
   "metadata": {},
   "outputs": [
    {
     "name": "stdout",
     "output_type": "stream",
     "text": [
      "CPU times: user 3.56 ms, sys: 1.46 ms, total: 5.02 ms\n",
      "Wall time: 2.79 ms\n"
     ]
    }
   ],
   "source": [
    "%%time\n",
    "dot2 = np.dot(a, b)"
   ]
  },
  {
   "cell_type": "code",
   "execution_count": 24,
   "metadata": {},
   "outputs": [
    {
     "data": {
      "text/plain": [
       "True"
      ]
     },
     "execution_count": 24,
     "metadata": {},
     "output_type": "execute_result"
    }
   ],
   "source": [
    "dot1 == dot2"
   ]
  },
  {
   "cell_type": "markdown",
   "metadata": {},
   "source": [
    "## Part 3: Basics of NumPy Array\n",
    "\n",
    "- We'll introduce some of the most important NumPy basics including attritubes and how to index and slice."
   ]
  },
  {
   "cell_type": "markdown",
   "metadata": {
    "collapsed": true
   },
   "source": [
    "### 3-1: NumPy Array Attributes\n",
    "\n",
    "- NumPy array can be multi-dimensional.\n",
    "- **ndim**: the number of dimensions\n",
    "- **shape**: the size of each dimension\n",
    "- **size**: the total size of the array"
   ]
  },
  {
   "cell_type": "code",
   "execution_count": 25,
   "metadata": {},
   "outputs": [
    {
     "name": "stdout",
     "output_type": "stream",
     "text": [
      "dimensional:  1\n",
      "shape: (10,)\n",
      "size: 10\n"
     ]
    },
    {
     "data": {
      "text/plain": [
       "array([0, 1, 2, 3, 4, 5, 6, 7, 8, 9])"
      ]
     },
     "execution_count": 25,
     "metadata": {},
     "output_type": "execute_result"
    }
   ],
   "source": [
    "# one-dimensional array (vector)\n",
    "\n",
    "x1 = np.arange(10)\n",
    "print('dimensional: ', x1.ndim)\n",
    "print('shape:', x1.shape)\n",
    "print('size:', x1.size)\n",
    "x1"
   ]
  },
  {
   "cell_type": "code",
   "execution_count": 26,
   "metadata": {},
   "outputs": [
    {
     "name": "stdout",
     "output_type": "stream",
     "text": [
      "dimensional:  2\n",
      "shape: (2, 5)\n",
      "size: 10\n"
     ]
    },
    {
     "data": {
      "text/plain": [
       "array([[0, 1, 2, 3, 4],\n",
       "       [5, 6, 7, 8, 9]])"
      ]
     },
     "execution_count": 26,
     "metadata": {},
     "output_type": "execute_result"
    }
   ],
   "source": [
    "# two-dimensional array (2 by 5 matrix)\n",
    "\n",
    "x2 = np.arange(10).reshape((2, 5))\n",
    "print('dimensional: ', x2.ndim)\n",
    "print('shape:', x2.shape)\n",
    "print('size:', x2.size)\n",
    "x2"
   ]
  },
  {
   "cell_type": "code",
   "execution_count": 27,
   "metadata": {},
   "outputs": [
    {
     "name": "stdout",
     "output_type": "stream",
     "text": [
      "dimensional:  3\n",
      "shape: (3, 4, 5)\n",
      "size: 60\n"
     ]
    },
    {
     "data": {
      "text/plain": [
       "array([[[ 0,  1,  2,  3,  4],\n",
       "        [ 5,  6,  7,  8,  9],\n",
       "        [10, 11, 12, 13, 14],\n",
       "        [15, 16, 17, 18, 19]],\n",
       "\n",
       "       [[20, 21, 22, 23, 24],\n",
       "        [25, 26, 27, 28, 29],\n",
       "        [30, 31, 32, 33, 34],\n",
       "        [35, 36, 37, 38, 39]],\n",
       "\n",
       "       [[40, 41, 42, 43, 44],\n",
       "        [45, 46, 47, 48, 49],\n",
       "        [50, 51, 52, 53, 54],\n",
       "        [55, 56, 57, 58, 59]]])"
      ]
     },
     "execution_count": 27,
     "metadata": {},
     "output_type": "execute_result"
    }
   ],
   "source": [
    "# three-dimensional array (three 4 by 5 matrices)\n",
    "\n",
    "x3 = np.arange(60).reshape((3, 4, 5))\n",
    "print('dimensional: ', x3.ndim)\n",
    "print('shape:', x3.shape)\n",
    "print('size:', x3.size)\n",
    "x3"
   ]
  },
  {
   "cell_type": "markdown",
   "metadata": {},
   "source": [
    "### 3-2: Array Indexing\n",
    "\n",
    "- Indexing array is very similar to indexing list.\n",
    "- Indexing one-dimensional array is the same as indexing a list."
   ]
  },
  {
   "cell_type": "code",
   "execution_count": 28,
   "metadata": {},
   "outputs": [
    {
     "name": "stdout",
     "output_type": "stream",
     "text": [
      "[0 1 2 3 4 5 6 7 8 9]\n",
      "0\n",
      "9\n"
     ]
    }
   ],
   "source": [
    "# one-dimension\n",
    "print(x1)\n",
    "print(x1[0])\n",
    "print(x1[-1])"
   ]
  },
  {
   "cell_type": "markdown",
   "metadata": {},
   "source": [
    "- In two dimensional, index is row-wise.\n",
    "- You can apply multiple index as well."
   ]
  },
  {
   "cell_type": "code",
   "execution_count": 29,
   "metadata": {},
   "outputs": [
    {
     "name": "stdout",
     "output_type": "stream",
     "text": [
      "[[0 1 2 3 4]\n",
      " [5 6 7 8 9]]\n",
      "[0 1 2 3 4]\n",
      "4\n",
      "1\n"
     ]
    }
   ],
   "source": [
    "# two-dimension\n",
    "print(x2)\n",
    "print(x2[0])      # first row\n",
    "print(x2[0][-1])  # last item of first row\n",
    "print(x2[0, 1])    # [row, column] second row, first column"
   ]
  },
  {
   "cell_type": "code",
   "execution_count": 30,
   "metadata": {},
   "outputs": [
    {
     "data": {
      "text/plain": [
       "array([[[ 0,  1,  2,  3,  4],\n",
       "        [ 5,  6,  7,  8,  9],\n",
       "        [10, 11, 12, 13, 14],\n",
       "        [15, 16, 17, 18, 19]],\n",
       "\n",
       "       [[20, 21, 22, 23, 24],\n",
       "        [25, 26, 27, 28, 29],\n",
       "        [30, 31, 32, 33, 34],\n",
       "        [35, 36, 37, 38, 39]],\n",
       "\n",
       "       [[40, 41, 42, 43, 44],\n",
       "        [45, 46, 47, 48, 49],\n",
       "        [50, 51, 52, 53, 54],\n",
       "        [55, 56, 57, 58, 59]]])"
      ]
     },
     "execution_count": 30,
     "metadata": {},
     "output_type": "execute_result"
    }
   ],
   "source": [
    "# three-dimension\n",
    "x3"
   ]
  },
  {
   "cell_type": "code",
   "execution_count": 31,
   "metadata": {},
   "outputs": [
    {
     "name": "stdout",
     "output_type": "stream",
     "text": [
      "[[ 0  1  2  3  4]\n",
      " [ 5  6  7  8  9]\n",
      " [10 11 12 13 14]\n",
      " [15 16 17 18 19]]\n",
      "\n",
      "\n",
      "[0 1 2 3 4]\n",
      "\n",
      "\n",
      "0\n"
     ]
    }
   ],
   "source": [
    "# three-dimension\n",
    "print(x3[0])        # first matrix\n",
    "print('\\n')\n",
    "print(x3[0][0])     # first row of the first matrix\n",
    "print('\\n')\n",
    "print(x3[0, 0, 0])  # [dimension, row, column]"
   ]
  },
  {
   "cell_type": "markdown",
   "metadata": {},
   "source": [
    "### 3-3: Array Slicing\n",
    "\n",
    "- Slicing an array is also very similar to slicing a list.\n",
    "- `array[start : stop : step]`"
   ]
  },
  {
   "cell_type": "code",
   "execution_count": 32,
   "metadata": {},
   "outputs": [
    {
     "name": "stdout",
     "output_type": "stream",
     "text": [
      "[0 1 2 3 4 5 6 7 8 9]\n",
      "[0 1 2 3 4]\n",
      "[9 8 7 6 5 4 3 2 1 0]\n"
     ]
    }
   ],
   "source": [
    "# one-dimension\n",
    "print(x1)\n",
    "print(x1[:5])\n",
    "print(x1[::-1])    # reverse"
   ]
  },
  {
   "cell_type": "code",
   "execution_count": 33,
   "metadata": {},
   "outputs": [
    {
     "data": {
      "text/plain": [
       "array([[0, 1, 2, 3, 4],\n",
       "       [5, 6, 7, 8, 9]])"
      ]
     },
     "execution_count": 33,
     "metadata": {},
     "output_type": "execute_result"
    }
   ],
   "source": [
    "# two-dimension\n",
    "x2"
   ]
  },
  {
   "cell_type": "code",
   "execution_count": 34,
   "metadata": {},
   "outputs": [
    {
     "data": {
      "text/plain": [
       "array([[0, 1, 2],\n",
       "       [5, 6, 7]])"
      ]
     },
     "execution_count": 34,
     "metadata": {},
     "output_type": "execute_result"
    }
   ],
   "source": [
    "x2[:, :3]    # all rows, three columns"
   ]
  },
  {
   "cell_type": "code",
   "execution_count": 35,
   "metadata": {},
   "outputs": [
    {
     "data": {
      "text/plain": [
       "array([[0, 2, 4],\n",
       "       [5, 7, 9]])"
      ]
     },
     "execution_count": 35,
     "metadata": {},
     "output_type": "execute_result"
    }
   ],
   "source": [
    "x2[:, ::2]   # all rows, every other column"
   ]
  },
  {
   "cell_type": "markdown",
   "metadata": {},
   "source": [
    "**Combining indexing and slicing to access single column or row.**"
   ]
  },
  {
   "cell_type": "code",
   "execution_count": 36,
   "metadata": {},
   "outputs": [
    {
     "name": "stdout",
     "output_type": "stream",
     "text": [
      "[0 5]\n",
      "[0 1 2 3 4]\n"
     ]
    }
   ],
   "source": [
    "print(x2[:, 0])   # first column\n",
    "print(x2[0, :])   # first row"
   ]
  },
  {
   "cell_type": "markdown",
   "metadata": {},
   "source": [
    "### 3-4: Reshaping & Modify Values\n",
    "\n",
    "- We can use `.reshape()` method to change the shape of the array.\n",
    "- Also like Python list, you can modify the values of the array."
   ]
  },
  {
   "cell_type": "code",
   "execution_count": 37,
   "metadata": {},
   "outputs": [
    {
     "name": "stdout",
     "output_type": "stream",
     "text": [
      "[[1]\n",
      " [2]\n",
      " [3]\n",
      " [4]\n",
      " [5]]\n"
     ]
    }
   ],
   "source": [
    "x = np.array([1, 2, 3, 4, 5])\n",
    "print(x.reshape((5, 1)))"
   ]
  },
  {
   "cell_type": "code",
   "execution_count": 38,
   "metadata": {},
   "outputs": [
    {
     "data": {
      "text/plain": [
       "array([-100,    2,    3,    4,    5])"
      ]
     },
     "execution_count": 38,
     "metadata": {},
     "output_type": "execute_result"
    }
   ],
   "source": [
    "x[0] = -100\n",
    "x"
   ]
  },
  {
   "cell_type": "markdown",
   "metadata": {},
   "source": [
    "## Part 4: Aggregation & Common Summary Statistics\n",
    "\n",
    "### 4-1: Simple Aggregation\n",
    "- NumPy provides a convenient way to aggreate the data.\n",
    "- We can use these tools to do common summary statistics."
   ]
  },
  {
   "cell_type": "code",
   "execution_count": 39,
   "metadata": {},
   "outputs": [
    {
     "name": "stdout",
     "output_type": "stream",
     "text": [
      "[ 0  1  2  3  4  5  6  7  8  9 10 11 12 13 14 15 16 17 18 19]\n",
      "Sum: 190\n",
      "Min: 0\n",
      "Max: 19\n",
      "Min position: 0\n",
      "Max position: 19\n",
      "Product: 0\n",
      "Mean: 9.5\n",
      "Standard deviation: 5.76628129734\n",
      "Median 9.5\n"
     ]
    }
   ],
   "source": [
    "x = np.arange(20)\n",
    "print(x)\n",
    "print('Sum:', np.sum(x))\n",
    "print('Min:', np.min(x))\n",
    "print('Max:', np.max(x))\n",
    "print('Min position:', np.argmin(x))\n",
    "print('Max position:', np.argmax(x))\n",
    "print('Product:', np.prod(x))\n",
    "print('Mean:', np.mean(x))\n",
    "print('Standard deviation:', np.std(x))\n",
    "print('Median', np.median(x))"
   ]
  },
  {
   "cell_type": "markdown",
   "metadata": {},
   "source": [
    "### 4-2: Multi-dimensional Aggregation\n",
    "\n",
    "- We can also aggregate multi-dimensional data using NumPy.\n",
    "- By default, it will aggregatin the whole matrix.\n",
    "- Use **`axis`** to aggregate over column or row.\n",
    "- We can start doing simple data analysis already!"
   ]
  },
  {
   "cell_type": "code",
   "execution_count": 40,
   "metadata": {},
   "outputs": [
    {
     "name": "stdout",
     "output_type": "stream",
     "text": [
      "[[ 0  1  2  3  4]\n",
      " [ 5  6  7  8  9]\n",
      " [10 11 12 13 14]\n",
      " [15 16 17 18 19]]\n"
     ]
    }
   ],
   "source": [
    "Matrix = x.reshape(4, 5)\n",
    "print(Matrix)"
   ]
  },
  {
   "cell_type": "code",
   "execution_count": 41,
   "metadata": {},
   "outputs": [
    {
     "name": "stdout",
     "output_type": "stream",
     "text": [
      "190\n",
      "190\n"
     ]
    }
   ],
   "source": [
    "print(np.sum(Matrix))\n",
    "print(Matrix.sum())"
   ]
  },
  {
   "cell_type": "code",
   "execution_count": 42,
   "metadata": {},
   "outputs": [
    {
     "name": "stdout",
     "output_type": "stream",
     "text": [
      "[30 34 38 42 46]\n",
      "[10 35 60 85]\n"
     ]
    }
   ],
   "source": [
    "print(Matrix.sum(axis=0))  # sum over column\n",
    "print(Matrix.sum(axis=1))  # sum over row"
   ]
  },
  {
   "cell_type": "markdown",
   "metadata": {},
   "source": [
    "## Part 5: Broadcasting\n",
    "\n",
    "- Recall that we can do vector operations with NumPy.\n",
    "- Operations performed element wise on arrays of the same size."
   ]
  },
  {
   "cell_type": "code",
   "execution_count": 43,
   "metadata": {},
   "outputs": [
    {
     "name": "stdout",
     "output_type": "stream",
     "text": [
      "x1 + x2 = [2 4 6]\n"
     ]
    }
   ],
   "source": [
    "x1 = np.array([1, 2, 3])\n",
    "x2 = np.array([1, 2, 3])\n",
    "print('x1 + x2 =', x1 + x2)"
   ]
  },
  {
   "cell_type": "markdown",
   "metadata": {},
   "source": [
    "### 5-1: Broadcasting Rules\n",
    "\n",
    "- But why can you add a scalar to an array? Aren't they different dimension?\n",
    "- **Broadcasting** allows operations to be performed on arrays of different sizes. (dimensions)\n",
    "- Imagine that NumPy automatically streaches or duplicates the value for you to match the shape of the array.\n",
    "\n",
    "```python\n",
    "array([1, 2, 3]) + 1 = array([1, 2, 3]) + array([1, 1, 1])\n",
    "```"
   ]
  },
  {
   "cell_type": "code",
   "execution_count": 44,
   "metadata": {},
   "outputs": [
    {
     "name": "stdout",
     "output_type": "stream",
     "text": [
      "x     = [ 2  4  6  8 10]\n",
      "x + 1 = [ 3  5  7  9 11]\n",
      "x / 2 = [ 1.  2.  3.  4.  5.]\n"
     ]
    }
   ],
   "source": [
    "x = np.array([2, 4, 6, 8, 10])\n",
    "print('x     =', x)\n",
    "print('x + 1 =', x + 1)\n",
    "print('x / 2 =', x / 2)"
   ]
  },
  {
   "cell_type": "markdown",
   "metadata": {
    "collapsed": true
   },
   "source": [
    "#### Extend to higher dimension.\n",
    "\n",
    "```python\n",
    "[[ 0  1  2  3  4]        [[ 0  1  2  3  4]   [[ 50 50 50 50 50]\n",
    " [ 5  6  7  8  9] + 50 =  [ 5  6  7  8  9] +  [ 50 50 50 50 50]\n",
    " [10 11 12 13 14]         [10 11 12 13 14]    [ 50 50 50 50 50]\n",
    " [15 16 17 18 19]]        [15 16 17 18 19]]   [ 50 50 50 50 50]]\n",
    "```\n",
    "\n",
    "```python\n",
    "[[ 0  1  2  3  4]\n",
    " [ 5  6  7  8  9] + [ 2  4  6  8 10]\n",
    " [10 11 12 13 14]\n",
    " [15 16 17 18 19]]\n",
    "```\n",
    "\n",
    "```python\n",
    "[[ 0  1  2  3  4]   [[ 2  4  6  8 10]\n",
    " [ 5  6  7  8  9] +  [ 2  4  6  8 10]\n",
    " [10 11 12 13 14]    [ 2  4  6  8 10]\n",
    " [15 16 17 18 19]]   [ 2  4  6  8 10]]\n",
    "```"
   ]
  },
  {
   "cell_type": "code",
   "execution_count": 45,
   "metadata": {},
   "outputs": [
    {
     "name": "stdout",
     "output_type": "stream",
     "text": [
      "[[ 0  1  2  3  4]\n",
      " [ 5  6  7  8  9]\n",
      " [10 11 12 13 14]\n",
      " [15 16 17 18 19]]\n",
      "\n",
      "\n",
      "[[50 51 52 53 54]\n",
      " [55 56 57 58 59]\n",
      " [60 61 62 63 64]\n",
      " [65 66 67 68 69]]\n",
      "\n",
      "\n",
      "[[ 2  5  8 11 14]\n",
      " [ 7 10 13 16 19]\n",
      " [12 15 18 21 24]\n",
      " [17 20 23 26 29]]\n"
     ]
    }
   ],
   "source": [
    "Matrix = np.arange(20).reshape(4,5)\n",
    "print(Matrix)\n",
    "print('\\n')\n",
    "print(Matrix + 50)    # broadcast scalar\n",
    "print('\\n')\n",
    "print(Matrix + x)     # broadcast one-dimensional array"
   ]
  },
  {
   "cell_type": "markdown",
   "metadata": {},
   "source": [
    "#### More complex example: streching both array.\n",
    "```python\n",
    "x1 = [0 1 2]\n",
    "\n",
    "x2 = [[0]\n",
    "      [1]\n",
    "      [2]]\n",
    "\n",
    "           [[0 1 2]      [[0 0 0]\n",
    "x1 + x2 =   [0 1 2]   +   [1 1 1]\n",
    "            [0 1 2]]      [2 2 2]]\n",
    "```"
   ]
  },
  {
   "cell_type": "code",
   "execution_count": 46,
   "metadata": {},
   "outputs": [
    {
     "name": "stdout",
     "output_type": "stream",
     "text": [
      "[[0 1 2]\n",
      " [1 2 3]\n",
      " [2 3 4]]\n"
     ]
    }
   ],
   "source": [
    "x1 = np.arange(3)\n",
    "x2 = np.arange(3).reshape(3, 1)\n",
    "print(x1 + x2)"
   ]
  },
  {
   "cell_type": "markdown",
   "metadata": {},
   "source": [
    "### 5-2: Example: Percentage"
   ]
  },
  {
   "cell_type": "code",
   "execution_count": 47,
   "metadata": {},
   "outputs": [
    {
     "name": "stdout",
     "output_type": "stream",
     "text": [
      "[0 1 2 3 4 5 6 7 8 9]\n",
      "[  0.           2.22222222   4.44444444   6.66666667   8.88888889\n",
      "  11.11111111  13.33333333  15.55555556  17.77777778  20.        ]\n"
     ]
    }
   ],
   "source": [
    "x = np.arange(10)\n",
    "total = np.sum(x)\n",
    "percentage = x / total * 100  # broadcasting!\n",
    "print(x)\n",
    "print(percentage)"
   ]
  },
  {
   "cell_type": "markdown",
   "metadata": {},
   "source": [
    "## Part 6: Comparison, Boolean and Masking\n",
    "\n",
    "### 6-1: Comparison\n",
    "\n",
    "- Just like vector operations, we can also do comparison with NumPy very easily.\n",
    "- We have seen that using `+`, `-`, `*`, `/` on arrays perform elment-wise operations. \n",
    "- Comparison operators such as `==`, `!=`, `<`, `>`, `>=`, `<=` also perform element-wise comparison.\n",
    "- You will get another array with a Boolean type data when performing comparison."
   ]
  },
  {
   "cell_type": "code",
   "execution_count": 48,
   "metadata": {},
   "outputs": [
    {
     "name": "stdout",
     "output_type": "stream",
     "text": [
      "[0 1 2 3 4 5 6 7 8 9]\n",
      "[False False False False False False False False False False]\n",
      "[False False False False False False  True  True  True  True]\n"
     ]
    }
   ],
   "source": [
    "x = np.arange(10)\n",
    "print(x)\n",
    "print(x == -1)\n",
    "print(x > 5)"
   ]
  },
  {
   "cell_type": "markdown",
   "metadata": {},
   "source": [
    "#### Combining broadcasting and comparison"
   ]
  },
  {
   "cell_type": "code",
   "execution_count": 49,
   "metadata": {},
   "outputs": [
    {
     "name": "stdout",
     "output_type": "stream",
     "text": [
      "[ True  True  True  True  True]\n"
     ]
    }
   ],
   "source": [
    "x1 = np.array([2, 4, 6, 8, 10])\n",
    "x2 = np.array([0, 1, 2, 3, 4])\n",
    "print(x1 / 2 == x2 + 1)"
   ]
  },
  {
   "cell_type": "markdown",
   "metadata": {},
   "source": [
    "### 6-2: Boolean\n",
    "\n",
    "- After getting the boolean array, we can make use of the boolean array.\n",
    "- Use `np.any()` or `np.all()` to check the array."
   ]
  },
  {
   "cell_type": "code",
   "execution_count": 50,
   "metadata": {},
   "outputs": [
    {
     "name": "stdout",
     "output_type": "stream",
     "text": [
      "[0 1 2 3 4 5 6 7 8 9]\n",
      "Any entry > 10: False\n",
      "All entry < 10: True\n"
     ]
    }
   ],
   "source": [
    "print(x)\n",
    "print('Any entry > 10:', np.any(x > 10))\n",
    "print('All entry < 10:', np.all(x < 10))"
   ]
  },
  {
   "cell_type": "markdown",
   "metadata": {},
   "source": [
    "#### Counting\n",
    "\n",
    "- In the boolean array, `False` is 0 and `True` is 1.\n",
    "- We can now count the number of `True` entries in the boolean array."
   ]
  },
  {
   "cell_type": "code",
   "execution_count": 51,
   "metadata": {},
   "outputs": [
    {
     "name": "stdout",
     "output_type": "stream",
     "text": [
      "[0 1 2 3 4 5 6 7 8 9]\n",
      "Number of entires > 5: 4\n"
     ]
    }
   ],
   "source": [
    "print(x)\n",
    "print('Number of entires > 5:', np.sum(x > 5))"
   ]
  },
  {
   "cell_type": "markdown",
   "metadata": {},
   "source": [
    "#### Boolean operators\n",
    "\n",
    "- We can also use **_logic operators_** such as `&(and)`, `|(or)`, `^(xor)`, `~(not)` in NumPy. \n",
    "- And as expected, they also work element-wise on arrays.\n",
    "- **Parentheses** matters!"
   ]
  },
  {
   "cell_type": "code",
   "execution_count": 52,
   "metadata": {},
   "outputs": [
    {
     "data": {
      "text/plain": [
       "array([False, False, False, False, False, False, False, False, False,\n",
       "       False, False,  True,  True,  True,  True,  True,  True,  True,\n",
       "        True,  True,  True,  True,  True,  True,  True,  True,  True,\n",
       "        True,  True,  True, False, False, False, False, False, False,\n",
       "       False, False, False, False, False, False, False, False, False,\n",
       "       False, False, False, False, False], dtype=bool)"
      ]
     },
     "execution_count": 52,
     "metadata": {},
     "output_type": "execute_result"
    }
   ],
   "source": [
    "x = np.arange(50)\n",
    "(x > 10) & (x < 30)"
   ]
  },
  {
   "cell_type": "code",
   "execution_count": 53,
   "metadata": {},
   "outputs": [
    {
     "data": {
      "text/plain": [
       "array([ True,  True,  True,  True,  True,  True,  True,  True,  True,\n",
       "        True,  True,  True,  True,  True,  True,  True,  True,  True,\n",
       "        True,  True,  True,  True,  True,  True,  True,  True,  True,\n",
       "        True,  True,  True,  True,  True,  True,  True,  True,  True,\n",
       "        True,  True,  True,  True,  True,  True,  True,  True,  True,\n",
       "        True,  True,  True,  True,  True], dtype=bool)"
      ]
     },
     "execution_count": 53,
     "metadata": {},
     "output_type": "execute_result"
    }
   ],
   "source": [
    "(x > 10 & x ) < 30   # booleans are 0 and 1, they are all smaller than 30!"
   ]
  }
 ],
 "metadata": {
  "kernelspec": {
   "display_name": "Python 3",
   "language": "python",
   "name": "python3"
  },
  "language_info": {
   "codemirror_mode": {
    "name": "ipython",
    "version": 3
   },
   "file_extension": ".py",
   "mimetype": "text/x-python",
   "name": "python",
   "nbconvert_exporter": "python",
   "pygments_lexer": "ipython3",
   "version": "3.6.2"
  }
 },
 "nbformat": 4,
 "nbformat_minor": 2
}
