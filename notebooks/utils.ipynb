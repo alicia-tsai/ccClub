{
 "cells": [
  {
   "cell_type": "code",
   "execution_count": 2,
   "metadata": {},
   "outputs": [],
   "source": [
    "from matplotlib import pyplot as plt\n",
    "%matplotlib inline"
   ]
  },
  {
   "cell_type": "markdown",
   "metadata": {},
   "source": [
    "### Illustration of features matrix and target array"
   ]
  },
  {
   "cell_type": "code",
   "execution_count": 47,
   "metadata": {},
   "outputs": [
    {
     "data": {
      "image/png": "[encoded data removed]",
      "text/plain": [
       "<matplotlib.figure.Figure at 0x106bb86a0>"
      ]
     },
     "metadata": {},
     "output_type": "display_data"
    }
   ],
   "source": [
    "fig = plt.figure()\n",
    "ax = fig.add_axes([0, 0, 1, 1])\n",
    "ax.axis('off')    # remove boarder\n",
    "ax.axis('equal')  # equal grid\n",
    "\n",
    "# Draw features matrix\n",
    "ax.vlines(range(6), ymin=0, ymax=8, lw=1)\n",
    "ax.hlines(range(9), xmin=0, xmax=5, lw=1)\n",
    "font_prop = dict(size=12, family='monospace')\n",
    "ax.text(0.3, 9, \"Feature Matrix (X)\", size=14)\n",
    "ax.text(0.5, 8.3, 'n_features $\\longrightarrow$', **font_prop)\n",
    "ax.text(-0.1, 5, '$\\longleftarrow$ n_samples', rotation=90,\n",
    "        va='top', ha='right', **font_prop)\n",
    "\n",
    "# Draw labels vector\n",
    "ax.vlines(range(8, 10), ymin=0, ymax=8, lw=1)\n",
    "ax.hlines(range(9), xmin=8, xmax=9, lw=1)\n",
    "ax.text(7, 9, \"Target Array (y)\", size=14)\n",
    "ax.text(8, 5, r'$\\longleftarrow$ n_samples', rotation=90,\n",
    "        va='top', ha='right', **font_prop);\n",
    "\n",
    "fig.savefig('img/features_target.png', bbox_inches=\"tight\")"
   ]
  },
  {
   "cell_type": "code",
   "execution_count": null,
   "metadata": {},
   "outputs": [],
   "source": []
  }
 ],
 "metadata": {
  "kernelspec": {
   "display_name": "Python 3",
   "language": "python",
   "name": "python3"
  },
  "language_info": {
   "codemirror_mode": {
    "name": "ipython",
    "version": 3
   },
   "file_extension": ".py",
   "mimetype": "text/x-python",
   "name": "python",
   "nbconvert_exporter": "python",
   "pygments_lexer": "ipython3",
   "version": "3.6.2"
  }
 },
 "nbformat": 4,
 "nbformat_minor": 2
}
