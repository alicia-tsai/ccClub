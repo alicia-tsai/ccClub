{
 "cells": [
  {
   "cell_type": "markdown",
   "metadata": {},
   "source": [
    "# ccClub Class 10: Classifcation with K-Nearest Neighbor\n",
    "---\n",
    "**_Author : Alicia Y. Tsai_**"
   ]
  },
  {
   "cell_type": "code",
   "execution_count": 1,
   "metadata": {},
   "outputs": [],
   "source": [
    "# First thing first. Import packages.\n",
    "\n",
    "import numpy as np\n",
    "import pandas as pd\n",
    "import matplotlib.pyplot as plt\n",
    "%matplotlib inline\n",
    "import seaborn as sns"
   ]
  },
  {
   "cell_type": "markdown",
   "metadata": {},
   "source": [
    "# Part 1: Introduction to k-Nearest Neighbor Algorithm\n",
    "\n",
    "**[From Wikipedia](https://en.wikipedia.org/wiki/K-nearest_neighbors_algorithm)**\n",
    "\n",
    "In pattern recognition, the k-nearest neighbors algorithm (k-NN) is a non-parametric method used for classification and regression. In both cases, the input consists of the $k$ closest training examples in the feature space. The output depends on whether k-NN is used for classification or regression:\n",
    "\n",
    ">- In _k-NN classification_, the output is a class membership. An object is classified by a **majority vote** of its neighbors, with the object being assigned to the class most common among its $k$ nearest neighbors ($k$ is a positive integer, typically small). If $k = 1$, then the object is simply assigned to the class of that single nearest neighbor.\n",
    "\n",
    "\n",
    ">- In _k-NN regression_, the output is the property value for the object. This value is the **average of the values** of its $k$ nearest neighbors.\n",
    "\n",
    "k-NN is a type of instance-based learning, or lazy learning, where the function is only approximated locally and all computation is deferred until classification. The k-NN algorithm is among the simplest of all machine learning algorithms."
   ]
  },
  {
   "cell_type": "markdown",
   "metadata": {},
   "source": [
    "![](https://upload.wikimedia.org/wikipedia/commons/e/e7/KnnClassification.svg)\n",
    "\n",
    "[image source](https://upload.wikimedia.org/wikipedia/commons/e/e7/KnnClassification.svg)"
   ]
  },
  {
   "cell_type": "markdown",
   "metadata": {},
   "source": [
    "<img src=\"http://atm.amegroups.com/article/viewFile/10170/html/63653\" alt=\"Drawing\" style=\"width: 500px;\"/>\n",
    "\n",
    "[image source](http://atm.amegroups.com/article/viewFile/10170/html/63653)"
   ]
  },
  {
   "cell_type": "markdown",
   "metadata": {},
   "source": [
    "# k-NN classification\n",
    "\n",
    "## How to compute majority vote?\n",
    "\n",
    "To compute the majority vote, we need to come up with a measurement that can tell us how similar two data points are. Therefore, we use **_distance_** between two points to measure their similarity. We can simply use eculidean distance as our measurement. \n",
    "\n",
    "So for a unseen observation $x'$ (a new data point), we can compute the distance bewteen one training data point $x$ and the unseen data point $x'$ as followed:\n",
    "\n",
    "$$\n",
    "d(x, x') = \\sqrt{\\sum^n_{i=1} (x_i - x'_i)^2} = \\sqrt{(x_1 - x'_1)^2 + (x_2 - x'_2)^2 + ... + (x_n - x'_n)^2}\n",
    "$$\n",
    "\n",
    "Then we compute the distances $d$ for all the training data. Once we have the distance, we choose the top $k$ points that have are closet to our unseen $x'$. Next, we calculate the number of each class and that is the **_votes_** for that class. Finally, we then classify our unseen $x'$ to the class with the highest votes."
   ]
  },
  {
   "cell_type": "markdown",
   "metadata": {},
   "source": [
    "<img src=\"https://i.pinimg.com/originals/65/36/b9/6536b9a63fc427e0fc3e1a9687b49aff.png\" alt=\"Drawing\" style=\"width: 500px;\"/>\n",
    "\n",
    "[image source](https://i.pinimg.com/originals/65/36/b9/6536b9a63fc427e0fc3e1a9687b49aff.png)"
   ]
  },
  {
   "cell_type": "markdown",
   "metadata": {},
   "source": [
    "![](http://en.proft.me/media/science/r_knn_classify.png)\n",
    "\n",
    "[image source](http://en.proft.me/media/science/r_knn_classify.png)"
   ]
  },
  {
   "cell_type": "markdown",
   "metadata": {},
   "source": [
    "# Part 2: Build Your k-NN Model on Iris Data\n",
    "\n",
    "<img src=\"https://image.slidesharecdn.com/irisdataanalysiswithr-140801203600-phpapp02/95/iris-data-analysis-example-in-r-3-638.jpg?cb=1406925587\" alt=\"Drawing\" style=\"width: 500px;\"/>\n",
    "\n",
    "[image source](https://image.slidesharecdn.com/irisdataanalysiswithr-140801203600-phpapp02/95/iris-data-analysis-example-in-r-3-638.jpg?cb=1406925587)\n",
    "\n",
    "We will be using the [Iris Dataset](https://archive.ics.uci.edu/ml/datasets/Iris), which was introduced in 1936 by the famous statistician Ronald Fisher. The data set contains 3 classes of 50 instances each, where each class refers to a type of iris plant (Iris setosa, Iris virginica and Iris versicolor). 4 features were used in this data set and fifth feature is the response (target). Our task is to train a k-NN model to classify the species given their 4 features.\n",
    "\n",
    ">```text\n",
    "1. sepal length in cm \n",
    "2. sepal width in cm \n",
    "3. petal length in cm \n",
    "4. petal width in cm \n",
    "5. class: \n",
    "    - Iris Setosa \n",
    "    - Iris Versicolour \n",
    "    - Iris Virginica\n",
    "```"
   ]
  },
  {
   "cell_type": "markdown",
   "metadata": {},
   "source": [
    "<img src=\"https://raw.githubusercontent.com/ritchieng/machine-learning-dataschool/master/images/03_iris.png\" alt=\"Drawing\" style=\"width: 200px;\"/>\n",
    "\n",
    "[image source](https://raw.githubusercontent.com/ritchieng/machine-learning-dataschool/master/images/03_iris.png)"
   ]
  },
  {
   "cell_type": "markdown",
   "metadata": {},
   "source": [
    "## 2-1: Read Iris data with Pandas"
   ]
  },
  {
   "cell_type": "code",
   "execution_count": 2,
   "metadata": {},
   "outputs": [],
   "source": [
    "# define column names\n",
    "names = ['sepal_length', 'sepal_width', 'petal_length', 'petal_width', 'class']\n",
    "\n",
    "# read in data and assign column names\n",
    "\n",
    "### YOUR CODE HERE ###\n",
    "data = pd.read_csv('iris.csv', header=None)\n",
    "data = data.iloc[:, 1:]\n",
    "data.columns = names\n",
    "######################"
   ]
  },
  {
   "cell_type": "markdown",
   "metadata": {},
   "source": [
    "## Inspect data"
   ]
  },
  {
   "cell_type": "code",
   "execution_count": 3,
   "metadata": {},
   "outputs": [
    {
     "name": "stdout",
     "output_type": "stream",
     "text": [
      "150 rows (instances) X 5 columns (features)\n"
     ]
    },
    {
     "data": {
      "text/html": [
       "<div>\n",
       "<table border=\"1\" class=\"dataframe\">\n",
       "  <thead>\n",
       "    <tr style=\"text-align: right;\">\n",
       "      <th></th>\n",
       "      <th>sepal_length</th>\n",
       "      <th>sepal_width</th>\n",
       "      <th>petal_length</th>\n",
       "      <th>petal_width</th>\n",
       "      <th>class</th>\n",
       "    </tr>\n",
       "  </thead>\n",
       "  <tbody>\n",
       "    <tr>\n",
       "      <th>0</th>\n",
       "      <td>5.1</td>\n",
       "      <td>3.5</td>\n",
       "      <td>1.4</td>\n",
       "      <td>0.2</td>\n",
       "      <td>Iris-setosa</td>\n",
       "    </tr>\n",
       "    <tr>\n",
       "      <th>1</th>\n",
       "      <td>4.9</td>\n",
       "      <td>3.0</td>\n",
       "      <td>1.4</td>\n",
       "      <td>0.2</td>\n",
       "      <td>Iris-setosa</td>\n",
       "    </tr>\n",
       "    <tr>\n",
       "      <th>2</th>\n",
       "      <td>4.7</td>\n",
       "      <td>3.2</td>\n",
       "      <td>1.3</td>\n",
       "      <td>0.2</td>\n",
       "      <td>Iris-setosa</td>\n",
       "    </tr>\n",
       "    <tr>\n",
       "      <th>3</th>\n",
       "      <td>4.6</td>\n",
       "      <td>3.1</td>\n",
       "      <td>1.5</td>\n",
       "      <td>0.2</td>\n",
       "      <td>Iris-setosa</td>\n",
       "    </tr>\n",
       "    <tr>\n",
       "      <th>4</th>\n",
       "      <td>5.0</td>\n",
       "      <td>3.6</td>\n",
       "      <td>1.4</td>\n",
       "      <td>0.2</td>\n",
       "      <td>Iris-setosa</td>\n",
       "    </tr>\n",
       "  </tbody>\n",
       "</table>\n",
       "</div>"
      ],
      "text/plain": [
       "   sepal_length  sepal_width  petal_length  petal_width        class\n",
       "0           5.1          3.5           1.4          0.2  Iris-setosa\n",
       "1           4.9          3.0           1.4          0.2  Iris-setosa\n",
       "2           4.7          3.2           1.3          0.2  Iris-setosa\n",
       "3           4.6          3.1           1.5          0.2  Iris-setosa\n",
       "4           5.0          3.6           1.4          0.2  Iris-setosa"
      ]
     },
     "metadata": {},
     "output_type": "display_data"
    }
   ],
   "source": [
    "print(data.shape[0], 'rows (instances) X', data.shape[1], 'columns (features)')\n",
    "\n",
    "display(data.head())"
   ]
  },
  {
   "cell_type": "markdown",
   "metadata": {},
   "source": [
    "## Inspect targets (how many species)"
   ]
  },
  {
   "cell_type": "code",
   "execution_count": 4,
   "metadata": {},
   "outputs": [
    {
     "name": "stdout",
     "output_type": "stream",
     "text": [
      "There are 3 classes in the dataset: Iris-setosa, Iris-versicolor, Iris-virginica\n"
     ]
    }
   ],
   "source": [
    "# get unique classes in the dataset\n",
    "\n",
    "### YOUR CODE HERE ###\n",
    "classes = data['class'].unique()\n",
    "######################\n",
    "\n",
    "print('There are', len(classes), 'classes in the dataset:', ', '.join(list(classes)))"
   ]
  },
  {
   "cell_type": "markdown",
   "metadata": {},
   "source": [
    "## 2-2: Plot the data"
   ]
  },
  {
   "cell_type": "markdown",
   "metadata": {},
   "source": [
    "### `sepal_length`  VS  `sepal_width`"
   ]
  },
  {
   "cell_type": "code",
   "execution_count": 5,
   "metadata": {},
   "outputs": [
    {
     "data": {
      "text/plain": [
       "<seaborn.axisgrid.PairGrid at 0x10987ae48>"
      ]
     },
     "execution_count": 5,
     "metadata": {},
     "output_type": "execute_result"
    },
    {
     "data": {
      "image/png": "[encoded data removed]",
      "text/plain": [
       "<matplotlib.figure.Figure at 0x10987ada0>"
      ]
     },
     "metadata": {},
     "output_type": "display_data"
    }
   ],
   "source": [
    "sns.pairplot(x_vars=[\"sepal_length\"], y_vars=[\"sepal_width\"], data=data, hue=\"class\", size=8)"
   ]
  },
  {
   "cell_type": "markdown",
   "metadata": {},
   "source": [
    "### `petal_length`  VS  `petal_width`"
   ]
  },
  {
   "cell_type": "code",
   "execution_count": 7,
   "metadata": {},
   "outputs": [
    {
     "ename": "SyntaxError",
     "evalue": "invalid syntax (<ipython-input-7-2a642ab11450>, line 1)",
     "output_type": "error",
     "traceback": [
      "\u001b[0;36m  File \u001b[0;32m\"<ipython-input-7-2a642ab11450>\"\u001b[0;36m, line \u001b[0;32m1\u001b[0m\n\u001b[0;31m    sns.pairplot(x_va rs=[\"petal_length\"], y_vars=[\"petal_width\"], data=data, hue=\"class\", size=8)\u001b[0m\n\u001b[0m                       ^\u001b[0m\n\u001b[0;31mSyntaxError\u001b[0m\u001b[0;31m:\u001b[0m invalid syntax\n"
     ]
    }
   ],
   "source": [
    "sns.pairplot(x_va rs=[\"petal_length\"], y_vars=[\"petal_width\"], data=data, hue=\"class\", size=8)"
   ]
  },
  {
   "cell_type": "markdown",
   "metadata": {},
   "source": [
    "## 2-3: Split data into training & testing set\n",
    "\n",
    "- To test the performance of the model, we will need to get testing set.\n",
    "- One convention is to split the data into 3 sets: training, development and testing.\n",
    "    - In this convention, we use development set to test the accuracy of the model.\n",
    "    - And use real-world data as the testing set to measure the final performance.\n",
    "- Another convention is to split the data into 2 sets: training and testing.\n",
    "    - In this convention, the testing set here is equivalent to the development set."
   ]
  },
  {
   "cell_type": "markdown",
   "metadata": {},
   "source": [
    "### Here we will use the second convention. To split the data into train and test set, we do the 3 following steps.\n",
    "\n",
    "- STEP 1: Create a boolean mask to selects our training set.\n",
    "    - `HINT: use np.random.rand()` to get a probability.\n",
    "    - This probability is the fraction of data that we want for our training set.\n",
    "\n",
    "\n",
    "- STEP 2: Use the mask as your filter to select your training set.\n",
    "\n",
    "\n",
    "- STEP 3: Last, deselect the indexes to get the testing set. \n",
    "    - `HINT: use DataFrame[~boolean]`"
   ]
  },
  {
   "cell_type": "code",
   "execution_count": 8,
   "metadata": {},
   "outputs": [
    {
     "name": "stdout",
     "output_type": "stream",
     "text": [
      "There are 107 data in your training set.\n",
      "There are 43 data in your testing set.\n"
     ]
    }
   ],
   "source": [
    "# to make sure that the random number is always the same (only for checking purpose)\n",
    "np.random.seed(1)\n",
    "\n",
    "### YOUR CODE HERE ###\n",
    "# create a mask to filter training data\n",
    "mask = np.random.rand(len(data)) < 0.7\n",
    "\n",
    "# select training data\n",
    "data_train = data[mask]\n",
    "\n",
    "# select testing data\n",
    "data_test = data[~mask]\n",
    "#######################\n",
    "\n",
    "\n",
    "print('There are', len(data_train), 'data in your training set.')\n",
    "print('There are', len(data_test), 'data in your testing set.')"
   ]
  },
  {
   "cell_type": "markdown",
   "metadata": {},
   "source": [
    "## Select Input data and output target\n",
    "\n",
    "- The input data should be the first 4 columns of the data.\n",
    "    - The shape of your input data should be `(number of data, 4)`.\n",
    "\n",
    "\n",
    "- The output target should be the last column.\n",
    "    - Here, we store our output target in a 1D array (ranked 1).\n",
    "    - The shape of your output target should be `(number of data, )`.\n",
    "\n",
    "\n",
    "- Convert your DataFrame into a numpy array (matrix)."
   ]
  },
  {
   "cell_type": "code",
   "execution_count": 9,
   "metadata": {},
   "outputs": [
    {
     "name": "stdout",
     "output_type": "stream",
     "text": [
      "Input data for training: (107, 4)\n",
      "Output target for training: (107,)\n",
      "Input data for testing: (43, 4)\n",
      "Output target for testing: (43,)\n"
     ]
    }
   ],
   "source": [
    "### YOUR CODE HERE ###\n",
    "X_train = np.array(data_train.iloc[:, :4])\n",
    "y_train = np.array(data_train.iloc[:, 4])\n",
    "\n",
    "X_test = np.array(data_test.iloc[:, :4])\n",
    "y_test = np.array(data_test.iloc[:, 4])\n",
    "#######################\n",
    "\n",
    "print('Input data for training:', X_train.shape)\n",
    "print('Output target for training:', y_train.shape)\n",
    "\n",
    "print('Input data for testing:', X_test.shape)\n",
    "print('Output target for testing:', y_test.shape)"
   ]
  },
  {
   "cell_type": "code",
   "execution_count": 10,
   "metadata": {},
   "outputs": [],
   "source": [
    "# Test cell: to make sure the shape of your data is correct\n",
    "\n",
    "assert X_train.shape == (len(data_train), 4)\n",
    "assert y_train.shape == (len(data_train), )\n",
    "assert X_test.shape == (len(data_test), 4)\n",
    "assert y_test.shape == (len(data_test), )"
   ]
  },
  {
   "cell_type": "markdown",
   "metadata": {},
   "source": [
    "## 2-4: Build your k-nearest neighbor model from scratch\n",
    "\n",
    "**_Let the fun part begin!_**\n",
    "\n",
    "There are 2 main parts for the k nearest neighbor algorithm. The first part is to compute all the distances between the testing data point and the training data points. The second part is to get the prediction based on its $k$ nearest neighbors.\n",
    "\n",
    "**PART A: COMPUTE DISTANCE**\n",
    "    - STEP 1: loop over all the points in training data\n",
    "    - STEP 2: select one data point in the training set, which will be our current `x_train`\n",
    "    - STEP 3: compute the distance between the testing point `x_test` and `x_train`\n",
    "              - Hint: use the eculidean distance, see the equation above\n",
    "    - STEP 4: store the computed distance  \n",
    "\n",
    "**PART B: GET PREDICTION**\n",
    "    - STEP 1: get the original indexes of the sorted distances.\n",
    "              - Hint: we use numpy's `argsort` funtion to implement this\n",
    "              - https://docs.scipy.org/doc/numpy-1.13.0/reference/generated/numpy.argsort.html\n",
    "              \n",
    "    - STEP 2: get targets based on the sorted distances (increasing order)\n",
    "    - STEP 3: get top k's targets\n",
    "    - STEP 4: compute votes for each species and find the majority vote\n",
    "    - STEP 5: output prediction\n",
    "              - Hint: we use numpy's `argmax` function to get the index of the maximum vlaue\n",
    "              - https://docs.scipy.org/doc/numpy-1.13.0/reference/generated/numpy.argmax.html"
   ]
  },
  {
   "cell_type": "code",
   "execution_count": 13,
   "metadata": {},
   "outputs": [],
   "source": [
    "def KNN(X_train, y_train, x_test, k):\n",
    "    \n",
    "    # lists to store distance and target\n",
    "    distances = []\n",
    "    targets = []\n",
    "\n",
    "    # ===== COMPUTE DISTANCE ===== #\n",
    "    ### YOUR CODE HERE ###  \n",
    "    # STEP 1: loop over all points in training data\n",
    "    for i in range(len(X_train)):\n",
    "        \n",
    "        # --- compute distance between testing data 'x_test' and each data point 'x_train' in training data\n",
    "        # STEP 2: select current data point 'x_train'\n",
    "        x_train = X_train[i, :]\n",
    "        # STEP 3: compute euclidean distance (see Hints you are stuck!)\n",
    "        diff = x_train - x_test \n",
    "        square = diff**2\n",
    "        total_sum = np.sum(square)\n",
    "        dist = np.sqrt(total_sum)\n",
    "        \n",
    "        #dist = np.sqrt(np.sum((x_train - x_test)**2))\n",
    "        # STEP 4: store distance in the 'distances' list\n",
    "        distances.append(dist)  \n",
    "    #######################\n",
    " \n",
    "\n",
    "    # ===== GET PREDICTION ===== #   \n",
    "    # STEP 1: get the indexes of the sorted distances (in increasing order)\n",
    "    # convert list to numpy array to use 'argsort' function    \n",
    "    indexes = np.array(distances).argsort()\n",
    "    \n",
    "    ### YOUR CODE HERE ###\n",
    "    # STEP 2: get targets based on sorted distances' indexes    \n",
    "    targets = y_train[indexes]\n",
    "    \n",
    "    # STEP 3: get the first k's targets (k-neareast neighbor)\n",
    "    k_targets = targets[:k]\n",
    "    \n",
    "    # STEP 4: compute votes \n",
    "    # for each species in the classes, compute its votes and store the value in the 'votes' list\n",
    "    classes = ['Iris-setosa', 'Iris-versicolor', 'Iris-virginica']\n",
    "    votes = []\n",
    "    for c in classes:\n",
    "        votes.append(np.sum(k_targets == c)) \n",
    "    ########################\n",
    "    \n",
    "    # STEP 5: get prediction\n",
    "    # get the index of the majority vote, convert list to numpy array to use 'argmax' function\n",
    "    max_index = np.array(votes).argmax()\n",
    "    \n",
    "    # get the final prediction that has the most votes\n",
    "    predict = classes[max_index]\n",
    "    \n",
    "    return predict"
   ]
  },
  {
   "cell_type": "markdown",
   "metadata": {},
   "source": [
    "## 2-5: Let's test our model\n",
    "\n",
    "**_Woo-hoo! You've made it. Now let's run your model on the testing data._**"
   ]
  },
  {
   "cell_type": "markdown",
   "metadata": {},
   "source": [
    "### Test on one testing data point"
   ]
  },
  {
   "cell_type": "code",
   "execution_count": 15,
   "metadata": {},
   "outputs": [
    {
     "name": "stdout",
     "output_type": "stream",
     "text": [
      "The prediced class for x_test: Iris-setosa\n"
     ]
    }
   ],
   "source": [
    "# change the setting to play around with your model\n",
    "k = 5\n",
    "x_test = X_test[5,:]\n",
    "\n",
    "# get prediction using your KNN model\n",
    "predict = KNN(X_train, y_train, x_test, k)\n",
    "print('The prediced class for x_test:', predict)"
   ]
  },
  {
   "cell_type": "markdown",
   "metadata": {},
   "source": [
    "### Test on all testing data points\n",
    "\n",
    "To test on all the testing data, we need to **loop through** all the testing data point and make prediction for each of them.\n",
    "\n",
    "> Write a function `model` that takes in `X_train`, `y_train`, `X_test`, `y_test` and `k` and calculates the accuracy for the testing data.\n",
    "\n",
    ">```text \n",
    "- STEP 1: loop over all the data points\n",
    "- STEP 2: select on testing data point, which will be our current `x_test`\n",
    "- STEP 3: get prediction for that data point using your KNN function \n",
    "          - Hint: see the above code cell if you don't know how to use your function\n",
    "- STEP 4: store the prediction\n",
    "- STEP 5: compute accuracy\n",
    "```"
   ]
  },
  {
   "cell_type": "code",
   "execution_count": 16,
   "metadata": {},
   "outputs": [],
   "source": [
    "def model(X_train, y_train, X_test, y_test, k):\n",
    "    \n",
    "    # a list to store all the prediction results\n",
    "    predictions = []\n",
    "    \n",
    "    ### YOUR CODE HERE ###\n",
    "    # STEP 1: loop through all the data point in your testing data 'X_test'\n",
    "    for i in range(len(X_test)):\n",
    "        # STEP 2: get current data point `x_test`\n",
    "        x_test = X_test[i, :]\n",
    "        # STEP 3: make prediction for x_test\n",
    "        predict = KNN(X_train, y_train, x_test, k)\n",
    "        # STEP 4: store the prediction result in the 'predictions' list\n",
    "        predictions.append(predict)\n",
    "    #######################\n",
    "    \n",
    "    # STEP 5: compute accuracy (number of matches divided by total number of data)\n",
    "    accuracy = np.sum(predictions == y_test) / len(y_test)\n",
    "    \n",
    "    return accuracy"
   ]
  },
  {
   "cell_type": "code",
   "execution_count": 19,
   "metadata": {},
   "outputs": [
    {
     "name": "stdout",
     "output_type": "stream",
     "text": [
      "Your KNN model has 95.35 accuracy!\n"
     ]
    }
   ],
   "source": [
    "# change the setting to play around with your model\n",
    "k = 5\n",
    "\n",
    "# get prediction using your `model` function\n",
    "accuracy = model(X_train, y_train, X_test, y_test, k)\n",
    "print('Your KNN model has', str(round(accuracy*100,2)), 'accuracy!')"
   ]
  },
  {
   "cell_type": "markdown",
   "metadata": {},
   "source": [
    "### Test on various value of K\n",
    "\n",
    "Now that you've built the `KNN` and the `model` function, you can change the value of $k$ to see how different number of $k$ influence the prediction and accuracy. Observe that our model seems to do a pretty good job using only a small number of $k$. As $k$ gets large the accuracy also gets worse."
   ]
  },
  {
   "cell_type": "code",
   "execution_count": 20,
   "metadata": {},
   "outputs": [],
   "source": [
    "ks = []\n",
    "for i in range(1, 100):\n",
    "    ks.append(i)\n",
    "\n",
    "Ks = [i for i in range(1, 100)]   # be careful that k should not exceed the number of training data\n",
    "\n",
    "test_accuracy = []\n",
    "\n",
    "for k in Ks:\n",
    "    accuracy = model(X_train, y_train, X_test, y_test, k)\n",
    "    test_accuracy.append(accuracy)"
   ]
  },
  {
   "cell_type": "markdown",
   "metadata": {},
   "source": [
    "### Visualize the results"
   ]
  },
  {
   "cell_type": "code",
   "execution_count": 21,
   "metadata": {},
   "outputs": [
    {
     "data": {
      "text/plain": [
       "<matplotlib.text.Text at 0x109d42c18>"
      ]
     },
     "execution_count": 21,
     "metadata": {},
     "output_type": "execute_result"
    },
    {
     "data": {
      "image/png": "[encoded data removed]",
      "text/plain": [
       "<matplotlib.figure.Figure at 0x109b97128>"
      ]
     },
     "metadata": {},
     "output_type": "display_data"
    }
   ],
   "source": [
    "# plot the testing accuracy with respect to different k\n",
    "\n",
    "plt.plot(test_accuracy)\n",
    "plt.title('Accuracy of Various k')\n",
    "plt.ylabel('Accuracy')\n",
    "plt.xlabel('Number of neighbors (k)')"
   ]
  },
  {
   "cell_type": "code",
   "execution_count": null,
   "metadata": {},
   "outputs": [],
   "source": []
  }
 ],
 "metadata": {
  "kernelspec": {
   "display_name": "Python 3",
   "language": "python",
   "name": "python3"
  },
  "language_info": {
   "codemirror_mode": {
    "name": "ipython",
    "version": 3
   },
   "file_extension": ".py",
   "mimetype": "text/x-python",
   "name": "python",
   "nbconvert_exporter": "python",
   "pygments_lexer": "ipython3",
   "version": "3.6.2"
  }
 },
 "nbformat": 4,
 "nbformat_minor": 2
}
