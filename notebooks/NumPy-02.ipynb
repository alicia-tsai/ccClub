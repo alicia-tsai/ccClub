{
 "cells": [
  {
   "cell_type": "markdown",
   "metadata": {},
   "source": [
    "# ccClub: Python for Data Analysis\n",
    "---\n",
    "## Introduction to NumPy Class 02"
   ]
  },
  {
   "cell_type": "markdown",
   "metadata": {},
   "source": [
    "## Overview\n",
    "\n",
    "- Class01 Review\n",
    "- Boolean and Masking\n",
    "- Case Study: Markov Chain\n",
    "- Case Study: Boston Housing Data"
   ]
  },
  {
   "cell_type": "markdown",
   "metadata": {},
   "source": [
    "# Part 1: 上週 NumPy 複習"
   ]
  },
  {
   "cell_type": "code",
   "execution_count": 1,
   "metadata": {},
   "outputs": [],
   "source": [
    "import numpy as np"
   ]
  },
  {
   "cell_type": "markdown",
   "metadata": {},
   "source": [
    "### Exercise 1: 1-D Array\n",
    "\n",
    "#### 請實作一個函數 `vector_factory`，給定長度 $n$ 及一個數字 $k$，這個函數會回傳給我們一個長度為 $n$ 且數值都為 $k$ 的 array (vector)\n",
    "\n",
    ">```python\n",
    "> input: n = 3, k = 10\n",
    ">        \n",
    "> ===> vector_factory(3, 10)\n",
    ">\n",
    "> output: [ 10.  10.  10.]\n",
    "```"
   ]
  },
  {
   "cell_type": "code",
   "execution_count": null,
   "metadata": {},
   "outputs": [],
   "source": [
    "# Exercise 1\n",
    "\n",
    "def vector_factory(n, k):\n",
    "    \n",
    "    ### your code here ###\n",
    "    \n",
    "    ##################### \n",
    "    \n",
    "    return vector"
   ]
  },
  {
   "cell_type": "code",
   "execution_count": null,
   "metadata": {},
   "outputs": [],
   "source": [
    "# Test cell: Exercises 1\n",
    "\n",
    "n = 10; k = 5\n",
    "print('vector:\\n', vector_factory(n, k))\n",
    "assert(np.all(vector_factory(n, k) == k))\n",
    "print('\\nCorrect!')"
   ]
  },
  {
   "cell_type": "markdown",
   "metadata": {},
   "source": [
    "### Exercise 2: 2-D Array\n",
    "\n",
    "#### 請實作一個函數 `matrix_factory`，給定維度 $(n,m)$ 以及數字 $k$，這個函數會回傳給我們一個 $n \\times m$ 且數值為 $k$ 的矩陣\n",
    "\n",
    ">```python\n",
    "> input: n = 3, m = 2, k = 10\n",
    ">        \n",
    "> ===> matrix_factory(3, 2, 10)\n",
    ">\n",
    "> output:\n",
    ">        [[ 10.  10.]\n",
    ">         [ 10.  10.]\n",
    ">         [ 10.  10.]]\n",
    "```"
   ]
  },
  {
   "cell_type": "code",
   "execution_count": null,
   "metadata": {},
   "outputs": [],
   "source": [
    "# Exercise 2\n",
    "\n",
    "def matrix_factory(n, m, k):\n",
    "    \n",
    "    ### your code here ###\n",
    "    \n",
    "    #####################\n",
    "    \n",
    "    return matrix "
   ]
  },
  {
   "cell_type": "code",
   "execution_count": null,
   "metadata": {},
   "outputs": [],
   "source": [
    "# Test cell: Exercise 2\n",
    "\n",
    "n = 4; m = 4; k = 5\n",
    "print('matrix:\\n', matrix_factory(n, m, k) )\n",
    "assert(np.all(matrix_factory(n, m, k) == k))\n",
    "print('\\nCorrect')"
   ]
  },
  {
   "cell_type": "markdown",
   "metadata": {},
   "source": [
    "### Exercise 3: Dimension\n",
    "\n",
    "#### 請實作一個函數 `check_info`，給定一個 matrix，會回傳一個包含 dimension, shape, size 三個 `key` 以及對應的維度資訊的字典 `(dictionary)`\n",
    "\n",
    ">```python\n",
    "> input: \n",
    ">     X = [[1, 1, 1]\n",
    ">          [1, 1, 1]]\n",
    ">        \n",
    "> ===> check_info(X)\n",
    ">\n",
    "> output: {'dimension': 2, 'shape': (2, 3), 'size': 6}\n",
    "```"
   ]
  },
  {
   "cell_type": "code",
   "execution_count": null,
   "metadata": {},
   "outputs": [],
   "source": [
    "# Exercise 3\n",
    "\n",
    "def check_info(X):\n",
    "    \n",
    "    ### your code here ###\n",
    "    \n",
    "    ######################\n",
    "    \n",
    "    return matrix_info"
   ]
  },
  {
   "cell_type": "code",
   "execution_count": null,
   "metadata": {},
   "outputs": [],
   "source": [
    "# Test cell: Exercise 3\n",
    "size = 60; n = 4; m = 15\n",
    "X = np.arange(size).reshape((n, m))\n",
    "print('matrix information:', check_info(X))\n",
    "\n",
    "if 'dimension' not in check_info(X).keys(): raise Exception(\"'dimension' is not in the dictionary\")\n",
    "if 'shape' not in check_info(X).keys(): raise Exception(\"'shape' is not in the dictionary\")\n",
    "if 'size' not in check_info(X).keys(): raise Exception(\"'size' is not in the dictionary\")\n",
    "if check_info(X)['dimension'] != 2: raise Exception(\"'dimension' is wrong\")\n",
    "if check_info(X)['shape'] != (n, m, ): raise Exception(\"'shape' is wrong\")\n",
    "if check_info(X)['size'] != size: raise Excpetion(\"'size' is wrong\")\n",
    "print(\"Correct!\")"
   ]
  },
  {
   "cell_type": "markdown",
   "metadata": {},
   "source": [
    "### Exercise 4: Indexing & Slicing\n",
    "\n",
    "![](img/slicing-exercise.png)\n",
    "\n",
    "#### 請按照以上的顏色將數字取出來並存成 `Z_green`, `Z_red`, `Z_orange`, `Z_cyan` 四個矩陣\n",
    "\n",
    ">```python\n",
    ">   Orange slice: [3 4]\n",
    ">   Red slice: [ 2 12 22 32 42 52]\n",
    ">   Cyan slice: [[44 45]\n",
    ">                [54 55]]\n",
    ">   Green slice: [[20 22 24]\n",
    ">                 [40 42 44]]\n",
    ">```"
   ]
  },
  {
   "cell_type": "code",
   "execution_count": null,
   "metadata": {},
   "outputs": [],
   "source": [
    "# Exercise 4\n",
    "\n",
    "Z = np.array([[0,1,2,3,4,5],[10,11,12,13,14,15],[20,21,22,23,24,25],\n",
    "             [30,31,32,33,34,35],[40,41,42,43,44,45],[50,51,52,53,54,55]])\n",
    "\n",
    "### your code here ###\n",
    "\n",
    "######################"
   ]
  },
  {
   "cell_type": "code",
   "execution_count": null,
   "metadata": {},
   "outputs": [],
   "source": [
    "# Test cell: Exercise 4\n",
    "print(\"\\n==> Orange slice:\\n\", Z_orange)\n",
    "assert (Z_orange == np.array ([3, 4])).all()\n",
    "\n",
    "print(\"\\n==> Red slice:\\n\", Z_red)\n",
    "assert (Z_red == np.array ([2, 12, 22, 32, 42, 52])).all()\n",
    "\n",
    "print(\"\\n==> Cyan slice:\\n\", Z_cyan)\n",
    "assert (Z_cyan == np.array ([[44, 45], [54, 55]])).all()\n",
    "\n",
    "print(\"\\n==> Green slice:\\n\", Z_green)\n",
    "assert (Z_green == np.array ([[20, 22, 24], [40, 42, 44]])).all()\n",
    "\n",
    "print(\"\\nCorrect!\")"
   ]
  },
  {
   "cell_type": "markdown",
   "metadata": {},
   "source": [
    "### Exercise 5: Broadcasting & Comparison\n",
    "\n",
    "#### 請實作一個函數 `check_divisible`，給定矩陣 $A$, 以及兩個數字 $i$ 跟 $k$，判斷矩陣 $A + i$ 裡面每一個值會不會被 $k$ 整除，請回傳一個 `boolean` 矩陣\n",
    "\n",
    "> ```python\n",
    "> input:\n",
    ">       i = 5\n",
    ">       k = 5\n",
    ">       A = \n",
    ">         [[ 0  1  2  3  4]\n",
    ">          [ 5  6  7  8  9]\n",
    ">          [10 11 12 13 14]\n",
    ">          [15 16 17 18 19]]\n",
    ">\n",
    "> output:\n",
    ">        [[ True False False False False]\n",
    ">         [ True False False False False]\n",
    ">         [ True False False False False]\n",
    ">         [ True False False False False]]\n",
    "```"
   ]
  },
  {
   "cell_type": "code",
   "execution_count": null,
   "metadata": {},
   "outputs": [],
   "source": [
    "# Exercise 5\n",
    "\n",
    "def check_divisible(A, i, k):\n",
    "    \n",
    "    ### your code here ###\n",
    "    \n",
    "    ######################\n",
    "    \n",
    "    return bool_matrix"
   ]
  },
  {
   "cell_type": "code",
   "execution_count": null,
   "metadata": {},
   "outputs": [],
   "source": [
    "# Test cell: Exercise 5\n",
    "i = 5; k = 5 \n",
    "A = np.arange(20).reshape((4, 5))\n",
    "print('A:\\n', A)\n",
    "print('A + i:\\n', A+i)\n",
    "print('===> check:\\n', check_divisible(A, i, k))\n",
    "assert(check_divisible(A, i, k) == np.array([True, False, False, False, False]*4).reshape((4,5))).all()\n",
    "print('Correct!')"
   ]
  },
  {
   "cell_type": "markdown",
   "metadata": {},
   "source": [
    "# Part 2: Boolean & Masking"
   ]
  },
  {
   "cell_type": "markdown",
   "metadata": {},
   "source": [
    "## 2-1: Comparison\n",
    "\n",
    "- Just like vector operations, we can also do comparison with NumPy very easily.\n",
    "- We have seen that using `+`, `-`, `*`, `/` on arrays perform elment-wise operations. \n",
    "- Comparison operators such as `==`, `!=`, `<`, `>`, `>=`, `<=` also perform element-wise comparison.\n",
    "- You will get another array with a Boolean type data when performing comparison."
   ]
  },
  {
   "cell_type": "code",
   "execution_count": 2,
   "metadata": {},
   "outputs": [
    {
     "name": "stdout",
     "output_type": "stream",
     "text": [
      "[0 1 2 3 4 5 6 7 8 9]\n",
      "[False False False False False False False False False False]\n",
      "[False False False False False False  True  True  True  True]\n"
     ]
    }
   ],
   "source": [
    "x = np.arange(10)\n",
    "print(x)\n",
    "print(x == -1)\n",
    "print(x > 5)"
   ]
  },
  {
   "cell_type": "markdown",
   "metadata": {},
   "source": [
    "### Combining broadcasting and comparison"
   ]
  },
  {
   "cell_type": "code",
   "execution_count": 3,
   "metadata": {},
   "outputs": [
    {
     "name": "stdout",
     "output_type": "stream",
     "text": [
      "[ True  True  True  True False]\n"
     ]
    }
   ],
   "source": [
    "x1 = np.array([2, 4, 6, 8, 10])\n",
    "x2 = np.array([0, 1, 2, 3, 7])\n",
    "print(x1 / 2 == x2 + 1)"
   ]
  },
  {
   "cell_type": "markdown",
   "metadata": {},
   "source": [
    "## 2-2: Boolean\n",
    "\n",
    "- After getting the boolean array, we can make use of the boolean array.\n",
    "- Use `np.any()` or `np.all()` to check the array."
   ]
  },
  {
   "cell_type": "code",
   "execution_count": 4,
   "metadata": {},
   "outputs": [
    {
     "name": "stdout",
     "output_type": "stream",
     "text": [
      "[0 1 2 3 4 5 6 7 8 9]\n",
      "Any entry > 10: False\n",
      "All entry < 10: True\n"
     ]
    }
   ],
   "source": [
    "print(x)\n",
    "print('Any entry > 10:', np.any(x > 10))\n",
    "print('All entry < 10:', np.all(x < 10))"
   ]
  },
  {
   "cell_type": "markdown",
   "metadata": {},
   "source": [
    "### Counting\n",
    "\n",
    "- In the boolean array, `False` is 0 and `True` is 1.\n",
    "- We can now count the number of `True` entries in the boolean array."
   ]
  },
  {
   "cell_type": "code",
   "execution_count": 5,
   "metadata": {},
   "outputs": [
    {
     "name": "stdout",
     "output_type": "stream",
     "text": [
      "[0 1 2 3 4 5 6 7 8 9]\n",
      "Number of entires > 5: 4\n"
     ]
    }
   ],
   "source": [
    "print(x)\n",
    "print('Number of entires > 5:', np.sum(x > 5))"
   ]
  },
  {
   "cell_type": "markdown",
   "metadata": {},
   "source": [
    "### Boolean operators\n",
    "\n",
    "- We can also use **_logic operators_** such as `&(and)`, `|(or)`, `^(xor)`, `~(not)` in NumPy. \n",
    "- And as expected, they also work element-wise on arrays.\n",
    "- **Parentheses** matters!"
   ]
  },
  {
   "cell_type": "markdown",
   "metadata": {},
   "source": [
    "> _Boolean Operations Cheat Sheet_:\n",
    ">\n",
    "> ```python\n",
    ">     # Boolean \"and\"\n",
    ">     assert (0 & 0) == 0  # Also: (False and False) == False\n",
    ">     assert (0 & 1) == 0  #       (False and True)  == True\n",
    ">     assert (1 & 0) == 0  #       (True  and False) == True\n",
    ">     assert (1 & 1) == 1  #       (True  and True)  == True\n",
    ">\n",
    ">     # Boolean \"or\"\n",
    ">     assert (0 | 0) == 0\n",
    ">     assert (0 | 1) == 1\n",
    ">     assert (1 | 0) == 1\n",
    ">     assert (1 | 1) == 1\n",
    ">\n",
    ">     # Boolean \"exclusive-or.\" Same as \"not equal\"\n",
    ">     assert (0 ^ 0) == 0\n",
    ">     assert (0 ^ 1) == 1\n",
    ">     assert (1 ^ 0) == 1\n",
    ">     assert (1 ^ 1) == 0\n",
    "> ```"
   ]
  },
  {
   "cell_type": "code",
   "execution_count": 6,
   "metadata": {},
   "outputs": [
    {
     "data": {
      "text/plain": [
       "array([False, False, False, False, False, False, False, False, False,\n",
       "       False, False,  True,  True,  True,  True,  True,  True,  True,\n",
       "        True,  True,  True,  True,  True,  True,  True,  True,  True,\n",
       "        True,  True,  True, False, False, False, False, False, False,\n",
       "       False, False, False, False, False, False, False, False, False,\n",
       "       False, False, False, False, False], dtype=bool)"
      ]
     },
     "execution_count": 6,
     "metadata": {},
     "output_type": "execute_result"
    }
   ],
   "source": [
    "x = np.arange(50)\n",
    "(x > 10) & (x < 30)      # 同時大於10又小於30"
   ]
  },
  {
   "cell_type": "code",
   "execution_count": 7,
   "metadata": {},
   "outputs": [
    {
     "data": {
      "text/plain": [
       "array([False,  True, False,  True, False,  True, False,  True, False,\n",
       "        True, False,  True, False,  True, False,  True, False,  True,\n",
       "       False,  True, False,  True, False,  True, False,  True, False,\n",
       "        True, False,  True, False,  True, False,  True, False,  True,\n",
       "       False,  True, False,  True, False,  True, False,  True, False,\n",
       "        True, False,  True, False,  True], dtype=bool)"
      ]
     },
     "execution_count": 7,
     "metadata": {},
     "output_type": "execute_result"
    }
   ],
   "source": [
    "(x >= 0) ^ (x % 2 == 0)  # 大於等於0 跟 可以被2整除 只能有其中一個"
   ]
  },
  {
   "cell_type": "markdown",
   "metadata": {},
   "source": [
    "## 2-3: Masking\n",
    "\n",
    "- To select a subsets of the data, we can use boolean arrays as masks.\n",
    "- NumPy index on the boolean array to select the values. (select `True`)\n",
    "\n",
    "### One dimension\n",
    "```python\n",
    "[ 10    20    30    40    50     60    70    80    90    100]\n",
    "[False False False False False  True  True  True  True  True]\n",
    "                               [ 60    70    80    90    100]\n",
    "```"
   ]
  },
  {
   "cell_type": "code",
   "execution_count": 8,
   "metadata": {},
   "outputs": [
    {
     "name": "stdout",
     "output_type": "stream",
     "text": [
      "[ 10  20  30  40  50  60  70  80  90 100]\n",
      "[False False False False False  True  True  True  True  True]\n",
      "\n",
      "subset of data\n",
      "[ 70  80  90 100]\n"
     ]
    }
   ],
   "source": [
    "# one-dimension\n",
    "\n",
    "age = np.arange(10, 110, 10)\n",
    "print(age)\n",
    "print(age > 50)\n",
    "print('\\nsubset of data')\n",
    "mask = age > 60\n",
    "print(age[mask])\n",
    "#print(age[age > 50])"
   ]
  },
  {
   "cell_type": "markdown",
   "metadata": {},
   "source": [
    "### Two-dimension\n",
    "\n",
    "```python\n",
    "grades           \n",
    "           classA  classB  classC\n",
    "Midterm1 [[   37     12      72]\n",
    "Midterm2  [    9     75       5]\n",
    "Final     [   79     64      16]]\n",
    "\n",
    "```\n",
    "\n",
    "```python\n",
    "grades > 60       \n",
    "           classA  classB  classC\n",
    "Midterm1 [[ False   False   True]\n",
    "Midterm2  [ False    True  False]\n",
    "Final     [  True    True  False]]\n",
    "```"
   ]
  },
  {
   "cell_type": "code",
   "execution_count": 9,
   "metadata": {},
   "outputs": [
    {
     "name": "stdout",
     "output_type": "stream",
     "text": [
      "[[False False  True]\n",
      " [False  True False]\n",
      " [ True  True False]]\n",
      "\n",
      "subset of data\n",
      "[72 75 79 64]\n"
     ]
    }
   ],
   "source": [
    "# two-dimension\n",
    "np.random.seed(1)\n",
    "\n",
    "grades = np.random.randint(100, size=(3,3))\n",
    "print(grades > 60)\n",
    "print('\\nsubset of data')\n",
    "print(grades[grades > 60])"
   ]
  },
  {
   "cell_type": "code",
   "execution_count": 10,
   "metadata": {},
   "outputs": [
    {
     "name": "stdout",
     "output_type": "stream",
     "text": [
      "subset of data\n",
      "[72 75 79 64]\n"
     ]
    }
   ],
   "source": [
    "# store boolean array as a mask\n",
    "\n",
    "mask = grades > 60\n",
    "print('subset of data')\n",
    "print(grades[mask])"
   ]
  },
  {
   "cell_type": "markdown",
   "metadata": {},
   "source": [
    "### Exercise: Masking\n",
    "\n",
    "#### 延續Part1 exercise 5 實作的 `check_divisible` 函數，現在我們利用 `check_divisible` 函數得到一個 boolean array之後，我們可以用這個 boolean array 來做 masking，然後取出我們想要的資料 subset。\n",
    "\n",
    "#### 在這個練習，請實作一個 `get_divisible` 函數，同樣給定矩陣 $A$, 以及兩個數字 $i$ 跟 $k$，這個函數會利用 `check_divisible` 回傳給我們的 boolean array 來做 masking，最後會回傳給我們矩陣 $A+i$ 內可以被 $k$ 整除的數字。\n",
    "\n",
    "> ```python\n",
    "> input:\n",
    ">       i = 5\n",
    ">       k = 5\n",
    ">       A = \n",
    ">         [[ 0  1  2  3  4]\n",
    ">          [ 5  6  7  8  9]\n",
    ">          [10 11 12 13 14]\n",
    ">          [15 16 17 18 19]]\n",
    ">\n",
    "> output: divisible subset: [ 5 10 15 20]\n",
    "```"
   ]
  },
  {
   "cell_type": "code",
   "execution_count": null,
   "metadata": {},
   "outputs": [],
   "source": [
    "# Part2 Exercise\n",
    "\n",
    "def get_divisible(A, i, k):\n",
    "\n",
    "    matrix = A + i\n",
    "    mask = check_divisible(A, i, k)\n",
    "    \n",
    "    ### your code here ###\n",
    "    \n",
    "    ######################\n",
    "    \n",
    "    return divisible_subset"
   ]
  },
  {
   "cell_type": "code",
   "execution_count": null,
   "metadata": {},
   "outputs": [],
   "source": [
    "# Test cell: Part2 Exercise\n",
    "\n",
    "A = np.arange(20).reshape((4, 5)); i = 5; k = 5\n",
    "print(\"A:\\n\", A)\n",
    "print(\"A + i:\\n\", A+i)\n",
    "print(\"mask:\\n\", check_divisible(A, i, k))\n",
    "print(\"==> divisible subset:\", get_divisible(A, i, k))\n",
    "\n",
    "assert((get_divisible(A, i, k) == np.array([i*5 for i in range(1,5)]))).all()\n",
    "print('Correct!')"
   ]
  },
  {
   "cell_type": "markdown",
   "metadata": {},
   "source": [
    "# Part 3: Case Study - Markov Chain 馬可夫鏈\n",
    "\n",
    "__Markov Chain Visualization__: http://setosa.io/ev/markov-chains/\n",
    "\n",
    "### 人口遷移\n",
    "\n",
    "假設你現在是ccClub小鎮的鎮長，你發現小鎮好像有人口外移的情況發生，但是每年也有其他大城市的居民搬過來ccClub小鎮定居，作為一個英明的鎮長，你想知道小鎮未來幾年的人口變化，以及未來長期的人口趨勢以便規劃未來小鎮的施政政策。\n",
    "\n",
    "為了分析這個問題，你聘請了專家好好調查了一番後，得到了ccClub小鎮及其鄰近大城市的人口遷移狀況，現在我們已知每年住在ccClub小鎮裡的人有 $70％$ 的機率繼續留在ccClub小鎮裡，然後有 $30％$ 的居民會搬走；而其他城市的人有 $80％$ 的機率繼續留在原本的城市，有 $20％$ 的機率搬到ccClub小鎮裡。\n",
    "\n",
    "現在我們可以用矩陣的方式，來表示以上的人口遷移機率，這個矩陣也叫做轉移矩陣 (transition matrix)。\n",
    "\n",
    ">```text\n",
    ">   transition matrix:\n",
    ">\n",
    ">            ccClub     other\n",
    ">         |    70%   |    20%   | ccClub\n",
    ">    P  = | -------- | -------- |             \n",
    ">         |    30%   |    80%   | other\n",
    ">\n",
    ">```\n",
    "\n",
    "接下來，我們已經知道ccClub小鎮的人口以及附近城市的人口，這個人口數可以寫成一個向量(vector)，這個矩陣也叫做初始狀態 (initial state)。\n",
    "\n",
    ">```text\n",
    ">   initial state:\n",
    ">\n",
    ">   x0  = [1000, 5000]\n",
    ">```"
   ]
  },
  {
   "cell_type": "markdown",
   "metadata": {},
   "source": [
    "### 計算一年後的人口變化\n",
    "\n",
    "有了轉移矩陣跟初始狀態之後，我們就能計算下一年的人口變化，下一年的人口變化就是轉移矩陣與初始狀態的內積\n",
    "\n",
    ">```text\n",
    ">   一年後人口狀態:\n",
    ">\n",
    ">         \n",
    ">              |    70%   |    20%   |   [1000       [ccClub人口 (1700)\n",
    ">    P * x0  = | -------- | -------- | *         =   \n",
    ">              |    30%   |    80%   |    5000]      其他城市人口 (4300)]\n",
    ">\n",
    ">```"
   ]
  },
  {
   "cell_type": "code",
   "execution_count": null,
   "metadata": {},
   "outputs": [],
   "source": [
    "# 一年後的人口狀態\n",
    "\n",
    "P  = np.array([[0.7, 0.2], [0.3, 0.8]])\n",
    "x0 = np.array([1000, 5000]).reshape((1, 2))\n",
    "\n",
    "### your code here ###\n",
    "\n",
    "######################\n",
    "\n",
    "print('population one year later:\\n', x1)\n"
   ]
  },
  {
   "cell_type": "markdown",
   "metadata": {},
   "source": [
    "### 計算長期穩定人口狀態\n",
    "\n",
    "有了轉移矩陣跟初始狀態，我們就可以計算之後每一年的人口變化，下一個時間點的人口狀態 $x_i(t+1)$，就是上一個時間點的人口狀態乘上轉移矩陣的機率\n",
    "\n",
    "$$\n",
    "  x_i(t+1) = \\sum_{j=0}^{n-1} p_{ji} \\cdot x_j(t).\n",
    "$$\n",
    "\n",
    "轉移矩陣有一個特性，因為轉移矩陣是機率，所以裡面每一行的和都是 $1$，根據馬可夫鏈的原理，人口遷移經過長時間的改變之後，會趨於一個穩定的狀態 (steady-state distributioin)，$Px^* = x^*$，這個穩定狀態 $x^*$ 可以用來告訴我們一個地方人口的長期穩定狀態\n",
    "\n",
    "$$\\displaystyle \\lim_{t \\rightarrow \\infty} x(t) = x^* \\equiv [x_i^*].$$\n",
    "\n",
    "根據以上的定義，我們就可以得知ccClub小鎮未來穩定的人口狀態會長怎麼樣了！"
   ]
  },
  {
   "cell_type": "code",
   "execution_count": null,
   "metadata": {},
   "outputs": [],
   "source": [
    "# 長期穩定人口狀態\n",
    "\n",
    "def markov_chain(P, x0, t):\n",
    "    x = x0.T\n",
    "    \n",
    "    ### your code here ###\n",
    "    \n",
    "    ######################\n",
    "    \n",
    "    # x = x.astype(int)   把 x 改成整數可以用 astype()\n",
    "    \n",
    "    return x\n"
   ]
  },
  {
   "cell_type": "code",
   "execution_count": null,
   "metadata": {},
   "outputs": [],
   "source": [
    "P  = np.array([[0.7, 0.2], [0.3, 0.8]])\n",
    "x0 = np.array([1000, 5000]).reshape((1, 2))\n",
    "\n",
    "print('population one year later:\\n', markov_chain(P, x0, 1))\n",
    "print('\\npopulation five years later:\\n', markov_chain(P, x0, 5))\n",
    "print('\\npopulation ten years later:\\n', markov_chain(P, x0, 10))\n",
    "print('\\npopulation twenty years later:\\n', markov_chain(P, x0, 20))\n",
    "print('\\npopulation fifty years later:\\n', markov_chain(P, x0, 50))\n",
    "print('\\npopulation a hundred years later:\\n', markov_chain(P, x0, 100))\n",
    "print('\\npopulation a thousand years later:\\n', markov_chain(P, x0, 1000))"
   ]
  },
  {
   "cell_type": "markdown",
   "metadata": {},
   "source": [
    "### 其他應用\n",
    "\n",
    "馬可夫鏈可以被用在很多其他地方，例如我們也可以用馬可夫鏈來預估品牌的市佔率 (market share)\n",
    "\n",
    "#### 市佔率\n",
    "假設我們知道兩個品牌 Pepsi 跟 Coke 目前的市佔率，若我們可以得知從 Pepsi 改喝 Coke 的機率以及從 Coke 改喝 Pepsi 的機率，我們就可以預估兩個品牌的長期市佔率\n",
    "\n",
    "\n",
    "#### Google Page Rank\n",
    "![](https://www.clear.rice.edu/comp130/12spring/pagerank/pagerank.png)"
   ]
  },
  {
   "cell_type": "markdown",
   "metadata": {},
   "source": [
    "# Part 4: Case Study - Boston Housing Data\n",
    "\n",
    "兩個讀data的方法：\n",
    "\n",
    "1. install sklearn 套件\n",
    ">```text\n",
    "> pip install sklearn\n",
    "> pip install scipy\n",
    ">```\n",
    "\n",
    "2. 從csv檔案裡面讀進來"
   ]
  },
  {
   "cell_type": "markdown",
   "metadata": {},
   "source": [
    "畫圖的套件：\n",
    "> pip install matplotlib"
   ]
  },
  {
   "cell_type": "code",
   "execution_count": 11,
   "metadata": {},
   "outputs": [],
   "source": [
    "%matplotlib inline\n",
    "import matplotlib.pyplot as plt"
   ]
  },
  {
   "cell_type": "markdown",
   "metadata": {},
   "source": [
    "### 從Sklearn讀檔案"
   ]
  },
  {
   "cell_type": "code",
   "execution_count": 12,
   "metadata": {
    "scrolled": true
   },
   "outputs": [
    {
     "name": "stdout",
     "output_type": "stream",
     "text": [
      "Boston House Prices dataset\n",
      "===========================\n",
      "\n",
      "Notes\n",
      "------\n",
      "Data Set Characteristics:  \n",
      "\n",
      "    :Number of Instances: 506 \n",
      "\n",
      "    :Number of Attributes: 13 numeric/categorical predictive\n",
      "    \n",
      "    :Median Value (attribute 14) is usually the target\n",
      "\n",
      "    :Attribute Information (in order):\n",
      "        - CRIM     per capita crime rate by town\n",
      "        - ZN       proportion of residential land zoned for lots over 25,000 sq.ft.\n",
      "        - INDUS    proportion of non-retail business acres per town\n",
      "        - CHAS     Charles River dummy variable (= 1 if tract bounds river; 0 otherwise)\n",
      "        - NOX      nitric oxides concentration (parts per 10 million)\n",
      "        - RM       average number of rooms per dwelling\n",
      "        - AGE      proportion of owner-occupied units built prior to 1940\n",
      "        - DIS      weighted distances to five Boston employment centres\n",
      "        - RAD      index of accessibility to radial highways\n",
      "        - TAX      full-value property-tax rate per $10,000\n",
      "        - PTRATIO  pupil-teacher ratio by town\n",
      "        - B        1000(Bk - 0.63)^2 where Bk is the proportion of blacks by town\n",
      "        - LSTAT    % lower status of the population\n",
      "        - MEDV     Median value of owner-occupied homes in $1000's\n",
      "\n",
      "    :Missing Attribute Values: None\n",
      "\n",
      "    :Creator: Harrison, D. and Rubinfeld, D.L.\n",
      "\n",
      "This is a copy of UCI ML housing dataset.\n",
      "http://archive.ics.uci.edu/ml/datasets/Housing\n",
      "\n",
      "\n",
      "This dataset was taken from the StatLib library which is maintained at Carnegie Mellon University.\n",
      "\n",
      "The Boston house-price data of Harrison, D. and Rubinfeld, D.L. 'Hedonic\n",
      "prices and the demand for clean air', J. Environ. Economics & Management,\n",
      "vol.5, 81-102, 1978.   Used in Belsley, Kuh & Welsch, 'Regression diagnostics\n",
      "...', Wiley, 1980.   N.B. Various transformations are used in the table on\n",
      "pages 244-261 of the latter.\n",
      "\n",
      "The Boston house-price data has been used in many machine learning papers that address regression\n",
      "problems.   \n",
      "     \n",
      "**References**\n",
      "\n",
      "   - Belsley, Kuh & Welsch, 'Regression diagnostics: Identifying Influential Data and Sources of Collinearity', Wiley, 1980. 244-261.\n",
      "   - Quinlan,R. (1993). Combining Instance-Based and Model-Based Learning. In Proceedings on the Tenth International Conference of Machine Learning, 236-243, University of Massachusetts, Amherst. Morgan Kaufmann.\n",
      "   - many more! (see http://archive.ics.uci.edu/ml/datasets/Housing)\n",
      "\n"
     ]
    }
   ],
   "source": [
    "from sklearn import datasets\n",
    "\n",
    "# load the entire house-prices dataset.\n",
    "boston = datasets.load_boston()\n",
    "\n",
    "# DESCRIPTION of the dataset\n",
    "print(boston.DESCR)\n",
    "\n",
    "# load data\n",
    "boston_data = boston.data"
   ]
  },
  {
   "cell_type": "markdown",
   "metadata": {},
   "source": [
    "### 從csv讀檔案"
   ]
  },
  {
   "cell_type": "code",
   "execution_count": 13,
   "metadata": {},
   "outputs": [],
   "source": [
    "boston_data = np.loadtxt('data/boston_dataset.csv', delimiter=\",\")"
   ]
  },
  {
   "cell_type": "markdown",
   "metadata": {},
   "source": [
    "### 先來看一下資料長怎樣\n",
    "\n",
    "直接印出來好像也看不出個所以然..."
   ]
  },
  {
   "cell_type": "code",
   "execution_count": 14,
   "metadata": {},
   "outputs": [
    {
     "name": "stdout",
     "output_type": "stream",
     "text": [
      "[[  6.32000000e-03   1.80000000e+01   2.31000000e+00 ...,   1.53000000e+01\n",
      "    3.96900000e+02   4.98000000e+00]\n",
      " [  2.73100000e-02   0.00000000e+00   7.07000000e+00 ...,   1.78000000e+01\n",
      "    3.96900000e+02   9.14000000e+00]\n",
      " [  2.72900000e-02   0.00000000e+00   7.07000000e+00 ...,   1.78000000e+01\n",
      "    3.92830000e+02   4.03000000e+00]\n",
      " ..., \n",
      " [  6.07600000e-02   0.00000000e+00   1.19300000e+01 ...,   2.10000000e+01\n",
      "    3.96900000e+02   5.64000000e+00]\n",
      " [  1.09590000e-01   0.00000000e+00   1.19300000e+01 ...,   2.10000000e+01\n",
      "    3.93450000e+02   6.48000000e+00]\n",
      " [  4.74100000e-02   0.00000000e+00   1.19300000e+01 ...,   2.10000000e+01\n",
      "    3.96900000e+02   7.88000000e+00]]\n"
     ]
    }
   ],
   "source": [
    "print(boston_data)"
   ]
  },
  {
   "cell_type": "code",
   "execution_count": null,
   "metadata": {
    "scrolled": true
   },
   "outputs": [],
   "source": [
    "# Exercise:\n",
    "\n",
    "### your code here ###\n",
    "ndim = \n",
    "shape = \n",
    "size = \n",
    "######################\n",
    "\n",
    "print('The dimension of this dataset:', ndim)\n",
    "print('The shape of this dataset:', shape)\n",
    "print('The size of this dataset:', size)"
   ]
  },
  {
   "cell_type": "markdown",
   "metadata": {},
   "source": [
    "### 高檔查爾斯河邊的房子有幾間?\n",
    "<img src='http://cdn1.bostonmagazine.com/wp-content/uploads/2016/06/Charles_River-e1465579446224.jpg' width='500')>"
   ]
  },
  {
   "cell_type": "code",
   "execution_count": null,
   "metadata": {},
   "outputs": [],
   "source": [
    "# Charles River dummy variable (= 1 if tract bounds river; 0 otherwise)\n",
    "\n",
    "### your code here ###\n",
    "river_dummy =              # the 4rd column (start from 0)\n",
    "next_to_river =            # how many are next to river\n",
    "######################\n",
    "\n",
    "percent = (next_to_river / boston_data.shape[0]) * 100\n",
    "\n",
    "print('Houses next to the beautiful Charles River:', next_to_river)\n",
    "print('But... It is only %.2f percent.' %percent)"
   ]
  },
  {
   "cell_type": "markdown",
   "metadata": {},
   "source": [
    "### 一個人平均有幾間房間?"
   ]
  },
  {
   "cell_type": "code",
   "execution_count": null,
   "metadata": {},
   "outputs": [],
   "source": [
    "# average number of rooms per dwelling\n",
    "\n",
    "### your code here ###\n",
    "room =                   # the sixth column\n",
    "min_room =               # the minimum  \n",
    "avg_room =               # the average \n",
    "max_room =               # the maximum\n",
    "######################\n",
    "\n",
    "print('Min:', min_room)\n",
    "print('Mean:', avg_room)\n",
    "print('Max:', max_room)"
   ]
  },
  {
   "cell_type": "markdown",
   "metadata": {},
   "source": [
    "### 社經地位"
   ]
  },
  {
   "cell_type": "code",
   "execution_count": null,
   "metadata": {},
   "outputs": [],
   "source": [
    "# socio-economic status (% lower status of the population)\n",
    "\n",
    "### your code here ###\n",
    "percent_low_status =             # the 13 column\n",
    "min_percent_low_status = \n",
    "avg_percent_low_status = \n",
    "max_percent_low_status = \n",
    "######################\n",
    "\n",
    "print('Min: %.2f percent' %min_percent_low_status)\n",
    "print('Mean: %.2f percent' %avg_percent_low_status)\n",
    "print('Max: %.2f percent' %max_percent_low_status)"
   ]
  },
  {
   "cell_type": "markdown",
   "metadata": {},
   "source": [
    "### 犯罪率"
   ]
  },
  {
   "cell_type": "code",
   "execution_count": null,
   "metadata": {},
   "outputs": [],
   "source": [
    "# crime rate (per capita crime rate by town)\n",
    "\n",
    "### your code here ###\n",
    "crime_rate =                     # the 1st column\n",
    "min_crime = \n",
    "avg_crime = \n",
    "max_crime = \n",
    "######################\n",
    "\n",
    "print('Min: %.2f percent' %min_crime)\n",
    "print('Mean: %.2f percent' %avg_crime)\n",
    "print('Max: %.2f percent' %max_crime)"
   ]
  },
  {
   "cell_type": "code",
   "execution_count": null,
   "metadata": {},
   "outputs": [],
   "source": [
    "%matplotlib inline\n",
    "import matplotlib.pyplot as plt\n",
    "\n",
    "plt.hist(crime_rate, bins = 10, color='LightBlue')\n",
    "plt.title('Per Capita Crime Rate')\n",
    "plt.xlabel('percent')\n",
    "plt.ylabel('count')\n",
    "1"
   ]
  },
  {
   "cell_type": "markdown",
   "metadata": {},
   "source": [
    "### 有多少房子位在高犯罪率的地方?"
   ]
  },
  {
   "cell_type": "code",
   "execution_count": null,
   "metadata": {},
   "outputs": [],
   "source": [
    "# 取出高犯罪率的資料 (需要包含所有欄位)\n",
    "\n",
    "high = 10\n",
    "\n",
    "### your code here ###\n",
    "is_high =                              # crime rate higher than `high`, a boolean array \n",
    "high_crime_rate_house =                # entire subset of data with high crime rate\n",
    "######################\n",
    "\n",
    "print('%.2f percent of the houses locate in the high crime rate areas.' \n",
    "      %(len(high_crime_rate_house) / boston_data.shape[0] * 100))"
   ]
  },
  {
   "cell_type": "markdown",
   "metadata": {},
   "source": [
    "### 社經地位 vs 犯罪率"
   ]
  },
  {
   "cell_type": "code",
   "execution_count": null,
   "metadata": {},
   "outputs": [],
   "source": [
    "# 取出高犯罪率data裡面社經地位的那一個欄位\n",
    "\n",
    "### your code here ###\n",
    "low_status_high_crime =               # the 13rd column\n",
    "######################\n",
    "\n",
    "print('Min: %.2f percent' %low_status_high_crime.min())\n",
    "print('Mean: %.2f percent' %low_status_high_crime.mean())\n",
    "print('Max: %.2f percent' %low_status_high_crime.max())"
   ]
  },
  {
   "cell_type": "code",
   "execution_count": null,
   "metadata": {},
   "outputs": [],
   "source": [
    "plt.hist(low_status_high_crime, bins = 20, color='LightBlue')\n",
    "plt.title('High Crime Rate with % Low Status')\n",
    "plt.xlabel('% low status')\n",
    "plt.ylabel('Count')\n",
    "1"
   ]
  },
  {
   "cell_type": "markdown",
   "metadata": {},
   "source": [
    "## 房價資料"
   ]
  },
  {
   "cell_type": "markdown",
   "metadata": {},
   "source": [
    "### 從Sklearn讀資料"
   ]
  },
  {
   "cell_type": "code",
   "execution_count": 15,
   "metadata": {},
   "outputs": [
    {
     "name": "stdout",
     "output_type": "stream",
     "text": [
      "(506,)\n"
     ]
    }
   ],
   "source": [
    "# load housing price data from sklearn\n",
    "price = boston.target\n",
    "print(price.shape)"
   ]
  },
  {
   "cell_type": "markdown",
   "metadata": {},
   "source": [
    "### 從csv讀資料"
   ]
  },
  {
   "cell_type": "code",
   "execution_count": 16,
   "metadata": {},
   "outputs": [
    {
     "name": "stdout",
     "output_type": "stream",
     "text": [
      "(506,)\n"
     ]
    }
   ],
   "source": [
    "# load housing price data from csv file\n",
    "price = np.loadtxt('data/boston_dataset_price.csv', delimiter=\",\")\n",
    "print(price.shape)"
   ]
  },
  {
   "cell_type": "code",
   "execution_count": 17,
   "metadata": {},
   "outputs": [
    {
     "name": "stdout",
     "output_type": "stream",
     "text": [
      "(506, 1)\n"
     ]
    }
   ],
   "source": [
    "# re-shape the data\n",
    "price = price.reshape((price.shape[0], 1))\n",
    "print(price.shape)"
   ]
  },
  {
   "cell_type": "code",
   "execution_count": null,
   "metadata": {},
   "outputs": [],
   "source": [
    "# house price ($1000's)\n",
    "\n",
    "### your code here ###\n",
    "min_price = \n",
    "avg_price = \n",
    "max_price = \n",
    "#####################\n",
    "\n",
    "print('Min of the housing price: $%.2f' %(min_price * 1000))\n",
    "print('Mean of the housing price: $%.2f' %(avg_price * 1000))\n",
    "print('Max of the housing price: $%.2f' %(max_price * 1000))"
   ]
  },
  {
   "cell_type": "markdown",
   "metadata": {},
   "source": [
    "### 房價分佈"
   ]
  },
  {
   "cell_type": "code",
   "execution_count": 18,
   "metadata": {},
   "outputs": [
    {
     "data": {
      "image/png": "[encoded data removed]",
      "text/plain": [
       "<matplotlib.figure.Figure at 0x105203eb8>"
      ]
     },
     "metadata": {},
     "output_type": "display_data"
    }
   ],
   "source": [
    "%matplotlib inline\n",
    "import matplotlib.pyplot as plt\n",
    "plt.hist(price, bins = 50, color='LightBlue')\n",
    "plt.title('Housing Price')\n",
    "plt.xlabel(\"$1000's\")\n",
    "plt.ylabel('Count');"
   ]
  },
  {
   "cell_type": "markdown",
   "metadata": {},
   "source": [
    "### 社經地位是否會影響房價?"
   ]
  },
  {
   "cell_type": "code",
   "execution_count": null,
   "metadata": {},
   "outputs": [],
   "source": [
    "# 低社經地位的平均值\n",
    "\n",
    "avg_percent_low_status = percent_low_status.mean()\n",
    "print('Mean of % low status:', avg_percent_low_status)"
   ]
  },
  {
   "cell_type": "code",
   "execution_count": null,
   "metadata": {},
   "outputs": [],
   "source": [
    "mean = 12\n",
    "\n",
    "### your code here ###\n",
    "better_neighbor =                       # house price whose % low status is lower than mean\n",
    "avg_price_better_neighbor = \n",
    "\n",
    "worse_neighbor =                        # house price whose % low status is high than mean\n",
    "avg_price_worse_neighbor = \n",
    "######################\n",
    "\n",
    "print('Average housing price with a lower % of low status: $', \n",
    "      (avg_price_better_neighbor  * 1000))\n",
    "print('Average housing price with a higher % of low status: $', \n",
    "      (avg_price_worse_neighbor * 1000))"
   ]
  },
  {
   "cell_type": "code",
   "execution_count": null,
   "metadata": {},
   "outputs": [],
   "source": [
    "import matplotlib.pyplot as plt \n",
    "plt.scatter(percent_low_status, price, color='LightBlue')\n",
    "plt.xlabel('Percentage low incocme status')\n",
    "plt.ylabel('Price (1000)')\n",
    "plt.title('Price VS Percentage low income status')"
   ]
  },
  {
   "cell_type": "markdown",
   "metadata": {},
   "source": [
    "**Congrats! You are done.**"
   ]
  },
  {
   "cell_type": "code",
   "execution_count": null,
   "metadata": {},
   "outputs": [],
   "source": []
  }
 ],
 "metadata": {
  "kernelspec": {
   "display_name": "Python 3",
   "language": "python",
   "name": "python3"
  },
  "language_info": {
   "codemirror_mode": {
    "name": "ipython",
    "version": 3
   },
   "file_extension": ".py",
   "mimetype": "text/x-python",
   "name": "python",
   "nbconvert_exporter": "python",
   "pygments_lexer": "ipython3",
   "version": "3.6.2"
  }
 },
 "nbformat": 4,
 "nbformat_minor": 2
}
